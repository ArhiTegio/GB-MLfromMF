{
 "cells": [
  {
   "cell_type": "code",
   "execution_count": 8,
   "id": "8cf0799d",
   "metadata": {},
   "outputs": [
    {
     "name": "stdout",
     "output_type": "stream",
     "text": [
      "Collecting catboost\n",
      "  Downloading catboost-0.26-cp38-none-win_amd64.whl (68.4 MB)\n",
      "Requirement already satisfied: numpy>=1.16.0 in c:\\users\\arhio\\anaconda3\\lib\\site-packages (from catboost) (1.20.1)\n",
      "Requirement already satisfied: scipy in c:\\users\\arhio\\anaconda3\\lib\\site-packages (from catboost) (1.6.2)\n",
      "Requirement already satisfied: matplotlib in c:\\users\\arhio\\anaconda3\\lib\\site-packages (from catboost) (3.3.4)\n",
      "Collecting plotly\n",
      "  Downloading plotly-4.14.3-py2.py3-none-any.whl (13.2 MB)\n",
      "Requirement already satisfied: six in c:\\users\\arhio\\anaconda3\\lib\\site-packages (from catboost) (1.15.0)\n",
      "Requirement already satisfied: pandas>=0.24.0 in c:\\users\\arhio\\anaconda3\\lib\\site-packages (from catboost) (1.2.4)\n",
      "Collecting graphviz\n",
      "  Downloading graphviz-0.16-py2.py3-none-any.whl (19 kB)\n",
      "Requirement already satisfied: pytz>=2017.3 in c:\\users\\arhio\\anaconda3\\lib\\site-packages (from pandas>=0.24.0->catboost) (2021.1)\n",
      "Requirement already satisfied: python-dateutil>=2.7.3 in c:\\users\\arhio\\anaconda3\\lib\\site-packages (from pandas>=0.24.0->catboost) (2.8.1)\n",
      "Requirement already satisfied: kiwisolver>=1.0.1 in c:\\users\\arhio\\anaconda3\\lib\\site-packages (from matplotlib->catboost) (1.3.1)\n",
      "Requirement already satisfied: pillow>=6.2.0 in c:\\users\\arhio\\anaconda3\\lib\\site-packages (from matplotlib->catboost) (8.2.0)\n",
      "Requirement already satisfied: cycler>=0.10 in c:\\users\\arhio\\anaconda3\\lib\\site-packages (from matplotlib->catboost) (0.10.0)\n",
      "Requirement already satisfied: pyparsing!=2.0.4,!=2.1.2,!=2.1.6,>=2.0.3 in c:\\users\\arhio\\anaconda3\\lib\\site-packages (from matplotlib->catboost) (2.4.7)\n",
      "Collecting retrying>=1.3.3\n",
      "  Downloading retrying-1.3.3.tar.gz (10 kB)\n",
      "Building wheels for collected packages: retrying\n",
      "  Building wheel for retrying (setup.py): started\n",
      "  Building wheel for retrying (setup.py): finished with status 'done'\n",
      "  Created wheel for retrying: filename=retrying-1.3.3-py3-none-any.whl size=11429 sha256=d206179e8ece4e0267d76ad08f7229c21f4d09871c0ebab895795290874061e8\n",
      "  Stored in directory: c:\\users\\arhio\\appdata\\local\\pip\\cache\\wheels\\c4\\a7\\48\\0a434133f6d56e878ca511c0e6c38326907c0792f67b476e56\n",
      "Successfully built retrying\n",
      "Installing collected packages: retrying, plotly, graphviz, catboost\n",
      "Successfully installed catboost-0.26 graphviz-0.16 plotly-4.14.3 retrying-1.3.3\n"
     ]
    }
   ],
   "source": [
    "!pip install catboost"
   ]
  },
  {
   "cell_type": "code",
   "execution_count": 9,
   "id": "494da5ba",
   "metadata": {},
   "outputs": [
    {
     "name": "stdout",
     "output_type": "stream",
     "text": [
      "Collecting lightgbm\n",
      "  Downloading lightgbm-3.2.1-py3-none-win_amd64.whl (1.0 MB)\n",
      "Requirement already satisfied: scipy in c:\\users\\arhio\\anaconda3\\lib\\site-packages (from lightgbm) (1.6.2)\n",
      "Requirement already satisfied: scikit-learn!=0.22.0 in c:\\users\\arhio\\anaconda3\\lib\\site-packages (from lightgbm) (0.24.1)\n",
      "Requirement already satisfied: wheel in c:\\users\\arhio\\anaconda3\\lib\\site-packages (from lightgbm) (0.36.2)\n",
      "Requirement already satisfied: numpy in c:\\users\\arhio\\anaconda3\\lib\\site-packages (from lightgbm) (1.20.1)\n",
      "Requirement already satisfied: joblib>=0.11 in c:\\users\\arhio\\anaconda3\\lib\\site-packages (from scikit-learn!=0.22.0->lightgbm) (1.0.1)\n",
      "Requirement already satisfied: threadpoolctl>=2.0.0 in c:\\users\\arhio\\anaconda3\\lib\\site-packages (from scikit-learn!=0.22.0->lightgbm) (2.1.0)\n",
      "Installing collected packages: lightgbm\n",
      "Successfully installed lightgbm-3.2.1\n"
     ]
    }
   ],
   "source": [
    "!pip install lightgbm"
   ]
  },
  {
   "cell_type": "code",
   "execution_count": 10,
   "id": "b1f66285",
   "metadata": {},
   "outputs": [
    {
     "name": "stdout",
     "output_type": "stream",
     "text": [
      "Collecting xgboost\n",
      "  Downloading xgboost-1.4.2-py3-none-win_amd64.whl (97.8 MB)\n",
      "Requirement already satisfied: numpy in c:\\users\\arhio\\anaconda3\\lib\\site-packages (from xgboost) (1.20.1)\n",
      "Requirement already satisfied: scipy in c:\\users\\arhio\\anaconda3\\lib\\site-packages (from xgboost) (1.6.2)\n",
      "Installing collected packages: xgboost\n",
      "Successfully installed xgboost-1.4.2\n"
     ]
    }
   ],
   "source": [
    "!pip install xgboost"
   ]
  },
  {
   "cell_type": "code",
   "execution_count": 40,
   "id": "ea150a95",
   "metadata": {},
   "outputs": [
    {
     "name": "stdout",
     "output_type": "stream",
     "text": [
      "Collecting pyarrow\n",
      "  Downloading pyarrow-4.0.1-cp38-cp38-win_amd64.whl (13.3 MB)\n",
      "Requirement already satisfied: numpy>=1.16.6 in c:\\users\\arhio\\anaconda3\\lib\\site-packages (from pyarrow) (1.20.1)\n",
      "Installing collected packages: pyarrow\n",
      "Successfully installed pyarrow-4.0.1\n"
     ]
    }
   ],
   "source": [
    "!pip install pyarrow"
   ]
  },
  {
   "cell_type": "code",
   "execution_count": 46,
   "id": "a4cb0193",
   "metadata": {},
   "outputs": [
    {
     "name": "stdout",
     "output_type": "stream",
     "text": [
      "Collecting multiprocess\n",
      "  Downloading multiprocess-0.70.11.1-py38-none-any.whl (126 kB)\n",
      "Collecting dill>=0.3.3\n",
      "  Downloading dill-0.3.3-py2.py3-none-any.whl (81 kB)\n",
      "Installing collected packages: dill, multiprocess\n",
      "Successfully installed dill-0.3.3 multiprocess-0.70.11.1\n"
     ]
    }
   ],
   "source": [
    "!pip install multiprocess"
   ]
  },
  {
   "cell_type": "code",
   "execution_count": 122,
   "id": "1ffb5a4f",
   "metadata": {},
   "outputs": [
    {
     "name": "stdout",
     "output_type": "stream",
     "text": [
      "Requirement already satisfied: Image in c:\\users\\arhio\\anaconda3\\lib\\site-packages (1.5.33)\n",
      "Requirement already satisfied: six in c:\\users\\arhio\\anaconda3\\lib\\site-packages (from Image) (1.15.0)\n",
      "Requirement already satisfied: pillow in c:\\users\\arhio\\anaconda3\\lib\\site-packages (from Image) (8.2.0)\n",
      "Requirement already satisfied: django in c:\\users\\arhio\\anaconda3\\lib\\site-packages (from Image) (3.2.4)\n",
      "Requirement already satisfied: sqlparse>=0.2.2 in c:\\users\\arhio\\anaconda3\\lib\\site-packages (from django->Image) (0.4.1)\n",
      "Requirement already satisfied: pytz in c:\\users\\arhio\\anaconda3\\lib\\site-packages (from django->Image) (2021.1)\n",
      "Requirement already satisfied: asgiref<4,>=3.3.2 in c:\\users\\arhio\\anaconda3\\lib\\site-packages (from django->Image) (3.3.4)\n"
     ]
    }
   ],
   "source": [
    "!pip install Image"
   ]
  },
  {
   "cell_type": "code",
   "execution_count": 1,
   "id": "89dcbc89",
   "metadata": {},
   "outputs": [],
   "source": [
    "import warnings\n",
    "warnings.filterwarnings(\"ignore\")"
   ]
  },
  {
   "cell_type": "code",
   "execution_count": 2,
   "id": "386750c5",
   "metadata": {},
   "outputs": [],
   "source": [
    "import pickle\n",
    "import pandas as pd\n",
    "import numpy as np\n",
    "\n",
    "import seaborn as sns\n",
    "import matplotlib.pyplot as plt\n",
    "\n",
    "from sklearn.model_selection import train_test_split\n",
    "from sklearn.metrics import recall_score, precision_score, roc_auc_score, accuracy_score, f1_score\n",
    "from sklearn.preprocessing import LabelEncoder\n",
    "\n",
    "import dask.dataframe as dd\n",
    "from dask.delayed import delayed\n",
    "from dask.distributed import Client\n",
    "\n",
    "import sklearn\n",
    "from sklearn.model_selection import KFold\n",
    "from sklearn.model_selection import cross_validate\n",
    "\n",
    "from scipy import stats"
   ]
  },
  {
   "cell_type": "code",
   "execution_count": 3,
   "id": "32faa4d8",
   "metadata": {},
   "outputs": [
    {
     "name": "stdout",
     "output_type": "stream",
     "text": [
      "The scikit-learn version is 0.24.1.\n"
     ]
    }
   ],
   "source": [
    "print('The scikit-learn version is {}.'.format(sklearn.__version__))"
   ]
  },
  {
   "cell_type": "code",
   "execution_count": 4,
   "id": "d0870616",
   "metadata": {},
   "outputs": [],
   "source": [
    "from sklearn.pipeline import Pipeline, FeatureUnion, make_pipeline\n",
    "from sklearn.preprocessing import StandardScaler, OneHotEncoder\n",
    "from sklearn.impute import SimpleImputer\n",
    "from sklearn.base import BaseEstimator, TransformerMixin"
   ]
  },
  {
   "cell_type": "code",
   "execution_count": 5,
   "id": "cc837191",
   "metadata": {},
   "outputs": [],
   "source": [
    "from sklearn.linear_model import LogisticRegression\n",
    "from sklearn.ensemble import AdaBoostClassifier\n",
    "from sklearn.neighbors import KNeighborsClassifier\n",
    "from sklearn.ensemble import RandomForestClassifier\n",
    "from catboost import CatBoostClassifier\n",
    "import lightgbm as lgbm\n",
    "import xgboost as xgb"
   ]
  },
  {
   "cell_type": "markdown",
   "id": "66caac4b",
   "metadata": {},
   "source": [
    "<h2>Обработка данных</h2>"
   ]
  },
  {
   "cell_type": "code",
   "execution_count": 6,
   "id": "fd2b57fe",
   "metadata": {},
   "outputs": [],
   "source": [
    "train = pd.read_csv(\"Data/data_train.csv\", index_col=0)\n",
    "test = pd.read_csv(\"Data/data_test.csv\", index_col=0)"
   ]
  },
  {
   "cell_type": "code",
   "execution_count": 7,
   "id": "3208f1f0",
   "metadata": {},
   "outputs": [
    {
     "name": "stdout",
     "output_type": "stream",
     "text": [
      "<class 'pandas.core.frame.DataFrame'>\n",
      "Int64Index: 831653 entries, 0 to 831652\n",
      "Data columns (total 4 columns):\n",
      " #   Column    Non-Null Count   Dtype  \n",
      "---  ------    --------------   -----  \n",
      " 0   id        831653 non-null  int64  \n",
      " 1   vas_id    831653 non-null  float64\n",
      " 2   buy_time  831653 non-null  int64  \n",
      " 3   target    831653 non-null  float64\n",
      "dtypes: float64(2), int64(2)\n",
      "memory usage: 31.7 MB\n"
     ]
    }
   ],
   "source": [
    "train.info()"
   ]
  },
  {
   "cell_type": "code",
   "execution_count": 8,
   "id": "dff81378",
   "metadata": {},
   "outputs": [
    {
     "data": {
      "text/html": [
       "<div>\n",
       "<style scoped>\n",
       "    .dataframe tbody tr th:only-of-type {\n",
       "        vertical-align: middle;\n",
       "    }\n",
       "\n",
       "    .dataframe tbody tr th {\n",
       "        vertical-align: top;\n",
       "    }\n",
       "\n",
       "    .dataframe thead th {\n",
       "        text-align: right;\n",
       "    }\n",
       "</style>\n",
       "<table border=\"1\" class=\"dataframe\">\n",
       "  <thead>\n",
       "    <tr style=\"text-align: right;\">\n",
       "      <th></th>\n",
       "      <th>id</th>\n",
       "      <th>vas_id</th>\n",
       "      <th>buy_time</th>\n",
       "      <th>target</th>\n",
       "    </tr>\n",
       "  </thead>\n",
       "  <tbody>\n",
       "    <tr>\n",
       "      <th>0</th>\n",
       "      <td>540968</td>\n",
       "      <td>8.0</td>\n",
       "      <td>1537131600</td>\n",
       "      <td>0.0</td>\n",
       "    </tr>\n",
       "    <tr>\n",
       "      <th>1</th>\n",
       "      <td>1454121</td>\n",
       "      <td>4.0</td>\n",
       "      <td>1531688400</td>\n",
       "      <td>0.0</td>\n",
       "    </tr>\n",
       "    <tr>\n",
       "      <th>2</th>\n",
       "      <td>2458816</td>\n",
       "      <td>1.0</td>\n",
       "      <td>1534107600</td>\n",
       "      <td>0.0</td>\n",
       "    </tr>\n",
       "    <tr>\n",
       "      <th>3</th>\n",
       "      <td>3535012</td>\n",
       "      <td>5.0</td>\n",
       "      <td>1535922000</td>\n",
       "      <td>0.0</td>\n",
       "    </tr>\n",
       "    <tr>\n",
       "      <th>4</th>\n",
       "      <td>1693214</td>\n",
       "      <td>1.0</td>\n",
       "      <td>1535922000</td>\n",
       "      <td>0.0</td>\n",
       "    </tr>\n",
       "    <tr>\n",
       "      <th>...</th>\n",
       "      <td>...</td>\n",
       "      <td>...</td>\n",
       "      <td>...</td>\n",
       "      <td>...</td>\n",
       "    </tr>\n",
       "    <tr>\n",
       "      <th>831648</th>\n",
       "      <td>3812226</td>\n",
       "      <td>2.0</td>\n",
       "      <td>1546203600</td>\n",
       "      <td>0.0</td>\n",
       "    </tr>\n",
       "    <tr>\n",
       "      <th>831649</th>\n",
       "      <td>2480469</td>\n",
       "      <td>2.0</td>\n",
       "      <td>1546203600</td>\n",
       "      <td>0.0</td>\n",
       "    </tr>\n",
       "    <tr>\n",
       "      <th>831650</th>\n",
       "      <td>158236</td>\n",
       "      <td>2.0</td>\n",
       "      <td>1546203600</td>\n",
       "      <td>0.0</td>\n",
       "    </tr>\n",
       "    <tr>\n",
       "      <th>831651</th>\n",
       "      <td>1825525</td>\n",
       "      <td>2.0</td>\n",
       "      <td>1546203600</td>\n",
       "      <td>0.0</td>\n",
       "    </tr>\n",
       "    <tr>\n",
       "      <th>831652</th>\n",
       "      <td>3022610</td>\n",
       "      <td>2.0</td>\n",
       "      <td>1546203600</td>\n",
       "      <td>0.0</td>\n",
       "    </tr>\n",
       "  </tbody>\n",
       "</table>\n",
       "<p>831653 rows × 4 columns</p>\n",
       "</div>"
      ],
      "text/plain": [
       "             id  vas_id    buy_time  target\n",
       "0        540968     8.0  1537131600     0.0\n",
       "1       1454121     4.0  1531688400     0.0\n",
       "2       2458816     1.0  1534107600     0.0\n",
       "3       3535012     5.0  1535922000     0.0\n",
       "4       1693214     1.0  1535922000     0.0\n",
       "...         ...     ...         ...     ...\n",
       "831648  3812226     2.0  1546203600     0.0\n",
       "831649  2480469     2.0  1546203600     0.0\n",
       "831650   158236     2.0  1546203600     0.0\n",
       "831651  1825525     2.0  1546203600     0.0\n",
       "831652  3022610     2.0  1546203600     0.0\n",
       "\n",
       "[831653 rows x 4 columns]"
      ]
     },
     "execution_count": 8,
     "metadata": {},
     "output_type": "execute_result"
    }
   ],
   "source": [
    "train"
   ]
  },
  {
   "cell_type": "code",
   "execution_count": 9,
   "id": "e07c8a75",
   "metadata": {},
   "outputs": [
    {
     "data": {
      "text/html": [
       "<div>\n",
       "<style scoped>\n",
       "    .dataframe tbody tr th:only-of-type {\n",
       "        vertical-align: middle;\n",
       "    }\n",
       "\n",
       "    .dataframe tbody tr th {\n",
       "        vertical-align: top;\n",
       "    }\n",
       "\n",
       "    .dataframe thead th {\n",
       "        text-align: right;\n",
       "    }\n",
       "</style>\n",
       "<table border=\"1\" class=\"dataframe\">\n",
       "  <thead>\n",
       "    <tr style=\"text-align: right;\">\n",
       "      <th></th>\n",
       "      <th>id</th>\n",
       "      <th>vas_id</th>\n",
       "      <th>buy_time</th>\n",
       "    </tr>\n",
       "  </thead>\n",
       "  <tbody>\n",
       "    <tr>\n",
       "      <th>0</th>\n",
       "      <td>3130519</td>\n",
       "      <td>2.0</td>\n",
       "      <td>1548018000</td>\n",
       "    </tr>\n",
       "    <tr>\n",
       "      <th>1</th>\n",
       "      <td>2000860</td>\n",
       "      <td>4.0</td>\n",
       "      <td>1548018000</td>\n",
       "    </tr>\n",
       "    <tr>\n",
       "      <th>2</th>\n",
       "      <td>1099444</td>\n",
       "      <td>2.0</td>\n",
       "      <td>1546808400</td>\n",
       "    </tr>\n",
       "    <tr>\n",
       "      <th>3</th>\n",
       "      <td>1343255</td>\n",
       "      <td>5.0</td>\n",
       "      <td>1547413200</td>\n",
       "    </tr>\n",
       "    <tr>\n",
       "      <th>4</th>\n",
       "      <td>1277040</td>\n",
       "      <td>2.0</td>\n",
       "      <td>1546808400</td>\n",
       "    </tr>\n",
       "    <tr>\n",
       "      <th>...</th>\n",
       "      <td>...</td>\n",
       "      <td>...</td>\n",
       "      <td>...</td>\n",
       "    </tr>\n",
       "    <tr>\n",
       "      <th>71226</th>\n",
       "      <td>2502453</td>\n",
       "      <td>5.0</td>\n",
       "      <td>1548018000</td>\n",
       "    </tr>\n",
       "    <tr>\n",
       "      <th>71227</th>\n",
       "      <td>1693213</td>\n",
       "      <td>2.0</td>\n",
       "      <td>1548018000</td>\n",
       "    </tr>\n",
       "    <tr>\n",
       "      <th>71228</th>\n",
       "      <td>1891350</td>\n",
       "      <td>2.0</td>\n",
       "      <td>1548018000</td>\n",
       "    </tr>\n",
       "    <tr>\n",
       "      <th>71229</th>\n",
       "      <td>2437172</td>\n",
       "      <td>2.0</td>\n",
       "      <td>1548018000</td>\n",
       "    </tr>\n",
       "    <tr>\n",
       "      <th>71230</th>\n",
       "      <td>988236</td>\n",
       "      <td>2.0</td>\n",
       "      <td>1548018000</td>\n",
       "    </tr>\n",
       "  </tbody>\n",
       "</table>\n",
       "<p>71231 rows × 3 columns</p>\n",
       "</div>"
      ],
      "text/plain": [
       "            id  vas_id    buy_time\n",
       "0      3130519     2.0  1548018000\n",
       "1      2000860     4.0  1548018000\n",
       "2      1099444     2.0  1546808400\n",
       "3      1343255     5.0  1547413200\n",
       "4      1277040     2.0  1546808400\n",
       "...        ...     ...         ...\n",
       "71226  2502453     5.0  1548018000\n",
       "71227  1693213     2.0  1548018000\n",
       "71228  1891350     2.0  1548018000\n",
       "71229  2437172     2.0  1548018000\n",
       "71230   988236     2.0  1548018000\n",
       "\n",
       "[71231 rows x 3 columns]"
      ]
     },
     "execution_count": 9,
     "metadata": {},
     "output_type": "execute_result"
    }
   ],
   "source": [
    "test"
   ]
  },
  {
   "cell_type": "code",
   "execution_count": 8,
   "id": "c545b1c4",
   "metadata": {
    "scrolled": true
   },
   "outputs": [
    {
     "data": {
      "text/html": [
       "<table style=\"border: 2px solid white;\">\n",
       "<tr>\n",
       "<td style=\"vertical-align: top; border: 0px solid white\">\n",
       "<h3 style=\"text-align: left;\">Client</h3>\n",
       "<ul style=\"text-align: left; list-style: none; margin: 0; padding: 0;\">\n",
       "  <li><b>Scheduler: </b>tcp://127.0.0.1:58797</li>\n",
       "  <li><b>Dashboard: </b><a href='http://127.0.0.1:8787/status' target='_blank'>http://127.0.0.1:8787/status</a></li>\n",
       "</ul>\n",
       "</td>\n",
       "<td style=\"vertical-align: top; border: 0px solid white\">\n",
       "<h3 style=\"text-align: left;\">Cluster</h3>\n",
       "<ul style=\"text-align: left; list-style:none; margin: 0; padding: 0;\">\n",
       "  <li><b>Workers: </b>2</li>\n",
       "  <li><b>Cores: </b>4</li>\n",
       "  <li><b>Memory: </b>14.90 GiB</li>\n",
       "</ul>\n",
       "</td>\n",
       "</tr>\n",
       "</table>"
      ],
      "text/plain": [
       "<Client: 'tcp://127.0.0.1:58797' processes=2 threads=4, memory=14.90 GiB>"
      ]
     },
     "execution_count": 8,
     "metadata": {},
     "output_type": "execute_result"
    }
   ],
   "source": [
    "client = Client(n_workers=2, threads_per_worker=2, memory_limit='8GB')\n",
    "client"
   ]
  },
  {
   "cell_type": "code",
   "execution_count": 4,
   "id": "c4c6c9e2",
   "metadata": {},
   "outputs": [],
   "source": [
    "dd.read_csv?"
   ]
  },
  {
   "cell_type": "code",
   "execution_count": 5,
   "id": "bded2655",
   "metadata": {
    "scrolled": true
   },
   "outputs": [],
   "source": [
    "data_types = { 'id':'str', 'buy_time':'str', '0':'str','1':'str','2':'str','3':'str','4':'str','5':'str','6':'str','7':'str','8':'str','9':'str','10':'str','11':'str','12':'str','13':'str','14':'str','15':'str','16':'str','17':'str','18':'str','19':'str','20':'str','21':'str','22':'str','23':'str','24':'str','25':'str','26':'str','27':'str','28':'str','29':'str','30':'str','31':'str','32':'str','33':'str','34':'str','35':'str','36':'str','37':'str','38':'str','39':'str','40':'str','41':'str','42':'str','43':'str','44':'str','45':'str','46':'str','47':'str','48':'str','49':'str','50':'str','51':'str','52':'str','53':'str','54':'str','55':'str','56':'str','57':'str','58':'str','59':'str','60':'str','61':'str','62':'str','63':'str','64':'str','65':'str','66':'str','67':'str','68':'str','69':'str','70':'str','71':'str','72':'str','73':'str','74':'str','75':'str','76':'str','77':'str','78':'str','79':'str','80':'str','81':'str','82':'str','83':'str','84':'str','85':'str','86':'str','87':'str','88':'str','89':'str','90':'str','91':'str','92':'str','93':'str','94':'str','95':'str','96':'str','97':'str','98':'str','99':'str','100':'str','101':'str','102':'str','103':'str','104':'str','105':'str','106':'str','107':'str','108':'str','109':'str','110':'str','111':'str','112':'str','113':'str','114':'str','115':'str','116':'str','117':'str','118':'str','119':'str','120':'str','121':'str','122':'str','123':'str','124':'str','125':'str','126':'str','127':'str','128':'str','129':'str','130':'str','131':'str','132':'str','133':'str','134':'str','135':'str','136':'str','137':'str','138':'str','139':'str','140':'str','141':'str','142':'str','143':'str','144':'str','145':'str','146':'str','147':'str','148':'str','149':'str','150':'str','151':'str','152':'str','153':'str','154':'str','155':'str','156':'str','157':'str','158':'str','159':'str','160':'str','161':'str','162':'str','163':'str','164':'str','165':'str','166':'str','167':'str','168':'str','169':'str','170':'str','171':'str','172':'str','173':'str','174':'str','175':'str','176':'str','177':'str','178':'str','179':'str','180':'str','181':'str','182':'str','183':'str','184':'str','185':'str','186':'str','187':'str','188':'str','189':'str','190':'str','191':'str','192':'str','193':'str','194':'str','195':'str','196':'str','197':'str','198':'str','199':'str','200':'str','201':'str','202':'str','203':'str','204':'str','205':'str','206':'str','207':'str','208':'str','209':'str','210':'str','211':'str','212':'str','213':'str','214':'str','215':'str','216':'str','217':'str','218':'str','219':'str','220':'str','221':'str','222':'str','223':'str','224':'str','225':'str','226':'str','227':'str','228':'str','229':'str','230':'str','231':'str','232':'str','233':'str','234':'str','235':'str','236':'str','237':'str','238':'str','239':'str','240':'str','241':'str','242':'str','243':'str','244':'str','245':'str','246':'str','247':'str','248':'str','249':'str','250':'str','251':'str','252':'str' }\n",
    "data = dd.read_csv(\"Data/features.csv\", blocksize=50e6, storage_options={'anon': True}, dtype = data_types, lineterminator=['\\t','\\n'])#250MB"
   ]
  },
  {
   "cell_type": "code",
   "execution_count": 6,
   "id": "91e3f54a",
   "metadata": {},
   "outputs": [],
   "source": [
    "data.to_parquet(\"Data/features.parquet\")"
   ]
  },
  {
   "cell_type": "code",
   "execution_count": 4,
   "id": "d1622a1c",
   "metadata": {},
   "outputs": [],
   "source": [
    "data = dd.read_parquet(\"Data/features.parquet\")"
   ]
  },
  {
   "cell_type": "code",
   "execution_count": 5,
   "id": "926aec45",
   "metadata": {
    "scrolled": true
   },
   "outputs": [
    {
     "data": {
      "text/html": [
       "<div><strong>Dask DataFrame Structure:</strong></div>\n",
       "<div>\n",
       "<style scoped>\n",
       "    .dataframe tbody tr th:only-of-type {\n",
       "        vertical-align: middle;\n",
       "    }\n",
       "\n",
       "    .dataframe tbody tr th {\n",
       "        vertical-align: top;\n",
       "    }\n",
       "\n",
       "    .dataframe thead th {\n",
       "        text-align: right;\n",
       "    }\n",
       "</style>\n",
       "<table border=\"1\" class=\"dataframe\">\n",
       "  <thead>\n",
       "    <tr style=\"text-align: right;\">\n",
       "      <th></th>\n",
       "      <th>\\tid\\tbuy_time\\t0\\t1\\t2\\t3\\t4\\t5\\t6\\t7\\t8\\t9\\t10\\t11\\t12\\t13\\t14\\t15\\t16\\t17\\t18\\t19\\t20\\t21\\t22\\t23\\t24\\t25\\t26\\t27\\t28\\t29\\t30\\t31\\t32\\t33\\t34\\t35\\t36\\t37\\t38\\t39\\t40\\t41\\t42\\t43\\t44\\t45\\t46\\t47\\t48\\t49\\t50\\t51\\t52\\t53\\t54\\t55\\t56\\t57\\t58\\t59\\t60\\t61\\t62\\t63\\t64\\t65\\t66\\t67\\t68\\t69\\t70\\t71\\t72\\t73\\t74\\t75\\t76\\t77\\t78\\t79\\t80\\t81\\t82\\t83\\t84\\t85\\t86\\t87\\t88\\t89\\t90\\t91\\t92\\t93\\t94\\t95\\t96\\t97\\t98\\t99\\t100\\t101\\t102\\t103\\t104\\t105\\t106\\t107\\t108\\t109\\t110\\t111\\t112\\t113\\t114\\t115\\t116\\t117\\t118\\t119\\t120\\t121\\t122\\t123\\t124\\t125\\t126\\t127\\t128\\t129\\t130\\t131\\t132\\t133\\t134\\t135\\t136\\t137\\t138\\t139\\t140\\t141\\t142\\t143\\t144\\t145\\t146\\t147\\t148\\t149\\t150\\t151\\t152\\t153\\t154\\t155\\t156\\t157\\t158\\t159\\t160\\t161\\t162\\t163\\t164\\t165\\t166\\t167\\t168\\t169\\t170\\t171\\t172\\t173\\t174\\t175\\t176\\t177\\t178\\t179\\t180\\t181\\t182\\t183\\t184\\t185\\t186\\t187\\t188\\t189\\t190\\t191\\t192\\t193\\t194\\t195\\t196\\t197\\t198\\t199\\t200\\t201\\t202\\t203\\t204\\t205\\t206\\t207\\t208\\t209\\t210\\t211\\t212\\t213\\t214\\t215\\t216\\t217\\t218\\t219\\t220\\t221\\t222\\t223\\t224\\t225\\t226\\t227\\t228\\t229\\t230\\t231\\t232\\t233\\t234\\t235\\t236\\t237\\t238\\t239\\t240\\t241\\t242\\t243\\t244\\t245\\t246\\t247\\t248\\t249\\t250\\t251\\t252</th>\n",
       "    </tr>\n",
       "    <tr>\n",
       "      <th>npartitions=451</th>\n",
       "      <th></th>\n",
       "    </tr>\n",
       "  </thead>\n",
       "  <tbody>\n",
       "    <tr>\n",
       "      <th></th>\n",
       "      <td>object</td>\n",
       "    </tr>\n",
       "    <tr>\n",
       "      <th></th>\n",
       "      <td>...</td>\n",
       "    </tr>\n",
       "    <tr>\n",
       "      <th>...</th>\n",
       "      <td>...</td>\n",
       "    </tr>\n",
       "    <tr>\n",
       "      <th></th>\n",
       "      <td>...</td>\n",
       "    </tr>\n",
       "    <tr>\n",
       "      <th></th>\n",
       "      <td>...</td>\n",
       "    </tr>\n",
       "  </tbody>\n",
       "</table>\n",
       "</div>\n",
       "<div>Dask Name: read-parquet, 451 tasks</div>"
      ],
      "text/plain": [
       "Dask DataFrame Structure:\n",
       "                \\tid\\tbuy_time\\t0\\t1\\t2\\t3\\t4\\t5\\t6\\t7\\t8\\t9\\t10\\t11\\t12\\t13\\t14\\t15\\t16\\t17\\t18\\t19\\t20\\t21\\t22\\t23\\t24\\t25\\t26\\t27\\t28\\t29\\t30\\t31\\t32\\t33\\t34\\t35\\t36\\t37\\t38\\t39\\t40\\t41\\t42\\t43\\t44\\t45\\t46\\t47\\t48\\t49\\t50\\t51\\t52\\t53\\t54\\t55\\t56\\t57\\t58\\t59\\t60\\t61\\t62\\t63\\t64\\t65\\t66\\t67\\t68\\t69\\t70\\t71\\t72\\t73\\t74\\t75\\t76\\t77\\t78\\t79\\t80\\t81\\t82\\t83\\t84\\t85\\t86\\t87\\t88\\t89\\t90\\t91\\t92\\t93\\t94\\t95\\t96\\t97\\t98\\t99\\t100\\t101\\t102\\t103\\t104\\t105\\t106\\t107\\t108\\t109\\t110\\t111\\t112\\t113\\t114\\t115\\t116\\t117\\t118\\t119\\t120\\t121\\t122\\t123\\t124\\t125\\t126\\t127\\t128\\t129\\t130\\t131\\t132\\t133\\t134\\t135\\t136\\t137\\t138\\t139\\t140\\t141\\t142\\t143\\t144\\t145\\t146\\t147\\t148\\t149\\t150\\t151\\t152\\t153\\t154\\t155\\t156\\t157\\t158\\t159\\t160\\t161\\t162\\t163\\t164\\t165\\t166\\t167\\t168\\t169\\t170\\t171\\t172\\t173\\t174\\t175\\t176\\t177\\t178\\t179\\t180\\t181\\t182\\t183\\t184\\t185\\t186\\t187\\t188\\t189\\t190\\t191\\t192\\t193\\t194\\t195\\t196\\t197\\t198\\t199\\t200\\t201\\t202\\t203\\t204\\t205\\t206\\t207\\t208\\t209\\t210\\t211\\t212\\t213\\t214\\t215\\t216\\t217\\t218\\t219\\t220\\t221\\t222\\t223\\t224\\t225\\t226\\t227\\t228\\t229\\t230\\t231\\t232\\t233\\t234\\t235\\t236\\t237\\t238\\t239\\t240\\t241\\t242\\t243\\t244\\t245\\t246\\t247\\t248\\t249\\t250\\t251\\t252\n",
       "npartitions=451                                                                                                                                                                                                                                                                                                                                                                                                                                                                                                                                                                                                                                                                                                                                                                                                                                                                                                                                                                                                                                                                                                                                                                                                                  \n",
       "                                                                                                                                                                                                                                                                                                                                                                                                                                                                                                                                                                                                                                                                                                                                                                                                                                                                                                                                                                                                                                                                                                                                                                                                                           object\n",
       "                                                                                                                                                                                                                                                                                                                                                                                                                                                                                                                                                                                                                                                                                                                                                                                                                                                                                                                                                                                                                                                                                                                                                                                                                              ...\n",
       "...                                                                                                                                                                                                                                                                                                                                                                                                                                                                                                                                                                                                                                                                                                                                                                                                                                                                                                                                                                                                                                                                                                                                                                                                                           ...\n",
       "                                                                                                                                                                                                                                                                                                                                                                                                                                                                                                                                                                                                                                                                                                                                                                                                                                                                                                                                                                                                                                                                                                                                                                                                                              ...\n",
       "                                                                                                                                                                                                                                                                                                                                                                                                                                                                                                                                                                                                                                                                                                                                                                                                                                                                                                                                                                                                                                                                                                                                                                                                                              ...\n",
       "Dask Name: read-parquet, 451 tasks"
      ]
     },
     "execution_count": 5,
     "metadata": {},
     "output_type": "execute_result"
    }
   ],
   "source": [
    "data"
   ]
  },
  {
   "cell_type": "code",
   "execution_count": 6,
   "id": "51fe5abc",
   "metadata": {},
   "outputs": [],
   "source": [
    "columns = [e for e in list(data.columns)[0].split('\\t') if e != '']\n",
    "data = data.rename(columns={list(data.columns)[0]: \"row\"})\n",
    "txt = data.row.str.split('\\t')\n",
    "for p, column in enumerate(columns):\n",
    "    data[column] = txt.str[p]\n",
    "data = data.drop('row', axis=1)"
   ]
  },
  {
   "cell_type": "code",
   "execution_count": 7,
   "id": "9b47df7d",
   "metadata": {},
   "outputs": [],
   "source": [
    "data.to_parquet(\"Data/features2.parquet\")"
   ]
  },
  {
   "cell_type": "code",
   "execution_count": 8,
   "id": "56043415",
   "metadata": {},
   "outputs": [],
   "source": [
    "data = dd.read_parquet(\"Data/features2.parquet\")"
   ]
  },
  {
   "cell_type": "code",
   "execution_count": 17,
   "id": "51eff070",
   "metadata": {},
   "outputs": [],
   "source": [
    "for column in data.columns:\n",
    "    if column in ('id', 'buy_time', '0'):\n",
    "        data[column] = data[column].astype('int32')\n",
    "    else:\n",
    "        data[column] = data[column].astype('float')"
   ]
  },
  {
   "cell_type": "code",
   "execution_count": null,
   "id": "00b6d6ab",
   "metadata": {},
   "outputs": [],
   "source": [
    "data.to_parquet(\"Data/features3.parquet\")"
   ]
  },
  {
   "cell_type": "code",
   "execution_count": 9,
   "id": "229720a4",
   "metadata": {},
   "outputs": [],
   "source": [
    "data = dd.read_parquet(\"Data/features3.parquet\")"
   ]
  },
  {
   "cell_type": "code",
   "execution_count": 10,
   "id": "6a7ef83f",
   "metadata": {},
   "outputs": [
    {
     "data": {
      "text/plain": [
       "Index(['idx', 'id', 'buy_time', '0', '1', '2', '3', '4', '5', '6',\n",
       "       ...\n",
       "       '242', '243', '244', '245', '246', '247', '248', '249', '250', '251'],\n",
       "      dtype='object', length=255)"
      ]
     },
     "execution_count": 10,
     "metadata": {},
     "output_type": "execute_result"
    }
   ],
   "source": [
    "lst_col = data.columns\n",
    "count = len(lst_col)\n",
    "lst = [\"idx\"]\n",
    "for pos, val in enumerate(lst_col):\n",
    "    if pos < count - 1:        \n",
    "        lst.append(val)\n",
    "\n",
    "data = data.rename(columns=dict(zip(data.columns, lst)))\n",
    "\n",
    "data.columns"
   ]
  },
  {
   "cell_type": "code",
   "execution_count": 11,
   "id": "cfa5c97c",
   "metadata": {},
   "outputs": [],
   "source": [
    "#import sys \n",
    "#sys.setrecursionlimit(30000000)"
   ]
  },
  {
   "cell_type": "code",
   "execution_count": 12,
   "id": "5547a732",
   "metadata": {},
   "outputs": [],
   "source": [
    "data = data.drop('idx', axis=1)"
   ]
  },
  {
   "cell_type": "code",
   "execution_count": 13,
   "id": "70040ac6",
   "metadata": {},
   "outputs": [
    {
     "data": {
      "text/html": [
       "<div>\n",
       "<style scoped>\n",
       "    .dataframe tbody tr th:only-of-type {\n",
       "        vertical-align: middle;\n",
       "    }\n",
       "\n",
       "    .dataframe tbody tr th {\n",
       "        vertical-align: top;\n",
       "    }\n",
       "\n",
       "    .dataframe thead th {\n",
       "        text-align: right;\n",
       "    }\n",
       "</style>\n",
       "<table border=\"1\" class=\"dataframe\">\n",
       "  <thead>\n",
       "    <tr style=\"text-align: right;\">\n",
       "      <th></th>\n",
       "      <th>id</th>\n",
       "      <th>buy_time</th>\n",
       "      <th>0</th>\n",
       "      <th>1</th>\n",
       "      <th>2</th>\n",
       "      <th>3</th>\n",
       "      <th>4</th>\n",
       "      <th>5</th>\n",
       "      <th>6</th>\n",
       "      <th>7</th>\n",
       "      <th>...</th>\n",
       "      <th>242</th>\n",
       "      <th>243</th>\n",
       "      <th>244</th>\n",
       "      <th>245</th>\n",
       "      <th>246</th>\n",
       "      <th>247</th>\n",
       "      <th>248</th>\n",
       "      <th>249</th>\n",
       "      <th>250</th>\n",
       "      <th>251</th>\n",
       "    </tr>\n",
       "  </thead>\n",
       "  <tbody>\n",
       "    <tr>\n",
       "      <th>0</th>\n",
       "      <td>2013026</td>\n",
       "      <td>1531688400</td>\n",
       "      <td>18.910029</td>\n",
       "      <td>46.980888</td>\n",
       "      <td>4.969214</td>\n",
       "      <td>-1.386798</td>\n",
       "      <td>3.791754</td>\n",
       "      <td>-14.01179</td>\n",
       "      <td>-16.08618</td>\n",
       "      <td>-65.076097</td>\n",
       "      <td>...</td>\n",
       "      <td>-17.295406</td>\n",
       "      <td>-977.373846</td>\n",
       "      <td>-613.770792</td>\n",
       "      <td>-25.996269</td>\n",
       "      <td>-37.630448</td>\n",
       "      <td>-301.747724</td>\n",
       "      <td>-25.832889</td>\n",
       "      <td>-0.694428</td>\n",
       "      <td>-12.175933</td>\n",
       "      <td>-0.45614</td>\n",
       "    </tr>\n",
       "    <tr>\n",
       "      <th>1</th>\n",
       "      <td>2014722</td>\n",
       "      <td>1539550800</td>\n",
       "      <td>36.690029</td>\n",
       "      <td>152.400888</td>\n",
       "      <td>448.069214</td>\n",
       "      <td>563.833202</td>\n",
       "      <td>463.841754</td>\n",
       "      <td>568.99821</td>\n",
       "      <td>-16.08618</td>\n",
       "      <td>-53.216097</td>\n",
       "      <td>...</td>\n",
       "      <td>-5.295406</td>\n",
       "      <td>-891.373846</td>\n",
       "      <td>-544.770792</td>\n",
       "      <td>-20.996269</td>\n",
       "      <td>48.369552</td>\n",
       "      <td>80.252276</td>\n",
       "      <td>-13.832889</td>\n",
       "      <td>-0.694428</td>\n",
       "      <td>-1.175933</td>\n",
       "      <td>-0.45614</td>\n",
       "    </tr>\n",
       "    <tr>\n",
       "      <th>2</th>\n",
       "      <td>2015199</td>\n",
       "      <td>1545598800</td>\n",
       "      <td>-67.019971</td>\n",
       "      <td>157.050888</td>\n",
       "      <td>-63.180786</td>\n",
       "      <td>178.103202</td>\n",
       "      <td>-68.598246</td>\n",
       "      <td>156.99821</td>\n",
       "      <td>3.51382</td>\n",
       "      <td>25.183903</td>\n",
       "      <td>...</td>\n",
       "      <td>-17.295406</td>\n",
       "      <td>-977.373846</td>\n",
       "      <td>-613.770792</td>\n",
       "      <td>-12.996269</td>\n",
       "      <td>-37.630448</td>\n",
       "      <td>10829.252276</td>\n",
       "      <td>-25.832889</td>\n",
       "      <td>-0.694428</td>\n",
       "      <td>-12.175933</td>\n",
       "      <td>-0.45614</td>\n",
       "    </tr>\n",
       "    <tr>\n",
       "      <th>3</th>\n",
       "      <td>2021765</td>\n",
       "      <td>1534107600</td>\n",
       "      <td>7.010029</td>\n",
       "      <td>150.200888</td>\n",
       "      <td>-6.930786</td>\n",
       "      <td>216.213202</td>\n",
       "      <td>76.621754</td>\n",
       "      <td>351.84821</td>\n",
       "      <td>-16.08618</td>\n",
       "      <td>-65.076097</td>\n",
       "      <td>...</td>\n",
       "      <td>-17.295406</td>\n",
       "      <td>-973.373846</td>\n",
       "      <td>-613.770792</td>\n",
       "      <td>-23.996269</td>\n",
       "      <td>-37.630448</td>\n",
       "      <td>-205.747724</td>\n",
       "      <td>-24.832889</td>\n",
       "      <td>-0.694428</td>\n",
       "      <td>-11.175933</td>\n",
       "      <td>-0.45614</td>\n",
       "    </tr>\n",
       "    <tr>\n",
       "      <th>4</th>\n",
       "      <td>2027465</td>\n",
       "      <td>1533502800</td>\n",
       "      <td>-90.439971</td>\n",
       "      <td>134.220888</td>\n",
       "      <td>-104.380786</td>\n",
       "      <td>153.643202</td>\n",
       "      <td>-109.798246</td>\n",
       "      <td>132.53821</td>\n",
       "      <td>-16.08618</td>\n",
       "      <td>-65.076097</td>\n",
       "      <td>...</td>\n",
       "      <td>105.704594</td>\n",
       "      <td>1643.626154</td>\n",
       "      <td>2007.229208</td>\n",
       "      <td>206.003731</td>\n",
       "      <td>-21.630448</td>\n",
       "      <td>6667.252276</td>\n",
       "      <td>92.167111</td>\n",
       "      <td>-0.694428</td>\n",
       "      <td>49.824067</td>\n",
       "      <td>47.54386</td>\n",
       "    </tr>\n",
       "    <tr>\n",
       "      <th>5</th>\n",
       "      <td>2028410</td>\n",
       "      <td>1534107600</td>\n",
       "      <td>-96.799971</td>\n",
       "      <td>-26.819112</td>\n",
       "      <td>-110.740786</td>\n",
       "      <td>-79.426798</td>\n",
       "      <td>-116.158246</td>\n",
       "      <td>-100.53179</td>\n",
       "      <td>-16.08618</td>\n",
       "      <td>-65.076097</td>\n",
       "      <td>...</td>\n",
       "      <td>-17.295406</td>\n",
       "      <td>-11.373846</td>\n",
       "      <td>346.229208</td>\n",
       "      <td>-17.996269</td>\n",
       "      <td>127.369552</td>\n",
       "      <td>-159.747724</td>\n",
       "      <td>-17.832889</td>\n",
       "      <td>-0.694428</td>\n",
       "      <td>-4.175933</td>\n",
       "      <td>-0.45614</td>\n",
       "    </tr>\n",
       "    <tr>\n",
       "      <th>6</th>\n",
       "      <td>2030773</td>\n",
       "      <td>1544994000</td>\n",
       "      <td>284.560029</td>\n",
       "      <td>-26.819112</td>\n",
       "      <td>280.779214</td>\n",
       "      <td>-62.486798</td>\n",
       "      <td>275.361754</td>\n",
       "      <td>-83.59179</td>\n",
       "      <td>-16.08618</td>\n",
       "      <td>-65.076097</td>\n",
       "      <td>...</td>\n",
       "      <td>-17.295406</td>\n",
       "      <td>-854.373846</td>\n",
       "      <td>-552.770792</td>\n",
       "      <td>-20.996269</td>\n",
       "      <td>-37.630448</td>\n",
       "      <td>-63.747724</td>\n",
       "      <td>-25.832889</td>\n",
       "      <td>-0.694428</td>\n",
       "      <td>-12.175933</td>\n",
       "      <td>-0.45614</td>\n",
       "    </tr>\n",
       "    <tr>\n",
       "      <th>7</th>\n",
       "      <td>2032337</td>\n",
       "      <td>1537736400</td>\n",
       "      <td>92.550029</td>\n",
       "      <td>-140.459112</td>\n",
       "      <td>95.559214</td>\n",
       "      <td>-129.516798</td>\n",
       "      <td>90.141754</td>\n",
       "      <td>-150.62179</td>\n",
       "      <td>119.51382</td>\n",
       "      <td>70.523903</td>\n",
       "      <td>...</td>\n",
       "      <td>-17.295406</td>\n",
       "      <td>-568.373846</td>\n",
       "      <td>-207.770792</td>\n",
       "      <td>-23.996269</td>\n",
       "      <td>-37.630448</td>\n",
       "      <td>-36.747724</td>\n",
       "      <td>43.167111</td>\n",
       "      <td>35.305572</td>\n",
       "      <td>20.824067</td>\n",
       "      <td>-0.45614</td>\n",
       "    </tr>\n",
       "    <tr>\n",
       "      <th>8</th>\n",
       "      <td>2033486</td>\n",
       "      <td>1545598800</td>\n",
       "      <td>-93.749971</td>\n",
       "      <td>-123.939112</td>\n",
       "      <td>-77.190786</td>\n",
       "      <td>-82.536798</td>\n",
       "      <td>-82.608246</td>\n",
       "      <td>-103.64179</td>\n",
       "      <td>-16.08618</td>\n",
       "      <td>-65.076097</td>\n",
       "      <td>...</td>\n",
       "      <td>-17.295406</td>\n",
       "      <td>-962.373846</td>\n",
       "      <td>-598.770792</td>\n",
       "      <td>-25.996269</td>\n",
       "      <td>-37.630448</td>\n",
       "      <td>-202.747724</td>\n",
       "      <td>31.167111</td>\n",
       "      <td>-0.694428</td>\n",
       "      <td>-12.175933</td>\n",
       "      <td>-0.45614</td>\n",
       "    </tr>\n",
       "    <tr>\n",
       "      <th>9</th>\n",
       "      <td>2034066</td>\n",
       "      <td>1544389200</td>\n",
       "      <td>228.520029</td>\n",
       "      <td>316.910888</td>\n",
       "      <td>233.709214</td>\n",
       "      <td>350.323202</td>\n",
       "      <td>228.291754</td>\n",
       "      <td>329.21821</td>\n",
       "      <td>-16.08618</td>\n",
       "      <td>-65.076097</td>\n",
       "      <td>...</td>\n",
       "      <td>-17.295406</td>\n",
       "      <td>-969.373846</td>\n",
       "      <td>-613.770792</td>\n",
       "      <td>-24.996269</td>\n",
       "      <td>-37.630448</td>\n",
       "      <td>-250.747724</td>\n",
       "      <td>-22.832889</td>\n",
       "      <td>-0.694428</td>\n",
       "      <td>-11.175933</td>\n",
       "      <td>0.54386</td>\n",
       "    </tr>\n",
       "    <tr>\n",
       "      <th>10</th>\n",
       "      <td>2034288</td>\n",
       "      <td>1536526800</td>\n",
       "      <td>157.160029</td>\n",
       "      <td>315.760888</td>\n",
       "      <td>143.219214</td>\n",
       "      <td>263.153202</td>\n",
       "      <td>137.801754</td>\n",
       "      <td>242.04821</td>\n",
       "      <td>-16.08618</td>\n",
       "      <td>-65.076097</td>\n",
       "      <td>...</td>\n",
       "      <td>-17.295406</td>\n",
       "      <td>55.626154</td>\n",
       "      <td>-347.770792</td>\n",
       "      <td>-24.996269</td>\n",
       "      <td>-37.630448</td>\n",
       "      <td>-180.747724</td>\n",
       "      <td>-24.832889</td>\n",
       "      <td>-0.694428</td>\n",
       "      <td>-11.175933</td>\n",
       "      <td>-0.45614</td>\n",
       "    </tr>\n",
       "    <tr>\n",
       "      <th>11</th>\n",
       "      <td>2040873</td>\n",
       "      <td>1535317200</td>\n",
       "      <td>-96.799971</td>\n",
       "      <td>22.330888</td>\n",
       "      <td>-110.740786</td>\n",
       "      <td>-0.616798</td>\n",
       "      <td>-116.158246</td>\n",
       "      <td>-21.72179</td>\n",
       "      <td>-16.08618</td>\n",
       "      <td>-65.076097</td>\n",
       "      <td>...</td>\n",
       "      <td>-17.295406</td>\n",
       "      <td>-967.373846</td>\n",
       "      <td>-604.770792</td>\n",
       "      <td>-25.996269</td>\n",
       "      <td>-37.630448</td>\n",
       "      <td>-177.747724</td>\n",
       "      <td>-13.832889</td>\n",
       "      <td>9.305572</td>\n",
       "      <td>-10.175933</td>\n",
       "      <td>-0.45614</td>\n",
       "    </tr>\n",
       "    <tr>\n",
       "      <th>12</th>\n",
       "      <td>2045370</td>\n",
       "      <td>1531688400</td>\n",
       "      <td>46.940029</td>\n",
       "      <td>137.670888</td>\n",
       "      <td>45.289214</td>\n",
       "      <td>127.013202</td>\n",
       "      <td>39.871754</td>\n",
       "      <td>105.90821</td>\n",
       "      <td>61.89382</td>\n",
       "      <td>253.613903</td>\n",
       "      <td>...</td>\n",
       "      <td>-17.295406</td>\n",
       "      <td>-974.373846</td>\n",
       "      <td>-611.770792</td>\n",
       "      <td>-25.996269</td>\n",
       "      <td>-37.630448</td>\n",
       "      <td>-97.747724</td>\n",
       "      <td>-23.832889</td>\n",
       "      <td>-0.694428</td>\n",
       "      <td>-12.175933</td>\n",
       "      <td>1.54386</td>\n",
       "    </tr>\n",
       "    <tr>\n",
       "      <th>13</th>\n",
       "      <td>2046132</td>\n",
       "      <td>1534712400</td>\n",
       "      <td>300.820029</td>\n",
       "      <td>1599.480888</td>\n",
       "      <td>286.879214</td>\n",
       "      <td>1585.013202</td>\n",
       "      <td>281.461754</td>\n",
       "      <td>1563.90821</td>\n",
       "      <td>-16.08618</td>\n",
       "      <td>654.013903</td>\n",
       "      <td>...</td>\n",
       "      <td>-17.295406</td>\n",
       "      <td>-977.373846</td>\n",
       "      <td>-613.770792</td>\n",
       "      <td>-25.996269</td>\n",
       "      <td>-35.630448</td>\n",
       "      <td>-295.747724</td>\n",
       "      <td>-17.832889</td>\n",
       "      <td>-0.694428</td>\n",
       "      <td>-4.175933</td>\n",
       "      <td>-0.45614</td>\n",
       "    </tr>\n",
       "    <tr>\n",
       "      <th>14</th>\n",
       "      <td>2048023</td>\n",
       "      <td>1542574800</td>\n",
       "      <td>512.440029</td>\n",
       "      <td>584.920888</td>\n",
       "      <td>507.389214</td>\n",
       "      <td>686.523202</td>\n",
       "      <td>501.971754</td>\n",
       "      <td>665.41821</td>\n",
       "      <td>555.96382</td>\n",
       "      <td>761.213903</td>\n",
       "      <td>...</td>\n",
       "      <td>-17.295406</td>\n",
       "      <td>972.626154</td>\n",
       "      <td>1323.229208</td>\n",
       "      <td>-17.996269</td>\n",
       "      <td>-35.630448</td>\n",
       "      <td>13847.252276</td>\n",
       "      <td>-22.832889</td>\n",
       "      <td>-0.694428</td>\n",
       "      <td>-12.175933</td>\n",
       "      <td>-0.45614</td>\n",
       "    </tr>\n",
       "    <tr>\n",
       "      <th>15</th>\n",
       "      <td>2048713</td>\n",
       "      <td>1534107600</td>\n",
       "      <td>-8.649971</td>\n",
       "      <td>1425.350888</td>\n",
       "      <td>-22.590786</td>\n",
       "      <td>1457.493202</td>\n",
       "      <td>-28.008246</td>\n",
       "      <td>2373.67821</td>\n",
       "      <td>-16.08618</td>\n",
       "      <td>1417.973903</td>\n",
       "      <td>...</td>\n",
       "      <td>-17.295406</td>\n",
       "      <td>-977.373846</td>\n",
       "      <td>-613.770792</td>\n",
       "      <td>-25.996269</td>\n",
       "      <td>-34.630448</td>\n",
       "      <td>-277.747724</td>\n",
       "      <td>-25.832889</td>\n",
       "      <td>-0.694428</td>\n",
       "      <td>-12.175933</td>\n",
       "      <td>-0.45614</td>\n",
       "    </tr>\n",
       "    <tr>\n",
       "      <th>16</th>\n",
       "      <td>2050810</td>\n",
       "      <td>1540760400</td>\n",
       "      <td>-86.209971</td>\n",
       "      <td>91.820888</td>\n",
       "      <td>-84.480786</td>\n",
       "      <td>110.333202</td>\n",
       "      <td>-89.898246</td>\n",
       "      <td>89.22821</td>\n",
       "      <td>-16.08618</td>\n",
       "      <td>-65.076097</td>\n",
       "      <td>...</td>\n",
       "      <td>-17.295406</td>\n",
       "      <td>-977.373846</td>\n",
       "      <td>-613.770792</td>\n",
       "      <td>-23.996269</td>\n",
       "      <td>190.369552</td>\n",
       "      <td>-286.747724</td>\n",
       "      <td>-25.832889</td>\n",
       "      <td>-0.694428</td>\n",
       "      <td>-12.175933</td>\n",
       "      <td>-0.45614</td>\n",
       "    </tr>\n",
       "    <tr>\n",
       "      <th>17</th>\n",
       "      <td>2052853</td>\n",
       "      <td>1542574800</td>\n",
       "      <td>-6.549971</td>\n",
       "      <td>-77.689112</td>\n",
       "      <td>-20.490786</td>\n",
       "      <td>-126.916798</td>\n",
       "      <td>-25.908246</td>\n",
       "      <td>-148.02179</td>\n",
       "      <td>-16.08618</td>\n",
       "      <td>-65.076097</td>\n",
       "      <td>...</td>\n",
       "      <td>-17.295406</td>\n",
       "      <td>-964.373846</td>\n",
       "      <td>-613.770792</td>\n",
       "      <td>-23.996269</td>\n",
       "      <td>-33.630448</td>\n",
       "      <td>-265.747724</td>\n",
       "      <td>-25.832889</td>\n",
       "      <td>-0.694428</td>\n",
       "      <td>-12.175933</td>\n",
       "      <td>-0.45614</td>\n",
       "    </tr>\n",
       "    <tr>\n",
       "      <th>18</th>\n",
       "      <td>2053765</td>\n",
       "      <td>1540155600</td>\n",
       "      <td>-62.469971</td>\n",
       "      <td>-289.939112</td>\n",
       "      <td>-52.490786</td>\n",
       "      <td>-239.206798</td>\n",
       "      <td>-57.908246</td>\n",
       "      <td>-260.31179</td>\n",
       "      <td>7.64382</td>\n",
       "      <td>29.843903</td>\n",
       "      <td>...</td>\n",
       "      <td>-17.295406</td>\n",
       "      <td>896.626154</td>\n",
       "      <td>1230.229208</td>\n",
       "      <td>-25.996269</td>\n",
       "      <td>-37.630448</td>\n",
       "      <td>-7.747724</td>\n",
       "      <td>-18.832889</td>\n",
       "      <td>-0.694428</td>\n",
       "      <td>-12.175933</td>\n",
       "      <td>-0.45614</td>\n",
       "    </tr>\n",
       "    <tr>\n",
       "      <th>19</th>\n",
       "      <td>2070757</td>\n",
       "      <td>1540760400</td>\n",
       "      <td>-96.799971</td>\n",
       "      <td>-408.179112</td>\n",
       "      <td>-110.740786</td>\n",
       "      <td>-460.786798</td>\n",
       "      <td>-114.038246</td>\n",
       "      <td>-479.77179</td>\n",
       "      <td>-16.08618</td>\n",
       "      <td>-65.076097</td>\n",
       "      <td>...</td>\n",
       "      <td>-14.295406</td>\n",
       "      <td>-925.373846</td>\n",
       "      <td>-561.770792</td>\n",
       "      <td>-21.996269</td>\n",
       "      <td>-37.630448</td>\n",
       "      <td>-151.747724</td>\n",
       "      <td>-24.832889</td>\n",
       "      <td>0.305572</td>\n",
       "      <td>-12.175933</td>\n",
       "      <td>-0.45614</td>\n",
       "    </tr>\n",
       "  </tbody>\n",
       "</table>\n",
       "<p>20 rows × 254 columns</p>\n",
       "</div>"
      ],
      "text/plain": [
       "         id    buy_time           0            1           2            3  \\\n",
       "0   2013026  1531688400   18.910029    46.980888    4.969214    -1.386798   \n",
       "1   2014722  1539550800   36.690029   152.400888  448.069214   563.833202   \n",
       "2   2015199  1545598800  -67.019971   157.050888  -63.180786   178.103202   \n",
       "3   2021765  1534107600    7.010029   150.200888   -6.930786   216.213202   \n",
       "4   2027465  1533502800  -90.439971   134.220888 -104.380786   153.643202   \n",
       "5   2028410  1534107600  -96.799971   -26.819112 -110.740786   -79.426798   \n",
       "6   2030773  1544994000  284.560029   -26.819112  280.779214   -62.486798   \n",
       "7   2032337  1537736400   92.550029  -140.459112   95.559214  -129.516798   \n",
       "8   2033486  1545598800  -93.749971  -123.939112  -77.190786   -82.536798   \n",
       "9   2034066  1544389200  228.520029   316.910888  233.709214   350.323202   \n",
       "10  2034288  1536526800  157.160029   315.760888  143.219214   263.153202   \n",
       "11  2040873  1535317200  -96.799971    22.330888 -110.740786    -0.616798   \n",
       "12  2045370  1531688400   46.940029   137.670888   45.289214   127.013202   \n",
       "13  2046132  1534712400  300.820029  1599.480888  286.879214  1585.013202   \n",
       "14  2048023  1542574800  512.440029   584.920888  507.389214   686.523202   \n",
       "15  2048713  1534107600   -8.649971  1425.350888  -22.590786  1457.493202   \n",
       "16  2050810  1540760400  -86.209971    91.820888  -84.480786   110.333202   \n",
       "17  2052853  1542574800   -6.549971   -77.689112  -20.490786  -126.916798   \n",
       "18  2053765  1540155600  -62.469971  -289.939112  -52.490786  -239.206798   \n",
       "19  2070757  1540760400  -96.799971  -408.179112 -110.740786  -460.786798   \n",
       "\n",
       "             4           5          6            7  ...         242  \\\n",
       "0     3.791754   -14.01179  -16.08618   -65.076097  ...  -17.295406   \n",
       "1   463.841754   568.99821  -16.08618   -53.216097  ...   -5.295406   \n",
       "2   -68.598246   156.99821    3.51382    25.183903  ...  -17.295406   \n",
       "3    76.621754   351.84821  -16.08618   -65.076097  ...  -17.295406   \n",
       "4  -109.798246   132.53821  -16.08618   -65.076097  ...  105.704594   \n",
       "5  -116.158246  -100.53179  -16.08618   -65.076097  ...  -17.295406   \n",
       "6   275.361754   -83.59179  -16.08618   -65.076097  ...  -17.295406   \n",
       "7    90.141754  -150.62179  119.51382    70.523903  ...  -17.295406   \n",
       "8   -82.608246  -103.64179  -16.08618   -65.076097  ...  -17.295406   \n",
       "9   228.291754   329.21821  -16.08618   -65.076097  ...  -17.295406   \n",
       "10  137.801754   242.04821  -16.08618   -65.076097  ...  -17.295406   \n",
       "11 -116.158246   -21.72179  -16.08618   -65.076097  ...  -17.295406   \n",
       "12   39.871754   105.90821   61.89382   253.613903  ...  -17.295406   \n",
       "13  281.461754  1563.90821  -16.08618   654.013903  ...  -17.295406   \n",
       "14  501.971754   665.41821  555.96382   761.213903  ...  -17.295406   \n",
       "15  -28.008246  2373.67821  -16.08618  1417.973903  ...  -17.295406   \n",
       "16  -89.898246    89.22821  -16.08618   -65.076097  ...  -17.295406   \n",
       "17  -25.908246  -148.02179  -16.08618   -65.076097  ...  -17.295406   \n",
       "18  -57.908246  -260.31179    7.64382    29.843903  ...  -17.295406   \n",
       "19 -114.038246  -479.77179  -16.08618   -65.076097  ...  -14.295406   \n",
       "\n",
       "            243          244         245         246           247        248  \\\n",
       "0   -977.373846  -613.770792  -25.996269  -37.630448   -301.747724 -25.832889   \n",
       "1   -891.373846  -544.770792  -20.996269   48.369552     80.252276 -13.832889   \n",
       "2   -977.373846  -613.770792  -12.996269  -37.630448  10829.252276 -25.832889   \n",
       "3   -973.373846  -613.770792  -23.996269  -37.630448   -205.747724 -24.832889   \n",
       "4   1643.626154  2007.229208  206.003731  -21.630448   6667.252276  92.167111   \n",
       "5    -11.373846   346.229208  -17.996269  127.369552   -159.747724 -17.832889   \n",
       "6   -854.373846  -552.770792  -20.996269  -37.630448    -63.747724 -25.832889   \n",
       "7   -568.373846  -207.770792  -23.996269  -37.630448    -36.747724  43.167111   \n",
       "8   -962.373846  -598.770792  -25.996269  -37.630448   -202.747724  31.167111   \n",
       "9   -969.373846  -613.770792  -24.996269  -37.630448   -250.747724 -22.832889   \n",
       "10    55.626154  -347.770792  -24.996269  -37.630448   -180.747724 -24.832889   \n",
       "11  -967.373846  -604.770792  -25.996269  -37.630448   -177.747724 -13.832889   \n",
       "12  -974.373846  -611.770792  -25.996269  -37.630448    -97.747724 -23.832889   \n",
       "13  -977.373846  -613.770792  -25.996269  -35.630448   -295.747724 -17.832889   \n",
       "14   972.626154  1323.229208  -17.996269  -35.630448  13847.252276 -22.832889   \n",
       "15  -977.373846  -613.770792  -25.996269  -34.630448   -277.747724 -25.832889   \n",
       "16  -977.373846  -613.770792  -23.996269  190.369552   -286.747724 -25.832889   \n",
       "17  -964.373846  -613.770792  -23.996269  -33.630448   -265.747724 -25.832889   \n",
       "18   896.626154  1230.229208  -25.996269  -37.630448     -7.747724 -18.832889   \n",
       "19  -925.373846  -561.770792  -21.996269  -37.630448   -151.747724 -24.832889   \n",
       "\n",
       "          249        250       251  \n",
       "0   -0.694428 -12.175933  -0.45614  \n",
       "1   -0.694428  -1.175933  -0.45614  \n",
       "2   -0.694428 -12.175933  -0.45614  \n",
       "3   -0.694428 -11.175933  -0.45614  \n",
       "4   -0.694428  49.824067  47.54386  \n",
       "5   -0.694428  -4.175933  -0.45614  \n",
       "6   -0.694428 -12.175933  -0.45614  \n",
       "7   35.305572  20.824067  -0.45614  \n",
       "8   -0.694428 -12.175933  -0.45614  \n",
       "9   -0.694428 -11.175933   0.54386  \n",
       "10  -0.694428 -11.175933  -0.45614  \n",
       "11   9.305572 -10.175933  -0.45614  \n",
       "12  -0.694428 -12.175933   1.54386  \n",
       "13  -0.694428  -4.175933  -0.45614  \n",
       "14  -0.694428 -12.175933  -0.45614  \n",
       "15  -0.694428 -12.175933  -0.45614  \n",
       "16  -0.694428 -12.175933  -0.45614  \n",
       "17  -0.694428 -12.175933  -0.45614  \n",
       "18  -0.694428 -12.175933  -0.45614  \n",
       "19   0.305572 -12.175933  -0.45614  \n",
       "\n",
       "[20 rows x 254 columns]"
      ]
     },
     "execution_count": 13,
     "metadata": {},
     "output_type": "execute_result"
    }
   ],
   "source": [
    "data.head(20)"
   ]
  },
  {
   "cell_type": "code",
   "execution_count": 14,
   "id": "a0c94f9c",
   "metadata": {},
   "outputs": [],
   "source": [
    "for column in data.columns:\n",
    "    if column in ('id', 'buy_time'):\n",
    "        data[column] = data[column].astype('int64')\n",
    "    else:\n",
    "        data[column] = data[column].astype('float')"
   ]
  },
  {
   "cell_type": "code",
   "execution_count": 15,
   "id": "d7011985",
   "metadata": {},
   "outputs": [],
   "source": [
    "data.to_parquet(\"Data/features4.parquet\")\n"
   ]
  },
  {
   "cell_type": "code",
   "execution_count": 8,
   "id": "6111ce1b",
   "metadata": {},
   "outputs": [],
   "source": [
    "data = dd.read_parquet(\"Data/features4.parquet\")"
   ]
  },
  {
   "cell_type": "markdown",
   "id": "257d9fc0",
   "metadata": {},
   "source": [
    "<h2>Добавление фичей</h2>"
   ]
  },
  {
   "cell_type": "code",
   "execution_count": 9,
   "id": "63df9fff",
   "metadata": {},
   "outputs": [],
   "source": [
    "def GetDateTime(df):\n",
    "    df['hours'] = df['buy_time'].dt.hour\n",
    "    df['days'] = df['buy_time'].dt.day\n",
    "    df['day_week'] = df['buy_time'].dt.dayofweek\n",
    "    df['day_year'] = df['buy_time'].dt.dayofyear\n",
    "    df['day_month'] = df['buy_time'].dt.daysinmonth\n",
    "    df['weeks_on'] = df['buy_time'].dt.week\n",
    "    df['week_year'] = df['buy_time'].dt.weekofyear\n",
    "    df['months'] = df['buy_time'].dt.month\n",
    "    df['quartal'] = df['buy_time'].dt.quarter\n",
    "    df['years'] = df['buy_time'].dt.year\n",
    "    return df"
   ]
  },
  {
   "cell_type": "code",
   "execution_count": 10,
   "id": "3c0e14c1",
   "metadata": {},
   "outputs": [
    {
     "data": {
      "text/html": [
       "<div>\n",
       "<style scoped>\n",
       "    .dataframe tbody tr th:only-of-type {\n",
       "        vertical-align: middle;\n",
       "    }\n",
       "\n",
       "    .dataframe tbody tr th {\n",
       "        vertical-align: top;\n",
       "    }\n",
       "\n",
       "    .dataframe thead th {\n",
       "        text-align: right;\n",
       "    }\n",
       "</style>\n",
       "<table border=\"1\" class=\"dataframe\">\n",
       "  <thead>\n",
       "    <tr style=\"text-align: right;\">\n",
       "      <th></th>\n",
       "      <th>id</th>\n",
       "      <th>buy_time_x</th>\n",
       "      <th>0</th>\n",
       "      <th>1</th>\n",
       "      <th>2</th>\n",
       "      <th>3</th>\n",
       "      <th>4</th>\n",
       "      <th>5</th>\n",
       "      <th>6</th>\n",
       "      <th>7</th>\n",
       "      <th>...</th>\n",
       "      <th>245</th>\n",
       "      <th>246</th>\n",
       "      <th>247</th>\n",
       "      <th>248</th>\n",
       "      <th>249</th>\n",
       "      <th>250</th>\n",
       "      <th>251</th>\n",
       "      <th>vas_id</th>\n",
       "      <th>buy_time_y</th>\n",
       "      <th>target</th>\n",
       "    </tr>\n",
       "  </thead>\n",
       "  <tbody>\n",
       "    <tr>\n",
       "      <th>0</th>\n",
       "      <td>2046132</td>\n",
       "      <td>1534712400</td>\n",
       "      <td>300.820029</td>\n",
       "      <td>1599.480888</td>\n",
       "      <td>286.879214</td>\n",
       "      <td>1585.013202</td>\n",
       "      <td>281.461754</td>\n",
       "      <td>1563.90821</td>\n",
       "      <td>-16.08618</td>\n",
       "      <td>654.013903</td>\n",
       "      <td>...</td>\n",
       "      <td>-25.996269</td>\n",
       "      <td>-35.630448</td>\n",
       "      <td>-295.747724</td>\n",
       "      <td>-17.832889</td>\n",
       "      <td>-0.694428</td>\n",
       "      <td>-4.175933</td>\n",
       "      <td>-0.45614</td>\n",
       "      <td>2.0</td>\n",
       "      <td>1544389200</td>\n",
       "      <td>0.0</td>\n",
       "    </tr>\n",
       "    <tr>\n",
       "      <th>1</th>\n",
       "      <td>2050810</td>\n",
       "      <td>1540760400</td>\n",
       "      <td>-86.209971</td>\n",
       "      <td>91.820888</td>\n",
       "      <td>-84.480786</td>\n",
       "      <td>110.333202</td>\n",
       "      <td>-89.898246</td>\n",
       "      <td>89.22821</td>\n",
       "      <td>-16.08618</td>\n",
       "      <td>-65.076097</td>\n",
       "      <td>...</td>\n",
       "      <td>-23.996269</td>\n",
       "      <td>190.369552</td>\n",
       "      <td>-286.747724</td>\n",
       "      <td>-25.832889</td>\n",
       "      <td>-0.694428</td>\n",
       "      <td>-12.175933</td>\n",
       "      <td>-0.45614</td>\n",
       "      <td>1.0</td>\n",
       "      <td>1536526800</td>\n",
       "      <td>0.0</td>\n",
       "    </tr>\n",
       "    <tr>\n",
       "      <th>2</th>\n",
       "      <td>2070757</td>\n",
       "      <td>1540760400</td>\n",
       "      <td>-96.799971</td>\n",
       "      <td>-408.179112</td>\n",
       "      <td>-110.740786</td>\n",
       "      <td>-460.786798</td>\n",
       "      <td>-114.038246</td>\n",
       "      <td>-479.77179</td>\n",
       "      <td>-16.08618</td>\n",
       "      <td>-65.076097</td>\n",
       "      <td>...</td>\n",
       "      <td>-21.996269</td>\n",
       "      <td>-37.630448</td>\n",
       "      <td>-151.747724</td>\n",
       "      <td>-24.832889</td>\n",
       "      <td>0.305572</td>\n",
       "      <td>-12.175933</td>\n",
       "      <td>-0.45614</td>\n",
       "      <td>1.0</td>\n",
       "      <td>1532293200</td>\n",
       "      <td>0.0</td>\n",
       "    </tr>\n",
       "    <tr>\n",
       "      <th>3</th>\n",
       "      <td>2071522</td>\n",
       "      <td>1544994000</td>\n",
       "      <td>-94.939971</td>\n",
       "      <td>-363.699112</td>\n",
       "      <td>-108.880786</td>\n",
       "      <td>-411.226798</td>\n",
       "      <td>-114.298246</td>\n",
       "      <td>-432.33179</td>\n",
       "      <td>-16.08618</td>\n",
       "      <td>-65.076097</td>\n",
       "      <td>...</td>\n",
       "      <td>-25.996269</td>\n",
       "      <td>-37.630448</td>\n",
       "      <td>-306.747724</td>\n",
       "      <td>-25.832889</td>\n",
       "      <td>-0.694428</td>\n",
       "      <td>-12.175933</td>\n",
       "      <td>-0.45614</td>\n",
       "      <td>1.0</td>\n",
       "      <td>1535317200</td>\n",
       "      <td>0.0</td>\n",
       "    </tr>\n",
       "    <tr>\n",
       "      <th>4</th>\n",
       "      <td>2075318</td>\n",
       "      <td>1533502800</td>\n",
       "      <td>-75.639971</td>\n",
       "      <td>669.690888</td>\n",
       "      <td>-89.580786</td>\n",
       "      <td>732.343202</td>\n",
       "      <td>-94.998246</td>\n",
       "      <td>736.65821</td>\n",
       "      <td>-16.08618</td>\n",
       "      <td>782.383903</td>\n",
       "      <td>...</td>\n",
       "      <td>-25.996269</td>\n",
       "      <td>-37.630448</td>\n",
       "      <td>-167.747724</td>\n",
       "      <td>-14.832889</td>\n",
       "      <td>2.305572</td>\n",
       "      <td>-4.175933</td>\n",
       "      <td>-0.45614</td>\n",
       "      <td>2.0</td>\n",
       "      <td>1544389200</td>\n",
       "      <td>0.0</td>\n",
       "    </tr>\n",
       "    <tr>\n",
       "      <th>...</th>\n",
       "      <td>...</td>\n",
       "      <td>...</td>\n",
       "      <td>...</td>\n",
       "      <td>...</td>\n",
       "      <td>...</td>\n",
       "      <td>...</td>\n",
       "      <td>...</td>\n",
       "      <td>...</td>\n",
       "      <td>...</td>\n",
       "      <td>...</td>\n",
       "      <td>...</td>\n",
       "      <td>...</td>\n",
       "      <td>...</td>\n",
       "      <td>...</td>\n",
       "      <td>...</td>\n",
       "      <td>...</td>\n",
       "      <td>...</td>\n",
       "      <td>...</td>\n",
       "      <td>...</td>\n",
       "      <td>...</td>\n",
       "      <td>...</td>\n",
       "    </tr>\n",
       "    <tr>\n",
       "      <th>979</th>\n",
       "      <td>3513825</td>\n",
       "      <td>1546808400</td>\n",
       "      <td>-9.299971</td>\n",
       "      <td>-231.429112</td>\n",
       "      <td>26.779214</td>\n",
       "      <td>-183.566798</td>\n",
       "      <td>21.361754</td>\n",
       "      <td>-204.67179</td>\n",
       "      <td>-16.08618</td>\n",
       "      <td>-65.076097</td>\n",
       "      <td>...</td>\n",
       "      <td>-25.996269</td>\n",
       "      <td>-37.630448</td>\n",
       "      <td>-306.747724</td>\n",
       "      <td>-25.832889</td>\n",
       "      <td>-0.694428</td>\n",
       "      <td>-12.175933</td>\n",
       "      <td>-0.45614</td>\n",
       "      <td>1.0</td>\n",
       "      <td>1533502800</td>\n",
       "      <td>0.0</td>\n",
       "    </tr>\n",
       "    <tr>\n",
       "      <th>980</th>\n",
       "      <td>3513869</td>\n",
       "      <td>1548018000</td>\n",
       "      <td>82.370029</td>\n",
       "      <td>-123.429112</td>\n",
       "      <td>155.939214</td>\n",
       "      <td>-88.526798</td>\n",
       "      <td>150.521754</td>\n",
       "      <td>-109.63179</td>\n",
       "      <td>-16.08618</td>\n",
       "      <td>-65.076097</td>\n",
       "      <td>...</td>\n",
       "      <td>-23.996269</td>\n",
       "      <td>-37.630448</td>\n",
       "      <td>-271.747724</td>\n",
       "      <td>-22.832889</td>\n",
       "      <td>-0.694428</td>\n",
       "      <td>-12.175933</td>\n",
       "      <td>-0.45614</td>\n",
       "      <td>1.0</td>\n",
       "      <td>1532293200</td>\n",
       "      <td>0.0</td>\n",
       "    </tr>\n",
       "    <tr>\n",
       "      <th>981</th>\n",
       "      <td>3517434</td>\n",
       "      <td>1548018000</td>\n",
       "      <td>-96.799971</td>\n",
       "      <td>-284.349112</td>\n",
       "      <td>-100.740786</td>\n",
       "      <td>-274.796798</td>\n",
       "      <td>-106.158246</td>\n",
       "      <td>-295.90179</td>\n",
       "      <td>-16.08618</td>\n",
       "      <td>-65.076097</td>\n",
       "      <td>...</td>\n",
       "      <td>-25.996269</td>\n",
       "      <td>-37.630448</td>\n",
       "      <td>-306.747724</td>\n",
       "      <td>-25.832889</td>\n",
       "      <td>-0.694428</td>\n",
       "      <td>-12.175933</td>\n",
       "      <td>-0.45614</td>\n",
       "      <td>2.0</td>\n",
       "      <td>1545598800</td>\n",
       "      <td>0.0</td>\n",
       "    </tr>\n",
       "    <tr>\n",
       "      <th>982</th>\n",
       "      <td>3519714</td>\n",
       "      <td>1546808400</td>\n",
       "      <td>167.280029</td>\n",
       "      <td>110.140888</td>\n",
       "      <td>153.339214</td>\n",
       "      <td>57.533202</td>\n",
       "      <td>147.921754</td>\n",
       "      <td>36.42821</td>\n",
       "      <td>-2.00618</td>\n",
       "      <td>-50.996097</td>\n",
       "      <td>...</td>\n",
       "      <td>-14.996269</td>\n",
       "      <td>7.369552</td>\n",
       "      <td>-180.747724</td>\n",
       "      <td>-19.832889</td>\n",
       "      <td>0.305572</td>\n",
       "      <td>-12.175933</td>\n",
       "      <td>-0.45614</td>\n",
       "      <td>2.0</td>\n",
       "      <td>1545598800</td>\n",
       "      <td>0.0</td>\n",
       "    </tr>\n",
       "    <tr>\n",
       "      <th>983</th>\n",
       "      <td>3521152</td>\n",
       "      <td>1548018000</td>\n",
       "      <td>-96.799971</td>\n",
       "      <td>-198.259112</td>\n",
       "      <td>-110.740786</td>\n",
       "      <td>-250.866798</td>\n",
       "      <td>-116.158246</td>\n",
       "      <td>-263.72179</td>\n",
       "      <td>-16.08618</td>\n",
       "      <td>-65.076097</td>\n",
       "      <td>...</td>\n",
       "      <td>-22.996269</td>\n",
       "      <td>339.369552</td>\n",
       "      <td>17256.252276</td>\n",
       "      <td>-0.832889</td>\n",
       "      <td>0.305572</td>\n",
       "      <td>-12.175933</td>\n",
       "      <td>-0.45614</td>\n",
       "      <td>1.0</td>\n",
       "      <td>1533502800</td>\n",
       "      <td>0.0</td>\n",
       "    </tr>\n",
       "  </tbody>\n",
       "</table>\n",
       "<p>860052 rows × 257 columns</p>\n",
       "</div>"
      ],
      "text/plain": [
       "          id  buy_time_x           0            1           2            3  \\\n",
       "0    2046132  1534712400  300.820029  1599.480888  286.879214  1585.013202   \n",
       "1    2050810  1540760400  -86.209971    91.820888  -84.480786   110.333202   \n",
       "2    2070757  1540760400  -96.799971  -408.179112 -110.740786  -460.786798   \n",
       "3    2071522  1544994000  -94.939971  -363.699112 -108.880786  -411.226798   \n",
       "4    2075318  1533502800  -75.639971   669.690888  -89.580786   732.343202   \n",
       "..       ...         ...         ...          ...         ...          ...   \n",
       "979  3513825  1546808400   -9.299971  -231.429112   26.779214  -183.566798   \n",
       "980  3513869  1548018000   82.370029  -123.429112  155.939214   -88.526798   \n",
       "981  3517434  1548018000  -96.799971  -284.349112 -100.740786  -274.796798   \n",
       "982  3519714  1546808400  167.280029   110.140888  153.339214    57.533202   \n",
       "983  3521152  1548018000  -96.799971  -198.259112 -110.740786  -250.866798   \n",
       "\n",
       "              4           5         6           7  ...        245         246  \\\n",
       "0    281.461754  1563.90821 -16.08618  654.013903  ... -25.996269  -35.630448   \n",
       "1    -89.898246    89.22821 -16.08618  -65.076097  ... -23.996269  190.369552   \n",
       "2   -114.038246  -479.77179 -16.08618  -65.076097  ... -21.996269  -37.630448   \n",
       "3   -114.298246  -432.33179 -16.08618  -65.076097  ... -25.996269  -37.630448   \n",
       "4    -94.998246   736.65821 -16.08618  782.383903  ... -25.996269  -37.630448   \n",
       "..          ...         ...       ...         ...  ...        ...         ...   \n",
       "979   21.361754  -204.67179 -16.08618  -65.076097  ... -25.996269  -37.630448   \n",
       "980  150.521754  -109.63179 -16.08618  -65.076097  ... -23.996269  -37.630448   \n",
       "981 -106.158246  -295.90179 -16.08618  -65.076097  ... -25.996269  -37.630448   \n",
       "982  147.921754    36.42821  -2.00618  -50.996097  ... -14.996269    7.369552   \n",
       "983 -116.158246  -263.72179 -16.08618  -65.076097  ... -22.996269  339.369552   \n",
       "\n",
       "              247        248       249        250      251  vas_id  \\\n",
       "0     -295.747724 -17.832889 -0.694428  -4.175933 -0.45614     2.0   \n",
       "1     -286.747724 -25.832889 -0.694428 -12.175933 -0.45614     1.0   \n",
       "2     -151.747724 -24.832889  0.305572 -12.175933 -0.45614     1.0   \n",
       "3     -306.747724 -25.832889 -0.694428 -12.175933 -0.45614     1.0   \n",
       "4     -167.747724 -14.832889  2.305572  -4.175933 -0.45614     2.0   \n",
       "..            ...        ...       ...        ...      ...     ...   \n",
       "979   -306.747724 -25.832889 -0.694428 -12.175933 -0.45614     1.0   \n",
       "980   -271.747724 -22.832889 -0.694428 -12.175933 -0.45614     1.0   \n",
       "981   -306.747724 -25.832889 -0.694428 -12.175933 -0.45614     2.0   \n",
       "982   -180.747724 -19.832889  0.305572 -12.175933 -0.45614     2.0   \n",
       "983  17256.252276  -0.832889  0.305572 -12.175933 -0.45614     1.0   \n",
       "\n",
       "     buy_time_y  target  \n",
       "0    1544389200     0.0  \n",
       "1    1536526800     0.0  \n",
       "2    1532293200     0.0  \n",
       "3    1535317200     0.0  \n",
       "4    1544389200     0.0  \n",
       "..          ...     ...  \n",
       "979  1533502800     0.0  \n",
       "980  1532293200     0.0  \n",
       "981  1545598800     0.0  \n",
       "982  1545598800     0.0  \n",
       "983  1533502800     0.0  \n",
       "\n",
       "[860052 rows x 257 columns]"
      ]
     },
     "execution_count": 10,
     "metadata": {},
     "output_type": "execute_result"
    }
   ],
   "source": [
    "train = data.merge(train, left_on='id', right_on='id').compute()\n",
    "train"
   ]
  },
  {
   "cell_type": "code",
   "execution_count": 11,
   "id": "e6c67ba6",
   "metadata": {},
   "outputs": [
    {
     "data": {
      "text/html": [
       "<div>\n",
       "<style scoped>\n",
       "    .dataframe tbody tr th:only-of-type {\n",
       "        vertical-align: middle;\n",
       "    }\n",
       "\n",
       "    .dataframe tbody tr th {\n",
       "        vertical-align: top;\n",
       "    }\n",
       "\n",
       "    .dataframe thead th {\n",
       "        text-align: right;\n",
       "    }\n",
       "</style>\n",
       "<table border=\"1\" class=\"dataframe\">\n",
       "  <thead>\n",
       "    <tr style=\"text-align: right;\">\n",
       "      <th></th>\n",
       "      <th>id</th>\n",
       "      <th>buy_time</th>\n",
       "      <th>0</th>\n",
       "      <th>1</th>\n",
       "      <th>2</th>\n",
       "      <th>3</th>\n",
       "      <th>4</th>\n",
       "      <th>5</th>\n",
       "      <th>6</th>\n",
       "      <th>7</th>\n",
       "      <th>...</th>\n",
       "      <th>244</th>\n",
       "      <th>245</th>\n",
       "      <th>246</th>\n",
       "      <th>247</th>\n",
       "      <th>248</th>\n",
       "      <th>249</th>\n",
       "      <th>250</th>\n",
       "      <th>251</th>\n",
       "      <th>vas_id</th>\n",
       "      <th>target</th>\n",
       "    </tr>\n",
       "  </thead>\n",
       "  <tbody>\n",
       "    <tr>\n",
       "      <th>0</th>\n",
       "      <td>2046132</td>\n",
       "      <td>1534712400</td>\n",
       "      <td>300.820029</td>\n",
       "      <td>1599.480888</td>\n",
       "      <td>286.879214</td>\n",
       "      <td>1585.013202</td>\n",
       "      <td>281.461754</td>\n",
       "      <td>1563.90821</td>\n",
       "      <td>-16.08618</td>\n",
       "      <td>654.013903</td>\n",
       "      <td>...</td>\n",
       "      <td>-613.770792</td>\n",
       "      <td>-25.996269</td>\n",
       "      <td>-35.630448</td>\n",
       "      <td>-295.747724</td>\n",
       "      <td>-17.832889</td>\n",
       "      <td>-0.694428</td>\n",
       "      <td>-4.175933</td>\n",
       "      <td>-0.45614</td>\n",
       "      <td>2.0</td>\n",
       "      <td>0.0</td>\n",
       "    </tr>\n",
       "    <tr>\n",
       "      <th>1</th>\n",
       "      <td>2050810</td>\n",
       "      <td>1540760400</td>\n",
       "      <td>-86.209971</td>\n",
       "      <td>91.820888</td>\n",
       "      <td>-84.480786</td>\n",
       "      <td>110.333202</td>\n",
       "      <td>-89.898246</td>\n",
       "      <td>89.22821</td>\n",
       "      <td>-16.08618</td>\n",
       "      <td>-65.076097</td>\n",
       "      <td>...</td>\n",
       "      <td>-613.770792</td>\n",
       "      <td>-23.996269</td>\n",
       "      <td>190.369552</td>\n",
       "      <td>-286.747724</td>\n",
       "      <td>-25.832889</td>\n",
       "      <td>-0.694428</td>\n",
       "      <td>-12.175933</td>\n",
       "      <td>-0.45614</td>\n",
       "      <td>1.0</td>\n",
       "      <td>0.0</td>\n",
       "    </tr>\n",
       "    <tr>\n",
       "      <th>2</th>\n",
       "      <td>2070757</td>\n",
       "      <td>1540760400</td>\n",
       "      <td>-96.799971</td>\n",
       "      <td>-408.179112</td>\n",
       "      <td>-110.740786</td>\n",
       "      <td>-460.786798</td>\n",
       "      <td>-114.038246</td>\n",
       "      <td>-479.77179</td>\n",
       "      <td>-16.08618</td>\n",
       "      <td>-65.076097</td>\n",
       "      <td>...</td>\n",
       "      <td>-561.770792</td>\n",
       "      <td>-21.996269</td>\n",
       "      <td>-37.630448</td>\n",
       "      <td>-151.747724</td>\n",
       "      <td>-24.832889</td>\n",
       "      <td>0.305572</td>\n",
       "      <td>-12.175933</td>\n",
       "      <td>-0.45614</td>\n",
       "      <td>1.0</td>\n",
       "      <td>0.0</td>\n",
       "    </tr>\n",
       "    <tr>\n",
       "      <th>3</th>\n",
       "      <td>2071522</td>\n",
       "      <td>1544994000</td>\n",
       "      <td>-94.939971</td>\n",
       "      <td>-363.699112</td>\n",
       "      <td>-108.880786</td>\n",
       "      <td>-411.226798</td>\n",
       "      <td>-114.298246</td>\n",
       "      <td>-432.33179</td>\n",
       "      <td>-16.08618</td>\n",
       "      <td>-65.076097</td>\n",
       "      <td>...</td>\n",
       "      <td>-613.770792</td>\n",
       "      <td>-25.996269</td>\n",
       "      <td>-37.630448</td>\n",
       "      <td>-306.747724</td>\n",
       "      <td>-25.832889</td>\n",
       "      <td>-0.694428</td>\n",
       "      <td>-12.175933</td>\n",
       "      <td>-0.45614</td>\n",
       "      <td>1.0</td>\n",
       "      <td>0.0</td>\n",
       "    </tr>\n",
       "    <tr>\n",
       "      <th>4</th>\n",
       "      <td>2075318</td>\n",
       "      <td>1533502800</td>\n",
       "      <td>-75.639971</td>\n",
       "      <td>669.690888</td>\n",
       "      <td>-89.580786</td>\n",
       "      <td>732.343202</td>\n",
       "      <td>-94.998246</td>\n",
       "      <td>736.65821</td>\n",
       "      <td>-16.08618</td>\n",
       "      <td>782.383903</td>\n",
       "      <td>...</td>\n",
       "      <td>-242.770792</td>\n",
       "      <td>-25.996269</td>\n",
       "      <td>-37.630448</td>\n",
       "      <td>-167.747724</td>\n",
       "      <td>-14.832889</td>\n",
       "      <td>2.305572</td>\n",
       "      <td>-4.175933</td>\n",
       "      <td>-0.45614</td>\n",
       "      <td>2.0</td>\n",
       "      <td>0.0</td>\n",
       "    </tr>\n",
       "    <tr>\n",
       "      <th>...</th>\n",
       "      <td>...</td>\n",
       "      <td>...</td>\n",
       "      <td>...</td>\n",
       "      <td>...</td>\n",
       "      <td>...</td>\n",
       "      <td>...</td>\n",
       "      <td>...</td>\n",
       "      <td>...</td>\n",
       "      <td>...</td>\n",
       "      <td>...</td>\n",
       "      <td>...</td>\n",
       "      <td>...</td>\n",
       "      <td>...</td>\n",
       "      <td>...</td>\n",
       "      <td>...</td>\n",
       "      <td>...</td>\n",
       "      <td>...</td>\n",
       "      <td>...</td>\n",
       "      <td>...</td>\n",
       "      <td>...</td>\n",
       "      <td>...</td>\n",
       "    </tr>\n",
       "    <tr>\n",
       "      <th>979</th>\n",
       "      <td>3513825</td>\n",
       "      <td>1546808400</td>\n",
       "      <td>-9.299971</td>\n",
       "      <td>-231.429112</td>\n",
       "      <td>26.779214</td>\n",
       "      <td>-183.566798</td>\n",
       "      <td>21.361754</td>\n",
       "      <td>-204.67179</td>\n",
       "      <td>-16.08618</td>\n",
       "      <td>-65.076097</td>\n",
       "      <td>...</td>\n",
       "      <td>-613.770792</td>\n",
       "      <td>-25.996269</td>\n",
       "      <td>-37.630448</td>\n",
       "      <td>-306.747724</td>\n",
       "      <td>-25.832889</td>\n",
       "      <td>-0.694428</td>\n",
       "      <td>-12.175933</td>\n",
       "      <td>-0.45614</td>\n",
       "      <td>1.0</td>\n",
       "      <td>0.0</td>\n",
       "    </tr>\n",
       "    <tr>\n",
       "      <th>980</th>\n",
       "      <td>3513869</td>\n",
       "      <td>1548018000</td>\n",
       "      <td>82.370029</td>\n",
       "      <td>-123.429112</td>\n",
       "      <td>155.939214</td>\n",
       "      <td>-88.526798</td>\n",
       "      <td>150.521754</td>\n",
       "      <td>-109.63179</td>\n",
       "      <td>-16.08618</td>\n",
       "      <td>-65.076097</td>\n",
       "      <td>...</td>\n",
       "      <td>-570.770792</td>\n",
       "      <td>-23.996269</td>\n",
       "      <td>-37.630448</td>\n",
       "      <td>-271.747724</td>\n",
       "      <td>-22.832889</td>\n",
       "      <td>-0.694428</td>\n",
       "      <td>-12.175933</td>\n",
       "      <td>-0.45614</td>\n",
       "      <td>1.0</td>\n",
       "      <td>0.0</td>\n",
       "    </tr>\n",
       "    <tr>\n",
       "      <th>981</th>\n",
       "      <td>3517434</td>\n",
       "      <td>1548018000</td>\n",
       "      <td>-96.799971</td>\n",
       "      <td>-284.349112</td>\n",
       "      <td>-100.740786</td>\n",
       "      <td>-274.796798</td>\n",
       "      <td>-106.158246</td>\n",
       "      <td>-295.90179</td>\n",
       "      <td>-16.08618</td>\n",
       "      <td>-65.076097</td>\n",
       "      <td>...</td>\n",
       "      <td>-613.770792</td>\n",
       "      <td>-25.996269</td>\n",
       "      <td>-37.630448</td>\n",
       "      <td>-306.747724</td>\n",
       "      <td>-25.832889</td>\n",
       "      <td>-0.694428</td>\n",
       "      <td>-12.175933</td>\n",
       "      <td>-0.45614</td>\n",
       "      <td>2.0</td>\n",
       "      <td>0.0</td>\n",
       "    </tr>\n",
       "    <tr>\n",
       "      <th>982</th>\n",
       "      <td>3519714</td>\n",
       "      <td>1546808400</td>\n",
       "      <td>167.280029</td>\n",
       "      <td>110.140888</td>\n",
       "      <td>153.339214</td>\n",
       "      <td>57.533202</td>\n",
       "      <td>147.921754</td>\n",
       "      <td>36.42821</td>\n",
       "      <td>-2.00618</td>\n",
       "      <td>-50.996097</td>\n",
       "      <td>...</td>\n",
       "      <td>-613.770792</td>\n",
       "      <td>-14.996269</td>\n",
       "      <td>7.369552</td>\n",
       "      <td>-180.747724</td>\n",
       "      <td>-19.832889</td>\n",
       "      <td>0.305572</td>\n",
       "      <td>-12.175933</td>\n",
       "      <td>-0.45614</td>\n",
       "      <td>2.0</td>\n",
       "      <td>0.0</td>\n",
       "    </tr>\n",
       "    <tr>\n",
       "      <th>983</th>\n",
       "      <td>3521152</td>\n",
       "      <td>1548018000</td>\n",
       "      <td>-96.799971</td>\n",
       "      <td>-198.259112</td>\n",
       "      <td>-110.740786</td>\n",
       "      <td>-250.866798</td>\n",
       "      <td>-116.158246</td>\n",
       "      <td>-263.72179</td>\n",
       "      <td>-16.08618</td>\n",
       "      <td>-65.076097</td>\n",
       "      <td>...</td>\n",
       "      <td>2447.229208</td>\n",
       "      <td>-22.996269</td>\n",
       "      <td>339.369552</td>\n",
       "      <td>17256.252276</td>\n",
       "      <td>-0.832889</td>\n",
       "      <td>0.305572</td>\n",
       "      <td>-12.175933</td>\n",
       "      <td>-0.45614</td>\n",
       "      <td>1.0</td>\n",
       "      <td>0.0</td>\n",
       "    </tr>\n",
       "  </tbody>\n",
       "</table>\n",
       "<p>860052 rows × 256 columns</p>\n",
       "</div>"
      ],
      "text/plain": [
       "          id    buy_time           0            1           2            3  \\\n",
       "0    2046132  1534712400  300.820029  1599.480888  286.879214  1585.013202   \n",
       "1    2050810  1540760400  -86.209971    91.820888  -84.480786   110.333202   \n",
       "2    2070757  1540760400  -96.799971  -408.179112 -110.740786  -460.786798   \n",
       "3    2071522  1544994000  -94.939971  -363.699112 -108.880786  -411.226798   \n",
       "4    2075318  1533502800  -75.639971   669.690888  -89.580786   732.343202   \n",
       "..       ...         ...         ...          ...         ...          ...   \n",
       "979  3513825  1546808400   -9.299971  -231.429112   26.779214  -183.566798   \n",
       "980  3513869  1548018000   82.370029  -123.429112  155.939214   -88.526798   \n",
       "981  3517434  1548018000  -96.799971  -284.349112 -100.740786  -274.796798   \n",
       "982  3519714  1546808400  167.280029   110.140888  153.339214    57.533202   \n",
       "983  3521152  1548018000  -96.799971  -198.259112 -110.740786  -250.866798   \n",
       "\n",
       "              4           5         6           7  ...          244  \\\n",
       "0    281.461754  1563.90821 -16.08618  654.013903  ...  -613.770792   \n",
       "1    -89.898246    89.22821 -16.08618  -65.076097  ...  -613.770792   \n",
       "2   -114.038246  -479.77179 -16.08618  -65.076097  ...  -561.770792   \n",
       "3   -114.298246  -432.33179 -16.08618  -65.076097  ...  -613.770792   \n",
       "4    -94.998246   736.65821 -16.08618  782.383903  ...  -242.770792   \n",
       "..          ...         ...       ...         ...  ...          ...   \n",
       "979   21.361754  -204.67179 -16.08618  -65.076097  ...  -613.770792   \n",
       "980  150.521754  -109.63179 -16.08618  -65.076097  ...  -570.770792   \n",
       "981 -106.158246  -295.90179 -16.08618  -65.076097  ...  -613.770792   \n",
       "982  147.921754    36.42821  -2.00618  -50.996097  ...  -613.770792   \n",
       "983 -116.158246  -263.72179 -16.08618  -65.076097  ...  2447.229208   \n",
       "\n",
       "           245         246           247        248       249        250  \\\n",
       "0   -25.996269  -35.630448   -295.747724 -17.832889 -0.694428  -4.175933   \n",
       "1   -23.996269  190.369552   -286.747724 -25.832889 -0.694428 -12.175933   \n",
       "2   -21.996269  -37.630448   -151.747724 -24.832889  0.305572 -12.175933   \n",
       "3   -25.996269  -37.630448   -306.747724 -25.832889 -0.694428 -12.175933   \n",
       "4   -25.996269  -37.630448   -167.747724 -14.832889  2.305572  -4.175933   \n",
       "..         ...         ...           ...        ...       ...        ...   \n",
       "979 -25.996269  -37.630448   -306.747724 -25.832889 -0.694428 -12.175933   \n",
       "980 -23.996269  -37.630448   -271.747724 -22.832889 -0.694428 -12.175933   \n",
       "981 -25.996269  -37.630448   -306.747724 -25.832889 -0.694428 -12.175933   \n",
       "982 -14.996269    7.369552   -180.747724 -19.832889  0.305572 -12.175933   \n",
       "983 -22.996269  339.369552  17256.252276  -0.832889  0.305572 -12.175933   \n",
       "\n",
       "         251  vas_id  target  \n",
       "0   -0.45614     2.0     0.0  \n",
       "1   -0.45614     1.0     0.0  \n",
       "2   -0.45614     1.0     0.0  \n",
       "3   -0.45614     1.0     0.0  \n",
       "4   -0.45614     2.0     0.0  \n",
       "..       ...     ...     ...  \n",
       "979 -0.45614     1.0     0.0  \n",
       "980 -0.45614     1.0     0.0  \n",
       "981 -0.45614     2.0     0.0  \n",
       "982 -0.45614     2.0     0.0  \n",
       "983 -0.45614     1.0     0.0  \n",
       "\n",
       "[860052 rows x 256 columns]"
      ]
     },
     "execution_count": 11,
     "metadata": {},
     "output_type": "execute_result"
    }
   ],
   "source": [
    "train = train.drop('buy_time_y', axis=1)\n",
    "train = train.rename(columns={\"buy_time_x\":\"buy_time\"})\n",
    "train"
   ]
  },
  {
   "cell_type": "code",
   "execution_count": 12,
   "id": "c2ca3241",
   "metadata": {},
   "outputs": [],
   "source": [
    "import datetime as dt"
   ]
  },
  {
   "cell_type": "code",
   "execution_count": 13,
   "id": "5d8b7658",
   "metadata": {},
   "outputs": [],
   "source": [
    "from datetime import datetime, date, time\n",
    "train['buy_time'] = pd.to_datetime(train['buy_time'], unit='s')"
   ]
  },
  {
   "cell_type": "code",
   "execution_count": 14,
   "id": "db01e97e",
   "metadata": {},
   "outputs": [
    {
     "data": {
      "text/html": [
       "<div>\n",
       "<style scoped>\n",
       "    .dataframe tbody tr th:only-of-type {\n",
       "        vertical-align: middle;\n",
       "    }\n",
       "\n",
       "    .dataframe tbody tr th {\n",
       "        vertical-align: top;\n",
       "    }\n",
       "\n",
       "    .dataframe thead th {\n",
       "        text-align: right;\n",
       "    }\n",
       "</style>\n",
       "<table border=\"1\" class=\"dataframe\">\n",
       "  <thead>\n",
       "    <tr style=\"text-align: right;\">\n",
       "      <th></th>\n",
       "      <th>id</th>\n",
       "      <th>buy_time</th>\n",
       "      <th>0</th>\n",
       "      <th>1</th>\n",
       "      <th>2</th>\n",
       "      <th>3</th>\n",
       "      <th>4</th>\n",
       "      <th>5</th>\n",
       "      <th>6</th>\n",
       "      <th>7</th>\n",
       "      <th>...</th>\n",
       "      <th>hours</th>\n",
       "      <th>days</th>\n",
       "      <th>day_week</th>\n",
       "      <th>day_year</th>\n",
       "      <th>day_month</th>\n",
       "      <th>weeks_on</th>\n",
       "      <th>week_year</th>\n",
       "      <th>months</th>\n",
       "      <th>quartal</th>\n",
       "      <th>years</th>\n",
       "    </tr>\n",
       "  </thead>\n",
       "  <tbody>\n",
       "    <tr>\n",
       "      <th>0</th>\n",
       "      <td>2046132</td>\n",
       "      <td>2018-08-19 21:00:00</td>\n",
       "      <td>300.820029</td>\n",
       "      <td>1599.480888</td>\n",
       "      <td>286.879214</td>\n",
       "      <td>1585.013202</td>\n",
       "      <td>281.461754</td>\n",
       "      <td>1563.90821</td>\n",
       "      <td>-16.08618</td>\n",
       "      <td>654.013903</td>\n",
       "      <td>...</td>\n",
       "      <td>21</td>\n",
       "      <td>19</td>\n",
       "      <td>6</td>\n",
       "      <td>231</td>\n",
       "      <td>31</td>\n",
       "      <td>33</td>\n",
       "      <td>33</td>\n",
       "      <td>8</td>\n",
       "      <td>3</td>\n",
       "      <td>2018</td>\n",
       "    </tr>\n",
       "    <tr>\n",
       "      <th>1</th>\n",
       "      <td>2050810</td>\n",
       "      <td>2018-10-28 21:00:00</td>\n",
       "      <td>-86.209971</td>\n",
       "      <td>91.820888</td>\n",
       "      <td>-84.480786</td>\n",
       "      <td>110.333202</td>\n",
       "      <td>-89.898246</td>\n",
       "      <td>89.22821</td>\n",
       "      <td>-16.08618</td>\n",
       "      <td>-65.076097</td>\n",
       "      <td>...</td>\n",
       "      <td>21</td>\n",
       "      <td>28</td>\n",
       "      <td>6</td>\n",
       "      <td>301</td>\n",
       "      <td>31</td>\n",
       "      <td>43</td>\n",
       "      <td>43</td>\n",
       "      <td>10</td>\n",
       "      <td>4</td>\n",
       "      <td>2018</td>\n",
       "    </tr>\n",
       "    <tr>\n",
       "      <th>2</th>\n",
       "      <td>2070757</td>\n",
       "      <td>2018-10-28 21:00:00</td>\n",
       "      <td>-96.799971</td>\n",
       "      <td>-408.179112</td>\n",
       "      <td>-110.740786</td>\n",
       "      <td>-460.786798</td>\n",
       "      <td>-114.038246</td>\n",
       "      <td>-479.77179</td>\n",
       "      <td>-16.08618</td>\n",
       "      <td>-65.076097</td>\n",
       "      <td>...</td>\n",
       "      <td>21</td>\n",
       "      <td>28</td>\n",
       "      <td>6</td>\n",
       "      <td>301</td>\n",
       "      <td>31</td>\n",
       "      <td>43</td>\n",
       "      <td>43</td>\n",
       "      <td>10</td>\n",
       "      <td>4</td>\n",
       "      <td>2018</td>\n",
       "    </tr>\n",
       "    <tr>\n",
       "      <th>3</th>\n",
       "      <td>2071522</td>\n",
       "      <td>2018-12-16 21:00:00</td>\n",
       "      <td>-94.939971</td>\n",
       "      <td>-363.699112</td>\n",
       "      <td>-108.880786</td>\n",
       "      <td>-411.226798</td>\n",
       "      <td>-114.298246</td>\n",
       "      <td>-432.33179</td>\n",
       "      <td>-16.08618</td>\n",
       "      <td>-65.076097</td>\n",
       "      <td>...</td>\n",
       "      <td>21</td>\n",
       "      <td>16</td>\n",
       "      <td>6</td>\n",
       "      <td>350</td>\n",
       "      <td>31</td>\n",
       "      <td>50</td>\n",
       "      <td>50</td>\n",
       "      <td>12</td>\n",
       "      <td>4</td>\n",
       "      <td>2018</td>\n",
       "    </tr>\n",
       "    <tr>\n",
       "      <th>4</th>\n",
       "      <td>2075318</td>\n",
       "      <td>2018-08-05 21:00:00</td>\n",
       "      <td>-75.639971</td>\n",
       "      <td>669.690888</td>\n",
       "      <td>-89.580786</td>\n",
       "      <td>732.343202</td>\n",
       "      <td>-94.998246</td>\n",
       "      <td>736.65821</td>\n",
       "      <td>-16.08618</td>\n",
       "      <td>782.383903</td>\n",
       "      <td>...</td>\n",
       "      <td>21</td>\n",
       "      <td>5</td>\n",
       "      <td>6</td>\n",
       "      <td>217</td>\n",
       "      <td>31</td>\n",
       "      <td>31</td>\n",
       "      <td>31</td>\n",
       "      <td>8</td>\n",
       "      <td>3</td>\n",
       "      <td>2018</td>\n",
       "    </tr>\n",
       "    <tr>\n",
       "      <th>...</th>\n",
       "      <td>...</td>\n",
       "      <td>...</td>\n",
       "      <td>...</td>\n",
       "      <td>...</td>\n",
       "      <td>...</td>\n",
       "      <td>...</td>\n",
       "      <td>...</td>\n",
       "      <td>...</td>\n",
       "      <td>...</td>\n",
       "      <td>...</td>\n",
       "      <td>...</td>\n",
       "      <td>...</td>\n",
       "      <td>...</td>\n",
       "      <td>...</td>\n",
       "      <td>...</td>\n",
       "      <td>...</td>\n",
       "      <td>...</td>\n",
       "      <td>...</td>\n",
       "      <td>...</td>\n",
       "      <td>...</td>\n",
       "      <td>...</td>\n",
       "    </tr>\n",
       "    <tr>\n",
       "      <th>979</th>\n",
       "      <td>3513825</td>\n",
       "      <td>2019-01-06 21:00:00</td>\n",
       "      <td>-9.299971</td>\n",
       "      <td>-231.429112</td>\n",
       "      <td>26.779214</td>\n",
       "      <td>-183.566798</td>\n",
       "      <td>21.361754</td>\n",
       "      <td>-204.67179</td>\n",
       "      <td>-16.08618</td>\n",
       "      <td>-65.076097</td>\n",
       "      <td>...</td>\n",
       "      <td>21</td>\n",
       "      <td>6</td>\n",
       "      <td>6</td>\n",
       "      <td>6</td>\n",
       "      <td>31</td>\n",
       "      <td>1</td>\n",
       "      <td>1</td>\n",
       "      <td>1</td>\n",
       "      <td>1</td>\n",
       "      <td>2019</td>\n",
       "    </tr>\n",
       "    <tr>\n",
       "      <th>980</th>\n",
       "      <td>3513869</td>\n",
       "      <td>2019-01-20 21:00:00</td>\n",
       "      <td>82.370029</td>\n",
       "      <td>-123.429112</td>\n",
       "      <td>155.939214</td>\n",
       "      <td>-88.526798</td>\n",
       "      <td>150.521754</td>\n",
       "      <td>-109.63179</td>\n",
       "      <td>-16.08618</td>\n",
       "      <td>-65.076097</td>\n",
       "      <td>...</td>\n",
       "      <td>21</td>\n",
       "      <td>20</td>\n",
       "      <td>6</td>\n",
       "      <td>20</td>\n",
       "      <td>31</td>\n",
       "      <td>3</td>\n",
       "      <td>3</td>\n",
       "      <td>1</td>\n",
       "      <td>1</td>\n",
       "      <td>2019</td>\n",
       "    </tr>\n",
       "    <tr>\n",
       "      <th>981</th>\n",
       "      <td>3517434</td>\n",
       "      <td>2019-01-20 21:00:00</td>\n",
       "      <td>-96.799971</td>\n",
       "      <td>-284.349112</td>\n",
       "      <td>-100.740786</td>\n",
       "      <td>-274.796798</td>\n",
       "      <td>-106.158246</td>\n",
       "      <td>-295.90179</td>\n",
       "      <td>-16.08618</td>\n",
       "      <td>-65.076097</td>\n",
       "      <td>...</td>\n",
       "      <td>21</td>\n",
       "      <td>20</td>\n",
       "      <td>6</td>\n",
       "      <td>20</td>\n",
       "      <td>31</td>\n",
       "      <td>3</td>\n",
       "      <td>3</td>\n",
       "      <td>1</td>\n",
       "      <td>1</td>\n",
       "      <td>2019</td>\n",
       "    </tr>\n",
       "    <tr>\n",
       "      <th>982</th>\n",
       "      <td>3519714</td>\n",
       "      <td>2019-01-06 21:00:00</td>\n",
       "      <td>167.280029</td>\n",
       "      <td>110.140888</td>\n",
       "      <td>153.339214</td>\n",
       "      <td>57.533202</td>\n",
       "      <td>147.921754</td>\n",
       "      <td>36.42821</td>\n",
       "      <td>-2.00618</td>\n",
       "      <td>-50.996097</td>\n",
       "      <td>...</td>\n",
       "      <td>21</td>\n",
       "      <td>6</td>\n",
       "      <td>6</td>\n",
       "      <td>6</td>\n",
       "      <td>31</td>\n",
       "      <td>1</td>\n",
       "      <td>1</td>\n",
       "      <td>1</td>\n",
       "      <td>1</td>\n",
       "      <td>2019</td>\n",
       "    </tr>\n",
       "    <tr>\n",
       "      <th>983</th>\n",
       "      <td>3521152</td>\n",
       "      <td>2019-01-20 21:00:00</td>\n",
       "      <td>-96.799971</td>\n",
       "      <td>-198.259112</td>\n",
       "      <td>-110.740786</td>\n",
       "      <td>-250.866798</td>\n",
       "      <td>-116.158246</td>\n",
       "      <td>-263.72179</td>\n",
       "      <td>-16.08618</td>\n",
       "      <td>-65.076097</td>\n",
       "      <td>...</td>\n",
       "      <td>21</td>\n",
       "      <td>20</td>\n",
       "      <td>6</td>\n",
       "      <td>20</td>\n",
       "      <td>31</td>\n",
       "      <td>3</td>\n",
       "      <td>3</td>\n",
       "      <td>1</td>\n",
       "      <td>1</td>\n",
       "      <td>2019</td>\n",
       "    </tr>\n",
       "  </tbody>\n",
       "</table>\n",
       "<p>860052 rows × 266 columns</p>\n",
       "</div>"
      ],
      "text/plain": [
       "          id            buy_time           0            1           2  \\\n",
       "0    2046132 2018-08-19 21:00:00  300.820029  1599.480888  286.879214   \n",
       "1    2050810 2018-10-28 21:00:00  -86.209971    91.820888  -84.480786   \n",
       "2    2070757 2018-10-28 21:00:00  -96.799971  -408.179112 -110.740786   \n",
       "3    2071522 2018-12-16 21:00:00  -94.939971  -363.699112 -108.880786   \n",
       "4    2075318 2018-08-05 21:00:00  -75.639971   669.690888  -89.580786   \n",
       "..       ...                 ...         ...          ...         ...   \n",
       "979  3513825 2019-01-06 21:00:00   -9.299971  -231.429112   26.779214   \n",
       "980  3513869 2019-01-20 21:00:00   82.370029  -123.429112  155.939214   \n",
       "981  3517434 2019-01-20 21:00:00  -96.799971  -284.349112 -100.740786   \n",
       "982  3519714 2019-01-06 21:00:00  167.280029   110.140888  153.339214   \n",
       "983  3521152 2019-01-20 21:00:00  -96.799971  -198.259112 -110.740786   \n",
       "\n",
       "               3           4           5         6           7  ...  hours  \\\n",
       "0    1585.013202  281.461754  1563.90821 -16.08618  654.013903  ...     21   \n",
       "1     110.333202  -89.898246    89.22821 -16.08618  -65.076097  ...     21   \n",
       "2    -460.786798 -114.038246  -479.77179 -16.08618  -65.076097  ...     21   \n",
       "3    -411.226798 -114.298246  -432.33179 -16.08618  -65.076097  ...     21   \n",
       "4     732.343202  -94.998246   736.65821 -16.08618  782.383903  ...     21   \n",
       "..           ...         ...         ...       ...         ...  ...    ...   \n",
       "979  -183.566798   21.361754  -204.67179 -16.08618  -65.076097  ...     21   \n",
       "980   -88.526798  150.521754  -109.63179 -16.08618  -65.076097  ...     21   \n",
       "981  -274.796798 -106.158246  -295.90179 -16.08618  -65.076097  ...     21   \n",
       "982    57.533202  147.921754    36.42821  -2.00618  -50.996097  ...     21   \n",
       "983  -250.866798 -116.158246  -263.72179 -16.08618  -65.076097  ...     21   \n",
       "\n",
       "     days  day_week  day_year  day_month  weeks_on  week_year  months  \\\n",
       "0      19         6       231         31        33         33       8   \n",
       "1      28         6       301         31        43         43      10   \n",
       "2      28         6       301         31        43         43      10   \n",
       "3      16         6       350         31        50         50      12   \n",
       "4       5         6       217         31        31         31       8   \n",
       "..    ...       ...       ...        ...       ...        ...     ...   \n",
       "979     6         6         6         31         1          1       1   \n",
       "980    20         6        20         31         3          3       1   \n",
       "981    20         6        20         31         3          3       1   \n",
       "982     6         6         6         31         1          1       1   \n",
       "983    20         6        20         31         3          3       1   \n",
       "\n",
       "     quartal  years  \n",
       "0          3   2018  \n",
       "1          4   2018  \n",
       "2          4   2018  \n",
       "3          4   2018  \n",
       "4          3   2018  \n",
       "..       ...    ...  \n",
       "979        1   2019  \n",
       "980        1   2019  \n",
       "981        1   2019  \n",
       "982        1   2019  \n",
       "983        1   2019  \n",
       "\n",
       "[860052 rows x 266 columns]"
      ]
     },
     "execution_count": 14,
     "metadata": {},
     "output_type": "execute_result"
    }
   ],
   "source": [
    "train = GetDateTime(train)\n",
    "train"
   ]
  },
  {
   "cell_type": "code",
   "execution_count": 15,
   "id": "8ebe747b",
   "metadata": {},
   "outputs": [],
   "source": [
    "train = train.sort_values(by=['buy_time'], ascending=False)"
   ]
  },
  {
   "cell_type": "code",
   "execution_count": 16,
   "id": "9ca55d7e",
   "metadata": {},
   "outputs": [
    {
     "data": {
      "text/plain": [
       "True"
      ]
     },
     "execution_count": 16,
     "metadata": {},
     "output_type": "execute_result"
    }
   ],
   "source": [
    "'vas_id' in train.columns"
   ]
  },
  {
   "cell_type": "code",
   "execution_count": 17,
   "id": "f147e348",
   "metadata": {},
   "outputs": [
    {
     "data": {
      "text/html": [
       "<div>\n",
       "<style scoped>\n",
       "    .dataframe tbody tr th:only-of-type {\n",
       "        vertical-align: middle;\n",
       "    }\n",
       "\n",
       "    .dataframe tbody tr th {\n",
       "        vertical-align: top;\n",
       "    }\n",
       "\n",
       "    .dataframe thead th {\n",
       "        text-align: right;\n",
       "    }\n",
       "</style>\n",
       "<table border=\"1\" class=\"dataframe\">\n",
       "  <thead>\n",
       "    <tr style=\"text-align: right;\">\n",
       "      <th></th>\n",
       "      <th>id</th>\n",
       "      <th>buy_time</th>\n",
       "      <th>0</th>\n",
       "      <th>1</th>\n",
       "      <th>2</th>\n",
       "      <th>3</th>\n",
       "      <th>4</th>\n",
       "      <th>5</th>\n",
       "      <th>6</th>\n",
       "      <th>7</th>\n",
       "      <th>...</th>\n",
       "      <th>hours</th>\n",
       "      <th>days</th>\n",
       "      <th>day_week</th>\n",
       "      <th>day_year</th>\n",
       "      <th>day_month</th>\n",
       "      <th>weeks_on</th>\n",
       "      <th>week_year</th>\n",
       "      <th>months</th>\n",
       "      <th>quartal</th>\n",
       "      <th>years</th>\n",
       "    </tr>\n",
       "  </thead>\n",
       "  <tbody>\n",
       "    <tr>\n",
       "      <th>118</th>\n",
       "      <td>4333389</td>\n",
       "      <td>2019-01-20 21:00:00</td>\n",
       "      <td>-88.549971</td>\n",
       "      <td>46.650888</td>\n",
       "      <td>-102.490786</td>\n",
       "      <td>25.713202</td>\n",
       "      <td>-107.908246</td>\n",
       "      <td>4.60821</td>\n",
       "      <td>-16.08618</td>\n",
       "      <td>-59.246097</td>\n",
       "      <td>...</td>\n",
       "      <td>21</td>\n",
       "      <td>20</td>\n",
       "      <td>6</td>\n",
       "      <td>20</td>\n",
       "      <td>31</td>\n",
       "      <td>3</td>\n",
       "      <td>3</td>\n",
       "      <td>1</td>\n",
       "      <td>1</td>\n",
       "      <td>2019</td>\n",
       "    </tr>\n",
       "    <tr>\n",
       "      <th>135</th>\n",
       "      <td>3517419</td>\n",
       "      <td>2019-01-20 21:00:00</td>\n",
       "      <td>-96.799971</td>\n",
       "      <td>-399.929112</td>\n",
       "      <td>-110.740786</td>\n",
       "      <td>-452.536798</td>\n",
       "      <td>-116.158246</td>\n",
       "      <td>-473.64179</td>\n",
       "      <td>-16.08618</td>\n",
       "      <td>-56.826097</td>\n",
       "      <td>...</td>\n",
       "      <td>21</td>\n",
       "      <td>20</td>\n",
       "      <td>6</td>\n",
       "      <td>20</td>\n",
       "      <td>31</td>\n",
       "      <td>3</td>\n",
       "      <td>3</td>\n",
       "      <td>1</td>\n",
       "      <td>1</td>\n",
       "      <td>2019</td>\n",
       "    </tr>\n",
       "    <tr>\n",
       "      <th>54</th>\n",
       "      <td>4324792</td>\n",
       "      <td>2019-01-20 21:00:00</td>\n",
       "      <td>101.510029</td>\n",
       "      <td>300.660888</td>\n",
       "      <td>105.209214</td>\n",
       "      <td>326.273202</td>\n",
       "      <td>99.791754</td>\n",
       "      <td>305.16821</td>\n",
       "      <td>-16.08618</td>\n",
       "      <td>-65.076097</td>\n",
       "      <td>...</td>\n",
       "      <td>21</td>\n",
       "      <td>20</td>\n",
       "      <td>6</td>\n",
       "      <td>20</td>\n",
       "      <td>31</td>\n",
       "      <td>3</td>\n",
       "      <td>3</td>\n",
       "      <td>1</td>\n",
       "      <td>1</td>\n",
       "      <td>2019</td>\n",
       "    </tr>\n",
       "    <tr>\n",
       "      <th>17</th>\n",
       "      <td>3066139</td>\n",
       "      <td>2019-01-20 21:00:00</td>\n",
       "      <td>-96.799971</td>\n",
       "      <td>137.650888</td>\n",
       "      <td>-76.570786</td>\n",
       "      <td>292.553202</td>\n",
       "      <td>-81.988246</td>\n",
       "      <td>276.44821</td>\n",
       "      <td>-16.08618</td>\n",
       "      <td>-65.076097</td>\n",
       "      <td>...</td>\n",
       "      <td>21</td>\n",
       "      <td>20</td>\n",
       "      <td>6</td>\n",
       "      <td>20</td>\n",
       "      <td>31</td>\n",
       "      <td>3</td>\n",
       "      <td>3</td>\n",
       "      <td>1</td>\n",
       "      <td>1</td>\n",
       "      <td>2019</td>\n",
       "    </tr>\n",
       "    <tr>\n",
       "      <th>115</th>\n",
       "      <td>3368452</td>\n",
       "      <td>2019-01-20 21:00:00</td>\n",
       "      <td>236.530029</td>\n",
       "      <td>258.480888</td>\n",
       "      <td>251.759214</td>\n",
       "      <td>235.043202</td>\n",
       "      <td>246.341754</td>\n",
       "      <td>213.93821</td>\n",
       "      <td>-16.08618</td>\n",
       "      <td>-65.076097</td>\n",
       "      <td>...</td>\n",
       "      <td>21</td>\n",
       "      <td>20</td>\n",
       "      <td>6</td>\n",
       "      <td>20</td>\n",
       "      <td>31</td>\n",
       "      <td>3</td>\n",
       "      <td>3</td>\n",
       "      <td>1</td>\n",
       "      <td>1</td>\n",
       "      <td>2019</td>\n",
       "    </tr>\n",
       "    <tr>\n",
       "      <th>...</th>\n",
       "      <td>...</td>\n",
       "      <td>...</td>\n",
       "      <td>...</td>\n",
       "      <td>...</td>\n",
       "      <td>...</td>\n",
       "      <td>...</td>\n",
       "      <td>...</td>\n",
       "      <td>...</td>\n",
       "      <td>...</td>\n",
       "      <td>...</td>\n",
       "      <td>...</td>\n",
       "      <td>...</td>\n",
       "      <td>...</td>\n",
       "      <td>...</td>\n",
       "      <td>...</td>\n",
       "      <td>...</td>\n",
       "      <td>...</td>\n",
       "      <td>...</td>\n",
       "      <td>...</td>\n",
       "      <td>...</td>\n",
       "      <td>...</td>\n",
       "    </tr>\n",
       "    <tr>\n",
       "      <th>152</th>\n",
       "      <td>222505</td>\n",
       "      <td>2018-07-08 21:00:00</td>\n",
       "      <td>-94.009971</td>\n",
       "      <td>-107.539112</td>\n",
       "      <td>-107.950786</td>\n",
       "      <td>-151.666798</td>\n",
       "      <td>-113.368246</td>\n",
       "      <td>28.20821</td>\n",
       "      <td>-16.08618</td>\n",
       "      <td>-13.476097</td>\n",
       "      <td>...</td>\n",
       "      <td>21</td>\n",
       "      <td>8</td>\n",
       "      <td>6</td>\n",
       "      <td>189</td>\n",
       "      <td>31</td>\n",
       "      <td>27</td>\n",
       "      <td>27</td>\n",
       "      <td>7</td>\n",
       "      <td>3</td>\n",
       "      <td>2018</td>\n",
       "    </tr>\n",
       "    <tr>\n",
       "      <th>81</th>\n",
       "      <td>2554654</td>\n",
       "      <td>2018-07-08 21:00:00</td>\n",
       "      <td>-96.799971</td>\n",
       "      <td>57.920888</td>\n",
       "      <td>-110.740786</td>\n",
       "      <td>5.313202</td>\n",
       "      <td>-116.158246</td>\n",
       "      <td>-15.79179</td>\n",
       "      <td>-16.08618</td>\n",
       "      <td>-65.076097</td>\n",
       "      <td>...</td>\n",
       "      <td>21</td>\n",
       "      <td>8</td>\n",
       "      <td>6</td>\n",
       "      <td>189</td>\n",
       "      <td>31</td>\n",
       "      <td>27</td>\n",
       "      <td>27</td>\n",
       "      <td>7</td>\n",
       "      <td>3</td>\n",
       "      <td>2018</td>\n",
       "    </tr>\n",
       "    <tr>\n",
       "      <th>107</th>\n",
       "      <td>2068659</td>\n",
       "      <td>2018-07-08 21:00:00</td>\n",
       "      <td>-46.369971</td>\n",
       "      <td>434.610888</td>\n",
       "      <td>-27.760786</td>\n",
       "      <td>611.723202</td>\n",
       "      <td>-33.178246</td>\n",
       "      <td>590.61821</td>\n",
       "      <td>-10.15618</td>\n",
       "      <td>203.563903</td>\n",
       "      <td>...</td>\n",
       "      <td>21</td>\n",
       "      <td>8</td>\n",
       "      <td>6</td>\n",
       "      <td>189</td>\n",
       "      <td>31</td>\n",
       "      <td>27</td>\n",
       "      <td>27</td>\n",
       "      <td>7</td>\n",
       "      <td>3</td>\n",
       "      <td>2018</td>\n",
       "    </tr>\n",
       "    <tr>\n",
       "      <th>83</th>\n",
       "      <td>2566056</td>\n",
       "      <td>2018-07-08 21:00:00</td>\n",
       "      <td>-96.799971</td>\n",
       "      <td>-35.299112</td>\n",
       "      <td>-97.180786</td>\n",
       "      <td>-70.106798</td>\n",
       "      <td>-102.598246</td>\n",
       "      <td>-91.21179</td>\n",
       "      <td>-16.08618</td>\n",
       "      <td>-65.076097</td>\n",
       "      <td>...</td>\n",
       "      <td>21</td>\n",
       "      <td>8</td>\n",
       "      <td>6</td>\n",
       "      <td>189</td>\n",
       "      <td>31</td>\n",
       "      <td>27</td>\n",
       "      <td>27</td>\n",
       "      <td>7</td>\n",
       "      <td>3</td>\n",
       "      <td>2018</td>\n",
       "    </tr>\n",
       "    <tr>\n",
       "      <th>105</th>\n",
       "      <td>449931</td>\n",
       "      <td>2018-07-08 21:00:00</td>\n",
       "      <td>-96.799971</td>\n",
       "      <td>-408.179112</td>\n",
       "      <td>-110.740786</td>\n",
       "      <td>-460.786798</td>\n",
       "      <td>-116.158246</td>\n",
       "      <td>-481.89179</td>\n",
       "      <td>-16.08618</td>\n",
       "      <td>-65.076097</td>\n",
       "      <td>...</td>\n",
       "      <td>21</td>\n",
       "      <td>8</td>\n",
       "      <td>6</td>\n",
       "      <td>189</td>\n",
       "      <td>31</td>\n",
       "      <td>27</td>\n",
       "      <td>27</td>\n",
       "      <td>7</td>\n",
       "      <td>3</td>\n",
       "      <td>2018</td>\n",
       "    </tr>\n",
       "  </tbody>\n",
       "</table>\n",
       "<p>73666 rows × 265 columns</p>\n",
       "</div>"
      ],
      "text/plain": [
       "          id            buy_time           0           1           2  \\\n",
       "118  4333389 2019-01-20 21:00:00  -88.549971   46.650888 -102.490786   \n",
       "135  3517419 2019-01-20 21:00:00  -96.799971 -399.929112 -110.740786   \n",
       "54   4324792 2019-01-20 21:00:00  101.510029  300.660888  105.209214   \n",
       "17   3066139 2019-01-20 21:00:00  -96.799971  137.650888  -76.570786   \n",
       "115  3368452 2019-01-20 21:00:00  236.530029  258.480888  251.759214   \n",
       "..       ...                 ...         ...         ...         ...   \n",
       "152   222505 2018-07-08 21:00:00  -94.009971 -107.539112 -107.950786   \n",
       "81   2554654 2018-07-08 21:00:00  -96.799971   57.920888 -110.740786   \n",
       "107  2068659 2018-07-08 21:00:00  -46.369971  434.610888  -27.760786   \n",
       "83   2566056 2018-07-08 21:00:00  -96.799971  -35.299112  -97.180786   \n",
       "105   449931 2018-07-08 21:00:00  -96.799971 -408.179112 -110.740786   \n",
       "\n",
       "              3           4          5         6           7  ...  hours  \\\n",
       "118   25.713202 -107.908246    4.60821 -16.08618  -59.246097  ...     21   \n",
       "135 -452.536798 -116.158246 -473.64179 -16.08618  -56.826097  ...     21   \n",
       "54   326.273202   99.791754  305.16821 -16.08618  -65.076097  ...     21   \n",
       "17   292.553202  -81.988246  276.44821 -16.08618  -65.076097  ...     21   \n",
       "115  235.043202  246.341754  213.93821 -16.08618  -65.076097  ...     21   \n",
       "..          ...         ...        ...       ...         ...  ...    ...   \n",
       "152 -151.666798 -113.368246   28.20821 -16.08618  -13.476097  ...     21   \n",
       "81     5.313202 -116.158246  -15.79179 -16.08618  -65.076097  ...     21   \n",
       "107  611.723202  -33.178246  590.61821 -10.15618  203.563903  ...     21   \n",
       "83   -70.106798 -102.598246  -91.21179 -16.08618  -65.076097  ...     21   \n",
       "105 -460.786798 -116.158246 -481.89179 -16.08618  -65.076097  ...     21   \n",
       "\n",
       "     days  day_week  day_year  day_month  weeks_on  week_year  months  \\\n",
       "118    20         6        20         31         3          3       1   \n",
       "135    20         6        20         31         3          3       1   \n",
       "54     20         6        20         31         3          3       1   \n",
       "17     20         6        20         31         3          3       1   \n",
       "115    20         6        20         31         3          3       1   \n",
       "..    ...       ...       ...        ...       ...        ...     ...   \n",
       "152     8         6       189         31        27         27       7   \n",
       "81      8         6       189         31        27         27       7   \n",
       "107     8         6       189         31        27         27       7   \n",
       "83      8         6       189         31        27         27       7   \n",
       "105     8         6       189         31        27         27       7   \n",
       "\n",
       "     quartal  years  \n",
       "118        1   2019  \n",
       "135        1   2019  \n",
       "54         1   2019  \n",
       "17         1   2019  \n",
       "115        1   2019  \n",
       "..       ...    ...  \n",
       "152        3   2018  \n",
       "81         3   2018  \n",
       "107        3   2018  \n",
       "83         3   2018  \n",
       "105        3   2018  \n",
       "\n",
       "[73666 rows x 265 columns]"
      ]
     },
     "execution_count": 17,
     "metadata": {},
     "output_type": "execute_result"
    }
   ],
   "source": [
    "test = data.merge(test, left_on='id', right_on='id').compute()\n",
    "test = test.drop('buy_time_y', axis=1)\n",
    "test = test.rename(columns={\"buy_time_x\":\"buy_time\"})\n",
    "test['buy_time'] = pd.to_datetime(test['buy_time'], unit='s')\n",
    "test = test.sort_values(by=['buy_time'], ascending=False)\n",
    "test = GetDateTime(test)\n",
    "test"
   ]
  },
  {
   "cell_type": "code",
   "execution_count": 18,
   "id": "04486860",
   "metadata": {},
   "outputs": [
    {
     "data": {
      "text/plain": [
       "True"
      ]
     },
     "execution_count": 18,
     "metadata": {},
     "output_type": "execute_result"
    }
   ],
   "source": [
    "'vas_id' in test.columns"
   ]
  },
  {
   "cell_type": "code",
   "execution_count": 19,
   "id": "0a1c7eda",
   "metadata": {},
   "outputs": [
    {
     "name": "stdout",
     "output_type": "stream",
     "text": [
      "Wall time: 0 ns\n"
     ]
    }
   ],
   "source": [
    "%%time\n",
    "def GetDataInfo(df):\n",
    "    lst_param_columns_train = []\n",
    "    for col in df.columns:  \n",
    "        print(col)\n",
    "        if 'obj' not in str(df[col].dtype):\n",
    "            plt.subplot(1,2,1)\n",
    "            sns.kdeplot(df[col])\n",
    "            plt.subplot(1,2,2)\n",
    "            plt.hist(df[col])\n",
    "            plt.show()\n",
    "    \n",
    "        val = df[col].values\n",
    "    \n",
    "        max_ = np.max(val)\n",
    "        min_ = np.min(val)\n",
    "        type_ = df[col].dtype\n",
    "        unique = np.unique(val)\n",
    "        count_unique = unique.shape\n",
    "    \n",
    "        print(f\"dtype: {type_}, max: {max_}, min: {min_}, shape unique: {count_unique}\")\n",
    "    \n",
    "        if len(unique) <= 20:\n",
    "            print(f\"unique {unique}\")\n",
    "        else:\n",
    "            print(f\"unique {unique[:20]}\")\n",
    "    \n",
    "        lst_param_columns_train.append({ 'column':col, 'max': max_, 'min':min_, 'type':type_, 'count_unique':count_unique })\n",
    "    return lst_param_columns_train"
   ]
  },
  {
   "cell_type": "code",
   "execution_count": 58,
   "id": "6ea209b0",
   "metadata": {},
   "outputs": [
    {
     "name": "stdout",
     "output_type": "stream",
     "text": [
      "id\n"
     ]
    },
    {
     "data": {
      "image/png": "[encoded data removed]",
      "text/plain": [
       "<Figure size 432x288 with 2 Axes>"
      ]
     },
     "metadata": {
      "needs_background": "light"
     },
     "output_type": "display_data"
    },
    {
     "name": "stdout",
     "output_type": "stream",
     "text": [
      "dtype: int64, max: 4362694, min: 2, shape unique: (806613,)\n",
      "unique [  2   4  15  16  29  30  31  36  37  39  45  48  49  52  62  64  68  70\n",
      " 104 109]\n",
      "buy_time\n"
     ]
    },
    {
     "data": {
      "image/png": "[encoded data removed]",
      "text/plain": [
       "<Figure size 432x288 with 2 Axes>"
      ]
     },
     "metadata": {
      "needs_background": "light"
     },
     "output_type": "display_data"
    },
    {
     "name": "stdout",
     "output_type": "stream",
     "text": [
      "dtype: datetime64[ns], max: 2019-01-20T21:00:00.000000000, min: 2018-07-08T21:00:00.000000000, shape unique: (29,)\n",
      "unique ['2018-07-08T21:00:00.000000000' '2018-07-15T21:00:00.000000000'\n",
      " '2018-07-22T21:00:00.000000000' '2018-07-29T21:00:00.000000000'\n",
      " '2018-08-05T21:00:00.000000000' '2018-08-12T21:00:00.000000000'\n",
      " '2018-08-19T21:00:00.000000000' '2018-08-26T21:00:00.000000000'\n",
      " '2018-09-02T21:00:00.000000000' '2018-09-09T21:00:00.000000000'\n",
      " '2018-09-16T21:00:00.000000000' '2018-09-23T21:00:00.000000000'\n",
      " '2018-09-30T21:00:00.000000000' '2018-10-07T21:00:00.000000000'\n",
      " '2018-10-14T21:00:00.000000000' '2018-10-21T21:00:00.000000000'\n",
      " '2018-10-28T21:00:00.000000000' '2018-11-04T21:00:00.000000000'\n",
      " '2018-11-11T21:00:00.000000000' '2018-11-18T21:00:00.000000000']\n",
      "0\n"
     ]
    },
    {
     "data": {
      "image/png": "[encoded data removed]",
      "text/plain": [
       "<Figure size 432x288 with 2 Axes>"
      ]
     },
     "metadata": {
      "needs_background": "light"
     },
     "output_type": "display_data"
    },
    {
     "name": "stdout",
     "output_type": "stream",
     "text": [
      "dtype: float64, max: 211730.72002922528, min: -1151.8899707746964, shape unique: (46780,)\n",
      "unique [-1151.88997077 -1081.91997077  -916.44997077  -862.24997077\n",
      "  -781.20997077  -719.16997077  -710.78997077  -696.44997077\n",
      "  -693.23997077  -651.44997077  -650.01997077  -647.63997077\n",
      "  -641.98997077  -630.69997077  -630.12997077  -613.73997077\n",
      "  -610.91997077  -610.43997077  -604.95997077  -599.65997077]\n",
      "1\n"
     ]
    },
    {
     "data": {
      "image/png": "[encoded data removed]",
      "text/plain": [
       "<Figure size 432x288 with 2 Axes>"
      ]
     },
     "metadata": {
      "needs_background": "light"
     },
     "output_type": "display_data"
    },
    {
     "name": "stdout",
     "output_type": "stream",
     "text": [
      "dtype: float64, max: 212606.13088788147, min: -1594.1191121185284, shape unique: (114013,)\n",
      "unique [-1594.11911212 -1447.96911212 -1420.89911212 -1353.93911212\n",
      " -1248.84911212 -1244.35911212 -1112.62911212 -1093.59911212\n",
      " -1063.60911212 -1031.91911212  -892.96911212  -797.87911212\n",
      "  -789.53911212  -776.40911212  -763.55911212  -719.56911212\n",
      "  -710.72911212  -710.71911212  -706.89911212  -703.93911212]\n",
      "2\n"
     ]
    },
    {
     "data": {
      "image/png": "[encoded data removed]",
      "text/plain": [
       "<Figure size 432x288 with 2 Axes>"
      ]
     },
     "metadata": {
      "needs_background": "light"
     },
     "output_type": "display_data"
    },
    {
     "name": "stdout",
     "output_type": "stream",
     "text": [
      "dtype: float64, max: 211716.77921404145, min: -2651.840785958558, shape unique: (57196,)\n",
      "unique [-2651.84078596 -1212.43078596 -1165.83078596 -1070.57078596\n",
      " -1023.84078596  -930.39078596  -876.19078596  -822.18078596\n",
      "  -808.00078596  -767.69078596  -725.82078596  -701.77078596\n",
      "  -675.14078596  -661.58078596  -655.93078596  -652.11078596\n",
      "  -651.69078596  -647.59078596  -647.46078596  -644.07078596]\n",
      "3\n"
     ]
    },
    {
     "data": {
      "image/png": "[encoded data removed]",
      "text/plain": [
       "<Figure size 432x288 with 2 Axes>"
      ]
     },
     "metadata": {
      "needs_background": "light"
     },
     "output_type": "display_data"
    },
    {
     "name": "stdout",
     "output_type": "stream",
     "text": [
      "dtype: float64, max: 213357.74320175964, min: -1634.4367982403655, shape unique: (134056,)\n",
      "unique [-1634.43679824 -1488.71679824 -1456.55679824 -1275.76679824\n",
      " -1271.77679824 -1250.60679824 -1135.57679824 -1107.73679824\n",
      " -1059.10679824  -984.33679824  -882.01679824  -842.14679824\n",
      "  -842.00679824  -829.42679824  -816.74679824  -816.16679824\n",
      "  -759.09679824  -756.54679824  -754.01679824  -752.31679824]\n",
      "4\n"
     ]
    },
    {
     "data": {
      "image/png": "[encoded data removed]",
      "text/plain": [
       "<Figure size 432x288 with 2 Axes>"
      ]
     },
     "metadata": {
      "needs_background": "light"
     },
     "output_type": "display_data"
    },
    {
     "name": "stdout",
     "output_type": "stream",
     "text": [
      "dtype: float64, max: 212095.26175370655, min: -2657.25824629343, shape unique: (59625,)\n",
      "unique [-2657.25824629 -1217.84824629 -1171.24824629 -1075.98824629\n",
      " -1029.25824629  -927.33824629  -881.60824629  -827.59824629\n",
      "  -813.41824629  -773.10824629  -731.23824629  -707.18824629\n",
      "  -666.99824629  -661.34824629  -657.52824629  -657.10824629\n",
      "  -653.00824629  -652.87824629  -649.48824629  -648.77824629]\n",
      "5\n"
     ]
    },
    {
     "data": {
      "image/png": "[encoded data removed]",
      "text/plain": [
       "<Figure size 432x288 with 2 Axes>"
      ]
     },
     "metadata": {
      "needs_background": "light"
     },
     "output_type": "display_data"
    },
    {
     "name": "stdout",
     "output_type": "stream",
     "text": [
      "dtype: float64, max: 213720.5482104266, min: -1655.5417895733835, shape unique: (139557,)\n",
      "unique [-1655.54178957 -1501.35178957 -1477.66178957 -1296.87178957\n",
      " -1292.88178957 -1271.71178957 -1156.68178957 -1128.84178957\n",
      " -1080.21178957 -1033.35178957 -1005.44178957  -903.12178957\n",
      "  -863.25178957  -850.41178957  -837.85178957  -837.27178957\n",
      "  -829.34178957  -777.65178957  -775.12178957  -717.05178957]\n",
      "6\n"
     ]
    },
    {
     "data": {
      "image/png": "[encoded data removed]",
      "text/plain": [
       "<Figure size 432x288 with 2 Axes>"
      ]
     },
     "metadata": {
      "needs_background": "light"
     },
     "output_type": "display_data"
    },
    {
     "name": "stdout",
     "output_type": "stream",
     "text": [
      "dtype: float64, max: 211811.43381996738, min: -541.5061800325669, shape unique: (10179,)\n",
      "unique [-541.50618003 -455.91618003 -399.02618003 -329.64618003 -269.47618003\n",
      " -261.84618003 -172.85618003 -138.12618003 -122.88618003 -122.87618003\n",
      " -122.86618003 -116.94618003 -114.48618003 -111.01618003 -104.21618003\n",
      " -101.08618003  -99.13618003  -97.45618003  -97.44618003  -93.21618003]\n",
      "7\n"
     ]
    },
    {
     "ename": "KeyboardInterrupt",
     "evalue": "",
     "output_type": "error",
     "traceback": [
      "\u001b[1;31m---------------------------------------------------------------------------\u001b[0m",
      "\u001b[1;31mKeyboardInterrupt\u001b[0m                         Traceback (most recent call last)",
      "\u001b[1;32m<ipython-input-58-97d36dd9282b>\u001b[0m in \u001b[0;36m<module>\u001b[1;34m\u001b[0m\n\u001b[1;32m----> 1\u001b[1;33m \u001b[0mtrain_info\u001b[0m \u001b[1;33m=\u001b[0m \u001b[0mGetDataInfo\u001b[0m\u001b[1;33m(\u001b[0m\u001b[0mtrain\u001b[0m\u001b[1;33m)\u001b[0m\u001b[1;33m\u001b[0m\u001b[1;33m\u001b[0m\u001b[0m\n\u001b[0m",
      "\u001b[1;32m<timed exec>\u001b[0m in \u001b[0;36mGetDataInfo\u001b[1;34m(df)\u001b[0m\n",
      "\u001b[1;32m~\\anaconda3\\lib\\site-packages\\seaborn\\_decorators.py\u001b[0m in \u001b[0;36minner_f\u001b[1;34m(*args, **kwargs)\u001b[0m\n\u001b[0;32m     44\u001b[0m             )\n\u001b[0;32m     45\u001b[0m         \u001b[0mkwargs\u001b[0m\u001b[1;33m.\u001b[0m\u001b[0mupdate\u001b[0m\u001b[1;33m(\u001b[0m\u001b[1;33m{\u001b[0m\u001b[0mk\u001b[0m\u001b[1;33m:\u001b[0m \u001b[0marg\u001b[0m \u001b[1;32mfor\u001b[0m \u001b[0mk\u001b[0m\u001b[1;33m,\u001b[0m \u001b[0marg\u001b[0m \u001b[1;32min\u001b[0m \u001b[0mzip\u001b[0m\u001b[1;33m(\u001b[0m\u001b[0msig\u001b[0m\u001b[1;33m.\u001b[0m\u001b[0mparameters\u001b[0m\u001b[1;33m,\u001b[0m \u001b[0margs\u001b[0m\u001b[1;33m)\u001b[0m\u001b[1;33m}\u001b[0m\u001b[1;33m)\u001b[0m\u001b[1;33m\u001b[0m\u001b[1;33m\u001b[0m\u001b[0m\n\u001b[1;32m---> 46\u001b[1;33m         \u001b[1;32mreturn\u001b[0m \u001b[0mf\u001b[0m\u001b[1;33m(\u001b[0m\u001b[1;33m**\u001b[0m\u001b[0mkwargs\u001b[0m\u001b[1;33m)\u001b[0m\u001b[1;33m\u001b[0m\u001b[1;33m\u001b[0m\u001b[0m\n\u001b[0m\u001b[0;32m     47\u001b[0m     \u001b[1;32mreturn\u001b[0m \u001b[0minner_f\u001b[0m\u001b[1;33m\u001b[0m\u001b[1;33m\u001b[0m\u001b[0m\n\u001b[0;32m     48\u001b[0m \u001b[1;33m\u001b[0m\u001b[0m\n",
      "\u001b[1;32m~\\anaconda3\\lib\\site-packages\\seaborn\\distributions.py\u001b[0m in \u001b[0;36mkdeplot\u001b[1;34m(x, y, shade, vertical, kernel, bw, gridsize, cut, clip, legend, cumulative, shade_lowest, cbar, cbar_ax, cbar_kws, ax, weights, hue, palette, hue_order, hue_norm, multiple, common_norm, common_grid, levels, thresh, bw_method, bw_adjust, log_scale, color, fill, data, data2, **kwargs)\u001b[0m\n\u001b[0;32m   1726\u001b[0m             \u001b[0mplot_kws\u001b[0m\u001b[1;33m[\u001b[0m\u001b[1;34m\"color\"\u001b[0m\u001b[1;33m]\u001b[0m \u001b[1;33m=\u001b[0m \u001b[0mcolor\u001b[0m\u001b[1;33m\u001b[0m\u001b[1;33m\u001b[0m\u001b[0m\n\u001b[0;32m   1727\u001b[0m \u001b[1;33m\u001b[0m\u001b[0m\n\u001b[1;32m-> 1728\u001b[1;33m         p.plot_univariate_density(\n\u001b[0m\u001b[0;32m   1729\u001b[0m             \u001b[0mmultiple\u001b[0m\u001b[1;33m=\u001b[0m\u001b[0mmultiple\u001b[0m\u001b[1;33m,\u001b[0m\u001b[1;33m\u001b[0m\u001b[1;33m\u001b[0m\u001b[0m\n\u001b[0;32m   1730\u001b[0m             \u001b[0mcommon_norm\u001b[0m\u001b[1;33m=\u001b[0m\u001b[0mcommon_norm\u001b[0m\u001b[1;33m,\u001b[0m\u001b[1;33m\u001b[0m\u001b[1;33m\u001b[0m\u001b[0m\n",
      "\u001b[1;32m~\\anaconda3\\lib\\site-packages\\seaborn\\distributions.py\u001b[0m in \u001b[0;36mplot_univariate_density\u001b[1;34m(self, multiple, common_norm, common_grid, fill, legend, estimate_kws, **plot_kws)\u001b[0m\n\u001b[0;32m    909\u001b[0m \u001b[1;33m\u001b[0m\u001b[0m\n\u001b[0;32m    910\u001b[0m         \u001b[1;31m# Do the computation\u001b[0m\u001b[1;33m\u001b[0m\u001b[1;33m\u001b[0m\u001b[1;33m\u001b[0m\u001b[0m\n\u001b[1;32m--> 911\u001b[1;33m         densities = self._compute_univariate_density(\n\u001b[0m\u001b[0;32m    912\u001b[0m             \u001b[0mself\u001b[0m\u001b[1;33m.\u001b[0m\u001b[0mdata_variable\u001b[0m\u001b[1;33m,\u001b[0m\u001b[1;33m\u001b[0m\u001b[1;33m\u001b[0m\u001b[0m\n\u001b[0;32m    913\u001b[0m             \u001b[0mcommon_norm\u001b[0m\u001b[1;33m,\u001b[0m\u001b[1;33m\u001b[0m\u001b[1;33m\u001b[0m\u001b[0m\n",
      "\u001b[1;32m~\\anaconda3\\lib\\site-packages\\seaborn\\distributions.py\u001b[0m in \u001b[0;36m_compute_univariate_density\u001b[1;34m(self, data_variable, common_norm, common_grid, estimate_kws, log_scale)\u001b[0m\n\u001b[0;32m    314\u001b[0m \u001b[1;33m\u001b[0m\u001b[0m\n\u001b[0;32m    315\u001b[0m             \u001b[1;31m# Estimate the density of observations at this level\u001b[0m\u001b[1;33m\u001b[0m\u001b[1;33m\u001b[0m\u001b[1;33m\u001b[0m\u001b[0m\n\u001b[1;32m--> 316\u001b[1;33m             \u001b[0mdensity\u001b[0m\u001b[1;33m,\u001b[0m \u001b[0msupport\u001b[0m \u001b[1;33m=\u001b[0m \u001b[0mestimator\u001b[0m\u001b[1;33m(\u001b[0m\u001b[0mobservations\u001b[0m\u001b[1;33m,\u001b[0m \u001b[0mweights\u001b[0m\u001b[1;33m=\u001b[0m\u001b[0mweights\u001b[0m\u001b[1;33m)\u001b[0m\u001b[1;33m\u001b[0m\u001b[1;33m\u001b[0m\u001b[0m\n\u001b[0m\u001b[0;32m    317\u001b[0m \u001b[1;33m\u001b[0m\u001b[0m\n\u001b[0;32m    318\u001b[0m             \u001b[1;32mif\u001b[0m \u001b[0mlog_scale\u001b[0m\u001b[1;33m:\u001b[0m\u001b[1;33m\u001b[0m\u001b[1;33m\u001b[0m\u001b[0m\n",
      "\u001b[1;32m~\\anaconda3\\lib\\site-packages\\seaborn\\_statistics.py\u001b[0m in \u001b[0;36m__call__\u001b[1;34m(self, x1, x2, weights)\u001b[0m\n\u001b[0;32m    185\u001b[0m         \u001b[1;34m\"\"\"Fit and evaluate on univariate or bivariate data.\"\"\"\u001b[0m\u001b[1;33m\u001b[0m\u001b[1;33m\u001b[0m\u001b[0m\n\u001b[0;32m    186\u001b[0m         \u001b[1;32mif\u001b[0m \u001b[0mx2\u001b[0m \u001b[1;32mis\u001b[0m \u001b[1;32mNone\u001b[0m\u001b[1;33m:\u001b[0m\u001b[1;33m\u001b[0m\u001b[1;33m\u001b[0m\u001b[0m\n\u001b[1;32m--> 187\u001b[1;33m             \u001b[1;32mreturn\u001b[0m \u001b[0mself\u001b[0m\u001b[1;33m.\u001b[0m\u001b[0m_eval_univariate\u001b[0m\u001b[1;33m(\u001b[0m\u001b[0mx1\u001b[0m\u001b[1;33m,\u001b[0m \u001b[0mweights\u001b[0m\u001b[1;33m)\u001b[0m\u001b[1;33m\u001b[0m\u001b[1;33m\u001b[0m\u001b[0m\n\u001b[0m\u001b[0;32m    188\u001b[0m         \u001b[1;32melse\u001b[0m\u001b[1;33m:\u001b[0m\u001b[1;33m\u001b[0m\u001b[1;33m\u001b[0m\u001b[0m\n\u001b[0;32m    189\u001b[0m             \u001b[1;32mreturn\u001b[0m \u001b[0mself\u001b[0m\u001b[1;33m.\u001b[0m\u001b[0m_eval_bivariate\u001b[0m\u001b[1;33m(\u001b[0m\u001b[0mx1\u001b[0m\u001b[1;33m,\u001b[0m \u001b[0mx2\u001b[0m\u001b[1;33m,\u001b[0m \u001b[0mweights\u001b[0m\u001b[1;33m)\u001b[0m\u001b[1;33m\u001b[0m\u001b[1;33m\u001b[0m\u001b[0m\n",
      "\u001b[1;32m~\\anaconda3\\lib\\site-packages\\seaborn\\_statistics.py\u001b[0m in \u001b[0;36m_eval_univariate\u001b[1;34m(self, x, weights)\u001b[0m\n\u001b[0;32m    154\u001b[0m             ])\n\u001b[0;32m    155\u001b[0m         \u001b[1;32melse\u001b[0m\u001b[1;33m:\u001b[0m\u001b[1;33m\u001b[0m\u001b[1;33m\u001b[0m\u001b[0m\n\u001b[1;32m--> 156\u001b[1;33m             \u001b[0mdensity\u001b[0m \u001b[1;33m=\u001b[0m \u001b[0mkde\u001b[0m\u001b[1;33m(\u001b[0m\u001b[0msupport\u001b[0m\u001b[1;33m)\u001b[0m\u001b[1;33m\u001b[0m\u001b[1;33m\u001b[0m\u001b[0m\n\u001b[0m\u001b[0;32m    157\u001b[0m \u001b[1;33m\u001b[0m\u001b[0m\n\u001b[0;32m    158\u001b[0m         \u001b[1;32mreturn\u001b[0m \u001b[0mdensity\u001b[0m\u001b[1;33m,\u001b[0m \u001b[0msupport\u001b[0m\u001b[1;33m\u001b[0m\u001b[1;33m\u001b[0m\u001b[0m\n",
      "\u001b[1;32m~\\anaconda3\\lib\\site-packages\\scipy\\stats\\kde.py\u001b[0m in \u001b[0;36mevaluate\u001b[1;34m(self, points)\u001b[0m\n\u001b[0;32m    250\u001b[0m             raise TypeError('%s has unexpected item size %d' %\n\u001b[0;32m    251\u001b[0m                             (output_dtype, itemsize))\n\u001b[1;32m--> 252\u001b[1;33m         result = gaussian_kernel_estimate[spec](self.dataset.T, self.weights[:, None],\n\u001b[0m\u001b[0;32m    253\u001b[0m                                                 points.T, self.inv_cov, output_dtype)\n\u001b[0;32m    254\u001b[0m         \u001b[1;32mreturn\u001b[0m \u001b[0mresult\u001b[0m\u001b[1;33m[\u001b[0m\u001b[1;33m:\u001b[0m\u001b[1;33m,\u001b[0m \u001b[1;36m0\u001b[0m\u001b[1;33m]\u001b[0m\u001b[1;33m\u001b[0m\u001b[1;33m\u001b[0m\u001b[0m\n",
      "\u001b[1;32m_stats.pyx\u001b[0m in \u001b[0;36mscipy.stats._stats.gaussian_kernel_estimate\u001b[1;34m()\u001b[0m\n",
      "\u001b[1;32m~\\anaconda3\\lib\\site-packages\\numpy\\core\\_asarray.py\u001b[0m in \u001b[0;36masarray\u001b[1;34m(a, dtype, order, like)\u001b[0m\n\u001b[0;32m    100\u001b[0m         \u001b[1;32mreturn\u001b[0m \u001b[0m_asarray_with_like\u001b[0m\u001b[1;33m(\u001b[0m\u001b[0ma\u001b[0m\u001b[1;33m,\u001b[0m \u001b[0mdtype\u001b[0m\u001b[1;33m=\u001b[0m\u001b[0mdtype\u001b[0m\u001b[1;33m,\u001b[0m \u001b[0morder\u001b[0m\u001b[1;33m=\u001b[0m\u001b[0morder\u001b[0m\u001b[1;33m,\u001b[0m \u001b[0mlike\u001b[0m\u001b[1;33m=\u001b[0m\u001b[0mlike\u001b[0m\u001b[1;33m)\u001b[0m\u001b[1;33m\u001b[0m\u001b[1;33m\u001b[0m\u001b[0m\n\u001b[0;32m    101\u001b[0m \u001b[1;33m\u001b[0m\u001b[0m\n\u001b[1;32m--> 102\u001b[1;33m     \u001b[1;32mreturn\u001b[0m \u001b[0marray\u001b[0m\u001b[1;33m(\u001b[0m\u001b[0ma\u001b[0m\u001b[1;33m,\u001b[0m \u001b[0mdtype\u001b[0m\u001b[1;33m,\u001b[0m \u001b[0mcopy\u001b[0m\u001b[1;33m=\u001b[0m\u001b[1;32mFalse\u001b[0m\u001b[1;33m,\u001b[0m \u001b[0morder\u001b[0m\u001b[1;33m=\u001b[0m\u001b[0morder\u001b[0m\u001b[1;33m)\u001b[0m\u001b[1;33m\u001b[0m\u001b[1;33m\u001b[0m\u001b[0m\n\u001b[0m\u001b[0;32m    103\u001b[0m \u001b[1;33m\u001b[0m\u001b[0m\n\u001b[0;32m    104\u001b[0m \u001b[1;33m\u001b[0m\u001b[0m\n",
      "\u001b[1;31mKeyboardInterrupt\u001b[0m: "
     ]
    },
    {
     "data": {
      "image/png": "[encoded data removed]",
      "text/plain": [
       "<Figure size 432x288 with 1 Axes>"
      ]
     },
     "metadata": {
      "needs_background": "light"
     },
     "output_type": "display_data"
    }
   ],
   "source": [
    "train_info = GetDataInfo(train)"
   ]
  },
  {
   "cell_type": "code",
   "execution_count": 20,
   "id": "a60927b5",
   "metadata": {},
   "outputs": [
    {
     "data": {
      "text/plain": [
       "Timestamp('2019-01-20 21:00:00')"
      ]
     },
     "execution_count": 20,
     "metadata": {},
     "output_type": "execute_result"
    }
   ],
   "source": [
    "train['buy_time'].max()"
   ]
  },
  {
   "cell_type": "code",
   "execution_count": 21,
   "id": "32a3fea3",
   "metadata": {},
   "outputs": [
    {
     "data": {
      "text/plain": [
       "Timestamp('2018-07-08 21:00:00')"
      ]
     },
     "execution_count": 21,
     "metadata": {},
     "output_type": "execute_result"
    }
   ],
   "source": [
    "train['buy_time'].min()"
   ]
  },
  {
   "cell_type": "code",
   "execution_count": 22,
   "id": "b36861df",
   "metadata": {},
   "outputs": [],
   "source": [
    "train.columns = [col.lower() for col in train.columns]\n",
    "test.columns = [col.lower() for col in test.columns]"
   ]
  },
  {
   "cell_type": "code",
   "execution_count": 23,
   "id": "14b245e7",
   "metadata": {},
   "outputs": [],
   "source": [
    "import random\n",
    "def SplitDataframe(df, procent):\n",
    "    neg = set(df[['target', 'id']].loc[df['target'] == 0]['id'].values)\n",
    "    pos = set(df[['target', 'id']].loc[df['target'] != 0]['id'].values)\n",
    "    pos_idx1 = set(random.sample(pos, int(len(pos) * procent)))\n",
    "    neg_idx1 = set(random.sample(neg, int(len(neg) * procent)))\n",
    "    pos_idx2 = pos - pos_idx1\n",
    "    neg_idx2 = neg - neg_idx1\n",
    "    \n",
    "    tr = df.loc[(df['id'].isin(pos_idx1)) | (df['id'].isin(neg_idx1))]\n",
    "    ts = df.loc[(df['id'].isin(pos_idx2)) | (df['id'].isin(neg_idx2))]\n",
    "    \n",
    "    return tr, ts"
   ]
  },
  {
   "cell_type": "code",
   "execution_count": 24,
   "id": "b99d96f4",
   "metadata": {},
   "outputs": [],
   "source": [
    "X_train, X_test = SplitDataframe(train, 0.30)"
   ]
  },
  {
   "cell_type": "code",
   "execution_count": 25,
   "id": "27dbd4ef",
   "metadata": {},
   "outputs": [],
   "source": [
    "#test_size_weeks = 4\n",
    "#date = train['buy_time'].max() - dt.timedelta(weeks = test_size_weeks)\n",
    "#X_train = train[train['buy_time'] < date]\n",
    "#X_test = train[train['buy_time'] >= date]\n",
    "\n",
    "#print(len(X_train))\n",
    "#print(len(X_test))\n",
    "#X_train.head(2)"
   ]
  },
  {
   "cell_type": "code",
   "execution_count": 26,
   "id": "964cb6eb",
   "metadata": {},
   "outputs": [],
   "source": [
    "X_train = X_train.drop_duplicates(subset=['id'], keep=False)\n",
    "X_test = X_test.drop_duplicates(subset=['id'], keep=False)"
   ]
  },
  {
   "cell_type": "code",
   "execution_count": 27,
   "id": "8301af35",
   "metadata": {},
   "outputs": [],
   "source": [
    "data_prelim = X_train.copy()\n",
    "\n",
    "X_train = data_prelim.drop('target', axis=1)\n",
    "y_train = data_prelim['target']\n",
    "\n",
    "data_prelim = X_test.copy()\n",
    "\n",
    "X_test = data_prelim.drop('target', axis=1)\n",
    "y_test = data_prelim['target']"
   ]
  },
  {
   "cell_type": "code",
   "execution_count": 28,
   "id": "b0680427",
   "metadata": {},
   "outputs": [
    {
     "name": "stdout",
     "output_type": "stream",
     "text": [
      "Wall time: 466 ms\n"
     ]
    }
   ],
   "source": [
    "%%time\n",
    "from sklearn.model_selection import train_test_split\n",
    "\n",
    "# Зафиксируем значение random_state для воспроизводимости результатов.\n",
    "RANDOM_STATE = 888\n",
    "X = train.drop('target', axis=1)\n",
    "y = train['target']"
   ]
  },
  {
   "cell_type": "code",
   "execution_count": 29,
   "id": "1e200c90",
   "metadata": {},
   "outputs": [],
   "source": [
    "#%%time\n",
    "#print(\"Train\")\n",
    "#print(y_train.value_counts() / train_idx.shape[0])\n",
    "#print()\n",
    "#print(\"Test\")\n",
    "#print(y_test.value_counts() / test_idx.shape[0])"
   ]
  },
  {
   "cell_type": "markdown",
   "id": "6d49e681",
   "metadata": {},
   "source": [
    "<h2>Классификация фичь</h2>"
   ]
  },
  {
   "cell_type": "code",
   "execution_count": 30,
   "id": "52929886",
   "metadata": {},
   "outputs": [
    {
     "name": "stdout",
     "output_type": "stream",
     "text": [
      "ID уникален?  False\n",
      "Есть ли дубли в строках? 0\n",
      "Сколько процент признаков могут принимать null-значениями? 0%\n"
     ]
    }
   ],
   "source": [
    "print(\"ID уникален? \", X_train.index.is_unique)\n",
    "print(\"Есть ли дубли в строках?\", X_train.duplicated().sum())\n",
    "print(\"Сколько процент признаков могут принимать null-значениями? %d%%\" % float((X_train.isnull().sum() > 0).sum()/X_train.shape[1]*100))"
   ]
  },
  {
   "cell_type": "code",
   "execution_count": 31,
   "id": "915898ca",
   "metadata": {},
   "outputs": [
    {
     "data": {
      "image/png": "[encoded data removed]",
      "text/plain": [
       "<Figure size 720x360 with 1 Axes>"
      ]
     },
     "metadata": {
      "needs_background": "light"
     },
     "output_type": "display_data"
    }
   ],
   "source": [
    "X_nunique = X_train.apply(lambda x: x.nunique(dropna=False))\n",
    "plt.title(\"Распределение уникальных значений признаков\");\n",
    "X_nunique.hist(bins=100, figsize=(10, 5));"
   ]
  },
  {
   "cell_type": "code",
   "execution_count": 32,
   "id": "ee2f45bc",
   "metadata": {},
   "outputs": [],
   "source": [
    "f_all = set(X_train.columns)\n",
    "f_all.remove('buy_time')"
   ]
  },
  {
   "cell_type": "code",
   "execution_count": 33,
   "id": "36c96b0d",
   "metadata": {},
   "outputs": [
    {
     "data": {
      "text/plain": [
       "8"
      ]
     },
     "execution_count": 33,
     "metadata": {},
     "output_type": "execute_result"
    }
   ],
   "source": [
    "f_const = set(X_nunique[X_nunique == 1].index.tolist())\n",
    "len(f_const)"
   ]
  },
  {
   "cell_type": "code",
   "execution_count": 34,
   "id": "96a06df2",
   "metadata": {},
   "outputs": [],
   "source": [
    "f_other = f_all - f_const"
   ]
  },
  {
   "cell_type": "code",
   "execution_count": 35,
   "id": "3ca4e312",
   "metadata": {},
   "outputs": [
    {
     "data": {
      "text/plain": [
       "23"
      ]
     },
     "execution_count": 35,
     "metadata": {},
     "output_type": "execute_result"
    }
   ],
   "source": [
    "df = (X_train[list(f_other)].apply(lambda x: x.nunique(dropna=False)) == 2)\n",
    "f_binary = set(df.loc[df == True].index)\n",
    "len(f_binary)"
   ]
  },
  {
   "cell_type": "code",
   "execution_count": 36,
   "id": "745dc5fb",
   "metadata": {},
   "outputs": [
    {
     "data": {
      "text/plain": [
       "233"
      ]
     },
     "execution_count": 36,
     "metadata": {},
     "output_type": "execute_result"
    }
   ],
   "source": [
    "f_other = f_all - (f_binary | f_const)\n",
    "len(f_other)"
   ]
  },
  {
   "cell_type": "code",
   "execution_count": 37,
   "id": "cd773dd5",
   "metadata": {},
   "outputs": [],
   "source": [
    "f_categorical = set(X_nunique.loc[f_other][X_nunique.loc[f_other] <= 100].index.tolist())\n",
    "f_numeric_extra = f_categorical"
   ]
  },
  {
   "cell_type": "code",
   "execution_count": 38,
   "id": "750297fe",
   "metadata": {},
   "outputs": [
    {
     "data": {
      "text/plain": [
       "171"
      ]
     },
     "execution_count": 38,
     "metadata": {},
     "output_type": "execute_result"
    }
   ],
   "source": [
    "f_numeric = f_other - f_categorical\n",
    "len(f_numeric)"
   ]
  },
  {
   "cell_type": "code",
   "execution_count": 39,
   "id": "ed722ffc",
   "metadata": {},
   "outputs": [],
   "source": [
    "f_dt = []\n",
    "for col in X_train:\n",
    "    if str(X_train[col].dtype) == 'datetime64[ns]':\n",
    "        f_dt.append(col)\n",
    "f_dt = set(f_dt)"
   ]
  },
  {
   "cell_type": "code",
   "execution_count": 40,
   "id": "4192427e",
   "metadata": {},
   "outputs": [],
   "source": [
    "f_numeric = f_numeric - f_dt "
   ]
  },
  {
   "cell_type": "code",
   "execution_count": 41,
   "id": "c479441d",
   "metadata": {},
   "outputs": [],
   "source": [
    "assert(X_nunique.shape[0] == len(f_dt) + len(f_const) + len(f_binary) + len(f_numeric) + len(f_categorical))"
   ]
  },
  {
   "cell_type": "code",
   "execution_count": 42,
   "id": "a941bbc6",
   "metadata": {},
   "outputs": [
    {
     "name": "stdout",
     "output_type": "stream",
     "text": [
      "f_all: 265\n",
      "\n",
      "f_const: 8\n",
      "f_binary: 23\n",
      "f_categorical: 62\n",
      "f_numeric: 171\n"
     ]
    }
   ],
   "source": [
    "print('f_all:', X_train.shape[1])\n",
    "print()\n",
    "print('f_const:', len(f_const))\n",
    "print('f_binary:', len(f_binary))\n",
    "print('f_categorical:', len(f_categorical))\n",
    "print('f_numeric:', len(f_numeric))\n",
    "\n",
    "f_ok = list(f_binary | f_categorical | f_numeric)\n",
    "f_binary, f_categorical, f_numeric = list(f_binary), list(f_categorical), list(f_numeric)"
   ]
  },
  {
   "cell_type": "markdown",
   "id": "6d744dac",
   "metadata": {},
   "source": [
    "<h2>Создание pipeline и моделирования базовой модели</h2>"
   ]
  },
  {
   "cell_type": "code",
   "execution_count": 43,
   "id": "87ce5c72",
   "metadata": {},
   "outputs": [],
   "source": [
    "class ColumnSelector(BaseEstimator, TransformerMixin):\n",
    "    def __init__(self, columns):\n",
    "        self.columns = columns\n",
    "\n",
    "    def fit(self, X, y=None):\n",
    "        return self\n",
    "    \n",
    "    def transform(self, X):\n",
    "        assert isinstance(X, pd.DataFrame)\n",
    "\n",
    "        try:\n",
    "            return X[self.columns]\n",
    "        except KeyError:\n",
    "            cols_error = list(set(self.columns) - set(X.columns))\n",
    "            raise KeyError(\"DataFrame не содердит следующие колонки: %s\" % cols_error)"
   ]
  },
  {
   "cell_type": "code",
   "execution_count": 44,
   "id": "31ecaf38",
   "metadata": {},
   "outputs": [],
   "source": [
    "f_prep_pipeline = make_pipeline(\n",
    "    ColumnSelector(columns=f_ok),\n",
    "    FeatureUnion(transformer_list=[\n",
    "        (\"numeric_features\", make_pipeline(\n",
    "            ColumnSelector(f_numeric),\n",
    "            SimpleImputer(strategy=\"mean\"),\n",
    "            StandardScaler()\n",
    "        )),\n",
    "        (\"categorical_features\", make_pipeline(\n",
    "            ColumnSelector(f_categorical),\n",
    "            SimpleImputer(strategy=\"most_frequent\"),\n",
    "            OneHotEncoder(handle_unknown='ignore')\n",
    "        )),\n",
    "        (\"boolean_features\", make_pipeline(\n",
    "            ColumnSelector(f_binary),\n",
    "        ))\n",
    "    ])\n",
    ")"
   ]
  },
  {
   "cell_type": "code",
   "execution_count": 45,
   "id": "3cb21f03",
   "metadata": {},
   "outputs": [
    {
     "data": {
      "text/plain": [
       "2597"
      ]
     },
     "execution_count": 45,
     "metadata": {},
     "output_type": "execute_result"
    }
   ],
   "source": [
    "f_prep_pipeline.fit(X_train)\n",
    "\n",
    "n_features = f_prep_pipeline.transform(X_test).shape[1]\n",
    "n_features"
   ]
  },
  {
   "cell_type": "code",
   "execution_count": 46,
   "id": "96b50b7c",
   "metadata": {},
   "outputs": [],
   "source": [
    "RANDOM_STATE=42"
   ]
  },
  {
   "cell_type": "code",
   "execution_count": 47,
   "id": "1e2eda25",
   "metadata": {},
   "outputs": [],
   "source": [
    "step_log_reg = ('log_reg', LogisticRegression(random_state=RANDOM_STATE, n_jobs=-1))"
   ]
  },
  {
   "cell_type": "code",
   "execution_count": 48,
   "id": "15f3b3b5",
   "metadata": {},
   "outputs": [],
   "source": [
    "step_imputer = (\"imputer\", SimpleImputer(strategy=\"mean\"))"
   ]
  },
  {
   "cell_type": "code",
   "execution_count": 49,
   "id": "96acbf93",
   "metadata": {},
   "outputs": [],
   "source": [
    "bl_estimator = Pipeline([\n",
    "    step_imputer,\n",
    "    step_log_reg\n",
    "])"
   ]
  },
  {
   "cell_type": "code",
   "execution_count": 50,
   "id": "4624cf66",
   "metadata": {},
   "outputs": [],
   "source": [
    "kfold_cv = KFold(n_splits=3, shuffle=True, random_state=RANDOM_STATE)\n",
    "\n",
    "def run_cv(estimator, cv, X, y, scoring='roc_auc', model_name=\"\"):\n",
    "    cv_res = cross_validate(estimator, X, y, cv=cv, scoring=scoring, n_jobs=-1)\n",
    "    \n",
    "    print(\"%s: %s = %0.2f (+/- %0.2f)\" % (model_name,\n",
    "                                         scoring,\n",
    "                                         cv_res['test_score'].mean(),\n",
    "                                         cv_res['test_score'].std() * 2))\n",
    "    "
   ]
  },
  {
   "cell_type": "code",
   "execution_count": 51,
   "id": "a5b59638",
   "metadata": {},
   "outputs": [
    {
     "name": "stdout",
     "output_type": "stream",
     "text": [
      "216335 10041\n"
     ]
    }
   ],
   "source": [
    "nul = 0\n",
    "notnul = 0\n",
    "for e in y_train:\n",
    "    if e == 0.0:\n",
    "        nul += 1\n",
    "    else:\n",
    "        notnul += 1\n",
    "print(f'{nul} {notnul}')"
   ]
  },
  {
   "cell_type": "code",
   "execution_count": 52,
   "id": "822a688f",
   "metadata": {},
   "outputs": [
    {
     "data": {
      "text/html": [
       "<div>\n",
       "<style scoped>\n",
       "    .dataframe tbody tr th:only-of-type {\n",
       "        vertical-align: middle;\n",
       "    }\n",
       "\n",
       "    .dataframe tbody tr th {\n",
       "        vertical-align: top;\n",
       "    }\n",
       "\n",
       "    .dataframe thead th {\n",
       "        text-align: right;\n",
       "    }\n",
       "</style>\n",
       "<table border=\"1\" class=\"dataframe\">\n",
       "  <thead>\n",
       "    <tr style=\"text-align: right;\">\n",
       "      <th></th>\n",
       "      <th>id</th>\n",
       "      <th>buy_time</th>\n",
       "      <th>0</th>\n",
       "      <th>1</th>\n",
       "      <th>2</th>\n",
       "      <th>3</th>\n",
       "      <th>4</th>\n",
       "      <th>5</th>\n",
       "      <th>6</th>\n",
       "      <th>7</th>\n",
       "      <th>...</th>\n",
       "      <th>hours</th>\n",
       "      <th>days</th>\n",
       "      <th>day_week</th>\n",
       "      <th>day_year</th>\n",
       "      <th>day_month</th>\n",
       "      <th>weeks_on</th>\n",
       "      <th>week_year</th>\n",
       "      <th>months</th>\n",
       "      <th>quartal</th>\n",
       "      <th>years</th>\n",
       "    </tr>\n",
       "  </thead>\n",
       "  <tbody>\n",
       "    <tr>\n",
       "      <th>474</th>\n",
       "      <td>4293116</td>\n",
       "      <td>2019-01-20 21:00:00</td>\n",
       "      <td>-96.799971</td>\n",
       "      <td>49.460888</td>\n",
       "      <td>-108.240786</td>\n",
       "      <td>-0.646798</td>\n",
       "      <td>-113.658246</td>\n",
       "      <td>-21.75179</td>\n",
       "      <td>-16.08618</td>\n",
       "      <td>-65.076097</td>\n",
       "      <td>...</td>\n",
       "      <td>21</td>\n",
       "      <td>20</td>\n",
       "      <td>6</td>\n",
       "      <td>20</td>\n",
       "      <td>31</td>\n",
       "      <td>3</td>\n",
       "      <td>3</td>\n",
       "      <td>1</td>\n",
       "      <td>1</td>\n",
       "      <td>2019</td>\n",
       "    </tr>\n",
       "    <tr>\n",
       "      <th>400</th>\n",
       "      <td>4191291</td>\n",
       "      <td>2019-01-20 21:00:00</td>\n",
       "      <td>-96.799971</td>\n",
       "      <td>-402.249112</td>\n",
       "      <td>-110.740786</td>\n",
       "      <td>-413.196798</td>\n",
       "      <td>-116.158246</td>\n",
       "      <td>-434.30179</td>\n",
       "      <td>-16.08618</td>\n",
       "      <td>-59.146097</td>\n",
       "      <td>...</td>\n",
       "      <td>21</td>\n",
       "      <td>20</td>\n",
       "      <td>6</td>\n",
       "      <td>20</td>\n",
       "      <td>31</td>\n",
       "      <td>3</td>\n",
       "      <td>3</td>\n",
       "      <td>1</td>\n",
       "      <td>1</td>\n",
       "      <td>2019</td>\n",
       "    </tr>\n",
       "    <tr>\n",
       "      <th>163</th>\n",
       "      <td>3864763</td>\n",
       "      <td>2019-01-20 21:00:00</td>\n",
       "      <td>-96.799971</td>\n",
       "      <td>-6.179112</td>\n",
       "      <td>-90.740786</td>\n",
       "      <td>-14.616798</td>\n",
       "      <td>-94.658246</td>\n",
       "      <td>-34.22179</td>\n",
       "      <td>-16.08618</td>\n",
       "      <td>-65.076097</td>\n",
       "      <td>...</td>\n",
       "      <td>21</td>\n",
       "      <td>20</td>\n",
       "      <td>6</td>\n",
       "      <td>20</td>\n",
       "      <td>31</td>\n",
       "      <td>3</td>\n",
       "      <td>3</td>\n",
       "      <td>1</td>\n",
       "      <td>1</td>\n",
       "      <td>2019</td>\n",
       "    </tr>\n",
       "    <tr>\n",
       "      <th>1340</th>\n",
       "      <td>3548998</td>\n",
       "      <td>2019-01-20 21:00:00</td>\n",
       "      <td>-66.799971</td>\n",
       "      <td>-119.899112</td>\n",
       "      <td>-80.740786</td>\n",
       "      <td>-139.166798</td>\n",
       "      <td>-86.158246</td>\n",
       "      <td>-23.69179</td>\n",
       "      <td>-16.08618</td>\n",
       "      <td>-51.826097</td>\n",
       "      <td>...</td>\n",
       "      <td>21</td>\n",
       "      <td>20</td>\n",
       "      <td>6</td>\n",
       "      <td>20</td>\n",
       "      <td>31</td>\n",
       "      <td>3</td>\n",
       "      <td>3</td>\n",
       "      <td>1</td>\n",
       "      <td>1</td>\n",
       "      <td>2019</td>\n",
       "    </tr>\n",
       "    <tr>\n",
       "      <th>1697</th>\n",
       "      <td>1962191</td>\n",
       "      <td>2019-01-20 21:00:00</td>\n",
       "      <td>299.030029</td>\n",
       "      <td>-9.319112</td>\n",
       "      <td>285.089214</td>\n",
       "      <td>-51.926798</td>\n",
       "      <td>279.671754</td>\n",
       "      <td>-73.03179</td>\n",
       "      <td>-16.08618</td>\n",
       "      <td>-65.076097</td>\n",
       "      <td>...</td>\n",
       "      <td>21</td>\n",
       "      <td>20</td>\n",
       "      <td>6</td>\n",
       "      <td>20</td>\n",
       "      <td>31</td>\n",
       "      <td>3</td>\n",
       "      <td>3</td>\n",
       "      <td>1</td>\n",
       "      <td>1</td>\n",
       "      <td>2019</td>\n",
       "    </tr>\n",
       "    <tr>\n",
       "      <th>...</th>\n",
       "      <td>...</td>\n",
       "      <td>...</td>\n",
       "      <td>...</td>\n",
       "      <td>...</td>\n",
       "      <td>...</td>\n",
       "      <td>...</td>\n",
       "      <td>...</td>\n",
       "      <td>...</td>\n",
       "      <td>...</td>\n",
       "      <td>...</td>\n",
       "      <td>...</td>\n",
       "      <td>...</td>\n",
       "      <td>...</td>\n",
       "      <td>...</td>\n",
       "      <td>...</td>\n",
       "      <td>...</td>\n",
       "      <td>...</td>\n",
       "      <td>...</td>\n",
       "      <td>...</td>\n",
       "      <td>...</td>\n",
       "      <td>...</td>\n",
       "    </tr>\n",
       "    <tr>\n",
       "      <th>1609</th>\n",
       "      <td>4086694</td>\n",
       "      <td>2018-07-08 21:00:00</td>\n",
       "      <td>-96.799971</td>\n",
       "      <td>-408.179112</td>\n",
       "      <td>-110.740786</td>\n",
       "      <td>-460.786798</td>\n",
       "      <td>-111.918246</td>\n",
       "      <td>-453.59179</td>\n",
       "      <td>-16.08618</td>\n",
       "      <td>-65.076097</td>\n",
       "      <td>...</td>\n",
       "      <td>21</td>\n",
       "      <td>8</td>\n",
       "      <td>6</td>\n",
       "      <td>189</td>\n",
       "      <td>31</td>\n",
       "      <td>27</td>\n",
       "      <td>27</td>\n",
       "      <td>7</td>\n",
       "      <td>3</td>\n",
       "      <td>2018</td>\n",
       "    </tr>\n",
       "    <tr>\n",
       "      <th>558</th>\n",
       "      <td>4362105</td>\n",
       "      <td>2018-07-08 21:00:00</td>\n",
       "      <td>-96.799971</td>\n",
       "      <td>-379.109112</td>\n",
       "      <td>-110.740786</td>\n",
       "      <td>-431.716798</td>\n",
       "      <td>-116.158246</td>\n",
       "      <td>-452.82179</td>\n",
       "      <td>-16.08618</td>\n",
       "      <td>-65.076097</td>\n",
       "      <td>...</td>\n",
       "      <td>21</td>\n",
       "      <td>8</td>\n",
       "      <td>6</td>\n",
       "      <td>189</td>\n",
       "      <td>31</td>\n",
       "      <td>27</td>\n",
       "      <td>27</td>\n",
       "      <td>7</td>\n",
       "      <td>3</td>\n",
       "      <td>2018</td>\n",
       "    </tr>\n",
       "    <tr>\n",
       "      <th>149</th>\n",
       "      <td>1322711</td>\n",
       "      <td>2018-07-08 21:00:00</td>\n",
       "      <td>-94.259971</td>\n",
       "      <td>-151.399112</td>\n",
       "      <td>-85.580786</td>\n",
       "      <td>-108.446798</td>\n",
       "      <td>-90.998246</td>\n",
       "      <td>-129.55179</td>\n",
       "      <td>-16.08618</td>\n",
       "      <td>-65.076097</td>\n",
       "      <td>...</td>\n",
       "      <td>21</td>\n",
       "      <td>8</td>\n",
       "      <td>6</td>\n",
       "      <td>189</td>\n",
       "      <td>31</td>\n",
       "      <td>27</td>\n",
       "      <td>27</td>\n",
       "      <td>7</td>\n",
       "      <td>3</td>\n",
       "      <td>2018</td>\n",
       "    </tr>\n",
       "    <tr>\n",
       "      <th>897</th>\n",
       "      <td>133352</td>\n",
       "      <td>2018-07-08 21:00:00</td>\n",
       "      <td>-84.189971</td>\n",
       "      <td>-350.309112</td>\n",
       "      <td>-86.270786</td>\n",
       "      <td>-351.216798</td>\n",
       "      <td>-91.688246</td>\n",
       "      <td>-372.32179</td>\n",
       "      <td>-14.22618</td>\n",
       "      <td>-55.946097</td>\n",
       "      <td>...</td>\n",
       "      <td>21</td>\n",
       "      <td>8</td>\n",
       "      <td>6</td>\n",
       "      <td>189</td>\n",
       "      <td>31</td>\n",
       "      <td>27</td>\n",
       "      <td>27</td>\n",
       "      <td>7</td>\n",
       "      <td>3</td>\n",
       "      <td>2018</td>\n",
       "    </tr>\n",
       "    <tr>\n",
       "      <th>354</th>\n",
       "      <td>4098788</td>\n",
       "      <td>2018-07-08 21:00:00</td>\n",
       "      <td>-96.799971</td>\n",
       "      <td>-94.619112</td>\n",
       "      <td>-110.740786</td>\n",
       "      <td>-147.226798</td>\n",
       "      <td>-116.158246</td>\n",
       "      <td>-168.33179</td>\n",
       "      <td>-16.08618</td>\n",
       "      <td>-65.076097</td>\n",
       "      <td>...</td>\n",
       "      <td>21</td>\n",
       "      <td>8</td>\n",
       "      <td>6</td>\n",
       "      <td>189</td>\n",
       "      <td>31</td>\n",
       "      <td>27</td>\n",
       "      <td>27</td>\n",
       "      <td>7</td>\n",
       "      <td>3</td>\n",
       "      <td>2018</td>\n",
       "    </tr>\n",
       "  </tbody>\n",
       "</table>\n",
       "<p>226376 rows × 265 columns</p>\n",
       "</div>"
      ],
      "text/plain": [
       "           id            buy_time           0           1           2  \\\n",
       "474   4293116 2019-01-20 21:00:00  -96.799971   49.460888 -108.240786   \n",
       "400   4191291 2019-01-20 21:00:00  -96.799971 -402.249112 -110.740786   \n",
       "163   3864763 2019-01-20 21:00:00  -96.799971   -6.179112  -90.740786   \n",
       "1340  3548998 2019-01-20 21:00:00  -66.799971 -119.899112  -80.740786   \n",
       "1697  1962191 2019-01-20 21:00:00  299.030029   -9.319112  285.089214   \n",
       "...       ...                 ...         ...         ...         ...   \n",
       "1609  4086694 2018-07-08 21:00:00  -96.799971 -408.179112 -110.740786   \n",
       "558   4362105 2018-07-08 21:00:00  -96.799971 -379.109112 -110.740786   \n",
       "149   1322711 2018-07-08 21:00:00  -94.259971 -151.399112  -85.580786   \n",
       "897    133352 2018-07-08 21:00:00  -84.189971 -350.309112  -86.270786   \n",
       "354   4098788 2018-07-08 21:00:00  -96.799971  -94.619112 -110.740786   \n",
       "\n",
       "               3           4          5         6          7  ...  hours  \\\n",
       "474    -0.646798 -113.658246  -21.75179 -16.08618 -65.076097  ...     21   \n",
       "400  -413.196798 -116.158246 -434.30179 -16.08618 -59.146097  ...     21   \n",
       "163   -14.616798  -94.658246  -34.22179 -16.08618 -65.076097  ...     21   \n",
       "1340 -139.166798  -86.158246  -23.69179 -16.08618 -51.826097  ...     21   \n",
       "1697  -51.926798  279.671754  -73.03179 -16.08618 -65.076097  ...     21   \n",
       "...          ...         ...        ...       ...        ...  ...    ...   \n",
       "1609 -460.786798 -111.918246 -453.59179 -16.08618 -65.076097  ...     21   \n",
       "558  -431.716798 -116.158246 -452.82179 -16.08618 -65.076097  ...     21   \n",
       "149  -108.446798  -90.998246 -129.55179 -16.08618 -65.076097  ...     21   \n",
       "897  -351.216798  -91.688246 -372.32179 -14.22618 -55.946097  ...     21   \n",
       "354  -147.226798 -116.158246 -168.33179 -16.08618 -65.076097  ...     21   \n",
       "\n",
       "      days  day_week  day_year  day_month  weeks_on  week_year  months  \\\n",
       "474     20         6        20         31         3          3       1   \n",
       "400     20         6        20         31         3          3       1   \n",
       "163     20         6        20         31         3          3       1   \n",
       "1340    20         6        20         31         3          3       1   \n",
       "1697    20         6        20         31         3          3       1   \n",
       "...    ...       ...       ...        ...       ...        ...     ...   \n",
       "1609     8         6       189         31        27         27       7   \n",
       "558      8         6       189         31        27         27       7   \n",
       "149      8         6       189         31        27         27       7   \n",
       "897      8         6       189         31        27         27       7   \n",
       "354      8         6       189         31        27         27       7   \n",
       "\n",
       "      quartal  years  \n",
       "474         1   2019  \n",
       "400         1   2019  \n",
       "163         1   2019  \n",
       "1340        1   2019  \n",
       "1697        1   2019  \n",
       "...       ...    ...  \n",
       "1609        3   2018  \n",
       "558         3   2018  \n",
       "149         3   2018  \n",
       "897         3   2018  \n",
       "354         3   2018  \n",
       "\n",
       "[226376 rows x 265 columns]"
      ]
     },
     "execution_count": 52,
     "metadata": {},
     "output_type": "execute_result"
    }
   ],
   "source": [
    "X_train"
   ]
  },
  {
   "cell_type": "code",
   "execution_count": 53,
   "id": "f517ed1d",
   "metadata": {},
   "outputs": [
    {
     "name": "stdout",
     "output_type": "stream",
     "text": [
      "Baseline: roc_auc = 0.51 (+/- 0.01)\n"
     ]
    }
   ],
   "source": [
    "run_cv(bl_estimator, kfold_cv, X_train.drop(columns=f_dt), y_train, model_name=\"Baseline\");"
   ]
  },
  {
   "cell_type": "code",
   "execution_count": 54,
   "id": "794efe91",
   "metadata": {},
   "outputs": [],
   "source": [
    "bl_estimator.fit(X_train.drop(columns=f_dt), y_train)\n",
    "\n",
    "bl_y_pred = bl_estimator.predict_proba(X_test.drop(columns=f_dt))[:,1]"
   ]
  },
  {
   "cell_type": "code",
   "execution_count": 55,
   "id": "c900ab88",
   "metadata": {},
   "outputs": [
    {
     "data": {
      "image/png": "[encoded data removed]",
      "text/plain": [
       "<Figure size 432x288 with 1 Axes>"
      ]
     },
     "metadata": {
      "needs_background": "light"
     },
     "output_type": "display_data"
    }
   ],
   "source": [
    "plt.title(\"Baseline: распределение предсказаний модели\")\n",
    "plt.hist(bl_y_pred[~y_test.astype(bool)], bins=100, color='r', alpha=0.7)\n",
    "plt.hist(bl_y_pred[y_test.astype(bool)], bins=100, color='b', alpha=0.7)\n",
    "plt.savefig('baseline.png')"
   ]
  },
  {
   "cell_type": "code",
   "execution_count": 56,
   "id": "bdb32114",
   "metadata": {},
   "outputs": [],
   "source": [
    "from sklearn.metrics import precision_recall_curve, roc_curve, auc\n",
    "\n",
    "fpr, tpr, roc_thresholds = roc_curve(y_test, bl_y_pred)\n",
    "precision, recall, pr_thresholds = precision_recall_curve(y_test, bl_y_pred)"
   ]
  },
  {
   "cell_type": "code",
   "execution_count": 57,
   "id": "a4457b79",
   "metadata": {},
   "outputs": [
    {
     "name": "stdout",
     "output_type": "stream",
     "text": [
      "Baseline: AUC_ROC = 0.506\n"
     ]
    },
    {
     "data": {
      "image/png": "[encoded data removed]",
      "text/plain": [
       "<Figure size 504x504 with 1 Axes>"
      ]
     },
     "metadata": {
      "needs_background": "light"
     },
     "output_type": "display_data"
    }
   ],
   "source": [
    "def plot_roc_curve(fpr, tpr, model_name=\"\", color=None):\n",
    "    plt.plot(fpr, tpr, label='%s: ROC curve (area = %0.2f)' %\n",
    "             (model_name, auc(fpr, tpr)), color=color)\n",
    "    plt.plot([0, 1], [0, 1], 'k--')\n",
    "    plt.axis([0.0, 1.0, 0.0, 1.05])\n",
    "    plt.xlabel('False Positive Rate')\n",
    "    plt.ylabel('True Positive Rate')\n",
    "    plt.title('%s: Receiver operating characteristic curve' % model_name)\n",
    "    plt.legend(loc=\"lower right\")\n",
    "\n",
    "plt.figure(figsize=(7, 7))\n",
    "plot_roc_curve(fpr, tpr, \"Baseline\", color='r')\n",
    "print(\"Baseline: AUC_ROC = %.3f\" % auc(fpr, tpr))\n",
    "plt.savefig('baseline_roc_auc.png')"
   ]
  },
  {
   "cell_type": "code",
   "execution_count": 58,
   "id": "a75f1742",
   "metadata": {},
   "outputs": [
    {
     "name": "stdout",
     "output_type": "stream",
     "text": [
      "Baseline: AUC_PR = 0.046\n"
     ]
    },
    {
     "data": {
      "image/png": "[encoded data removed]",
      "text/plain": [
       "<Figure size 504x504 with 1 Axes>"
      ]
     },
     "metadata": {
      "needs_background": "light"
     },
     "output_type": "display_data"
    }
   ],
   "source": [
    "def plot_precision_recall_curve(recall, precision, model_name=\"\", color=None):\n",
    "    plt.plot(recall, precision, label='%s: Precision-Recall curve (area = %0.2f)' %\n",
    "             (model_name, auc(recall, precision)), color=color)\n",
    "    plt.xlabel('Recall')\n",
    "    plt.ylabel('Precision')\n",
    "    plt.title(\"%s: Precision-Recall curve\" % model_name)\n",
    "    plt.axis([0.0, 1.0, 0.0, 1.05])\n",
    "    plt.legend(loc=\"lower left\")\n",
    "\n",
    "plt.figure(figsize=(7, 7))\n",
    "    \n",
    "plot_precision_recall_curve(recall, precision, \"Baseline\", color='r')\n",
    "print(\"Baseline: AUC_PR = %.3f\" % auc(recall, precision))"
   ]
  },
  {
   "cell_type": "code",
   "execution_count": 59,
   "id": "0828f076",
   "metadata": {},
   "outputs": [
    {
     "name": "stdout",
     "output_type": "stream",
     "text": [
      "Максимальную точность при этом: 0.045\n",
      "При каком пороге: 0.009\n"
     ]
    },
    {
     "data": {
      "image/png": "[encoded data removed]",
      "text/plain": [
       "<Figure size 432x288 with 1 Axes>"
      ]
     },
     "metadata": {
      "needs_background": "light"
     },
     "output_type": "display_data"
    }
   ],
   "source": [
    "re80_mask = recall >= 0.8\n",
    "pr_target_idx = np.arange(len(precision))[re80_mask]\n",
    "pr_target = precision[re80_mask]\n",
    "\n",
    "max_pr_idx = pr_target_idx[np.argmax(pr_target)]\n",
    "\n",
    "\n",
    "print(\"Максимальную точность при этом: %.3f\" % precision[max_pr_idx])\n",
    "threshold80 = pr_thresholds[max_pr_idx]\n",
    "print (\"При каком пороге: %.3f\" % threshold80)\n",
    "\n",
    "plot_precision_recall_curve(recall[re80_mask], precision[re80_mask], color='r')"
   ]
  },
  {
   "cell_type": "code",
   "execution_count": 60,
   "id": "ec916b6b",
   "metadata": {},
   "outputs": [],
   "source": [
    "import itertools\n",
    "from sklearn.metrics import confusion_matrix\n",
    "\n",
    "def plot_confusion_matrix(cm, classes,\n",
    "                          model_name=\"\",\n",
    "                          normalize=False,\n",
    "                          cmap=plt.cm.Blues):\n",
    "    \"\"\"\n",
    "    This function prints and plots the confusion matrix.\n",
    "    Normalization can be applied by setting `normalize=True`.\n",
    "    \"\"\"\n",
    "    if normalize:\n",
    "        cm = cm.astype('float') / cm.sum(axis=1)[:, np.newaxis]\n",
    "        print(\"Normalized confusion matrix\")\n",
    "    else:\n",
    "        print('Confusion matrix, without normalization')\n",
    "\n",
    "    print(cm)\n",
    "\n",
    "    plt.imshow(cm, interpolation='nearest',  cmap=cmap)\n",
    "    \n",
    "    plt.grid(False)\n",
    "    plt.title('%s: confusion matrix' % model_name)\n",
    "    tick_marks = np.arange(len(classes))\n",
    "    plt.xticks(tick_marks, classes, rotation=45)\n",
    "    plt.yticks(tick_marks, classes)\n",
    "\n",
    "    fmt = '.2f' if normalize else 'd'\n",
    "    thresh = cm.max() / 2.\n",
    "    for i, j in itertools.product(range(cm.shape[0]), range(cm.shape[1])):\n",
    "        plt.text(j, i, format(cm[i, j], fmt),\n",
    "                 horizontalalignment=\"center\",\n",
    "                 color=\"white\" if cm[i, j] > thresh else \"black\")\n",
    "\n",
    "    plt.ylabel('True label')\n",
    "    plt.xlabel('Predicted label')\n",
    "    plt.tight_layout()"
   ]
  },
  {
   "cell_type": "code",
   "execution_count": 61,
   "id": "52365a71",
   "metadata": {},
   "outputs": [
    {
     "name": "stdout",
     "output_type": "stream",
     "text": [
      "Confusion matrix, without normalization\n",
      "[[496470   8181]\n",
      " [ 23481    390]]\n"
     ]
    },
    {
     "data": {
      "image/png": "[encoded data removed]",
      "text/plain": [
       "<Figure size 432x288 with 1 Axes>"
      ]
     },
     "metadata": {
      "needs_background": "light"
     },
     "output_type": "display_data"
    }
   ],
   "source": [
    "# TN                FP(Type II error)\n",
    "# \n",
    "# FN(Type I error)  TP\n",
    "\n",
    "cm = confusion_matrix(y_test, bl_y_pred > 0.5)\n",
    "plot_confusion_matrix(cm, classes=[\"0\", \"1\"], model_name=\"Baseline\");"
   ]
  },
  {
   "cell_type": "code",
   "execution_count": 62,
   "id": "32981da5",
   "metadata": {},
   "outputs": [
    {
     "name": "stdout",
     "output_type": "stream",
     "text": [
      "              precision    recall  f1-score   support\n",
      "\n",
      "         0.0       0.95      0.98      0.97    504651\n",
      "         1.0       0.05      0.02      0.02     23871\n",
      "\n",
      "    accuracy                           0.94    528522\n",
      "   macro avg       0.50      0.50      0.50    528522\n",
      "weighted avg       0.91      0.94      0.93    528522\n",
      "\n"
     ]
    }
   ],
   "source": [
    "from sklearn.metrics import classification_report\n",
    "\n",
    "print(classification_report(y_test, bl_y_pred > 0.5))"
   ]
  },
  {
   "cell_type": "code",
   "execution_count": 63,
   "id": "434fb99b",
   "metadata": {},
   "outputs": [
    {
     "name": "stdout",
     "output_type": "stream",
     "text": [
      "              accuracy = 0.94\n",
      "           1 precision = 0.05\n",
      "              1 recall = 0.02\n",
      "   micro avg precision = 0.94 \n",
      "   macro avg precision = 0.50 \n",
      "weighted avg precision = 0.91 \n"
     ]
    }
   ],
   "source": [
    "tn, fp, fn, tp = cm.ravel()\n",
    "\n",
    "precision = tp/(fp + tp)\n",
    "recall = tp/(fn + tp)\n",
    "\n",
    "accuracy = (tp + tn)/(fp + fn + tp + tn)\n",
    "\n",
    "micro_avg_pr    = (tn + tp) / (fn + tn + fp + tp)\n",
    "macro_avg_pr    = (tn/(fn + tn) + tp/(fp + tp))/2\n",
    "\n",
    "n_0 = (y_test == 0).sum()\n",
    "n_1 = (y_test == 1).sum()\n",
    "weighted_avg_pr = (n_0*tn/(fn + tn) + n_1*tp/(fp + tp))/(n_0 + n_1)\n",
    "\n",
    "print(\"              accuracy = %.2f\"   % float(accuracy))\n",
    "print(\"           1 precision = %.2f\"   % float(precision))\n",
    "print(\"              1 recall = %.2f\"   % float(recall))\n",
    "print(\"   micro avg precision = %.2f \"  % float(micro_avg_pr))\n",
    "print(\"   macro avg precision = %.2f \"  % float(macro_avg_pr))\n",
    "print(\"weighted avg precision = %.2f \"  % float(weighted_avg_pr))"
   ]
  },
  {
   "cell_type": "markdown",
   "id": "e8ed46c5",
   "metadata": {},
   "source": [
    "<h2>Модель данных</h2>"
   ]
  },
  {
   "cell_type": "code",
   "execution_count": 64,
   "id": "95985604",
   "metadata": {},
   "outputs": [],
   "source": [
    "from sklearn.base import BaseEstimator, TransformerMixin"
   ]
  },
  {
   "cell_type": "code",
   "execution_count": 65,
   "id": "6650f4e6",
   "metadata": {},
   "outputs": [],
   "source": [
    "class ColumnSelector(BaseEstimator, TransformerMixin):\n",
    "    def __init__(self, columns):\n",
    "        self.columns = columns\n",
    "\n",
    "    def fit(self, X, y=None):\n",
    "        return self\n",
    "    \n",
    "    def transform(self, X):\n",
    "        assert isinstance(X, pd.DataFrame)\n",
    "\n",
    "        try:\n",
    "            return X[self.columns]\n",
    "        except KeyError:\n",
    "            cols_error = list(set(self.columns) - set(X.columns))\n",
    "            raise KeyError(\"DataFrame не содердит следующие колонки: %s\" % cols_error)"
   ]
  },
  {
   "cell_type": "code",
   "execution_count": 66,
   "id": "25c8a205",
   "metadata": {},
   "outputs": [],
   "source": [
    "cs_pipe = Pipeline([\n",
    "    ('cs', ColumnSelector(columns=train.drop(columns=f_dt).columns[:5])),\n",
    "])"
   ]
  },
  {
   "cell_type": "code",
   "execution_count": 67,
   "id": "c9390b9d",
   "metadata": {},
   "outputs": [
    {
     "data": {
      "text/html": [
       "<div>\n",
       "<style scoped>\n",
       "    .dataframe tbody tr th:only-of-type {\n",
       "        vertical-align: middle;\n",
       "    }\n",
       "\n",
       "    .dataframe tbody tr th {\n",
       "        vertical-align: top;\n",
       "    }\n",
       "\n",
       "    .dataframe thead th {\n",
       "        text-align: right;\n",
       "    }\n",
       "</style>\n",
       "<table border=\"1\" class=\"dataframe\">\n",
       "  <thead>\n",
       "    <tr style=\"text-align: right;\">\n",
       "      <th></th>\n",
       "      <th>id</th>\n",
       "      <th>0</th>\n",
       "      <th>1</th>\n",
       "      <th>2</th>\n",
       "      <th>3</th>\n",
       "    </tr>\n",
       "  </thead>\n",
       "  <tbody>\n",
       "    <tr>\n",
       "      <th>983</th>\n",
       "      <td>3521152</td>\n",
       "      <td>-96.799971</td>\n",
       "      <td>-198.259112</td>\n",
       "      <td>-110.740786</td>\n",
       "      <td>-250.866798</td>\n",
       "    </tr>\n",
       "    <tr>\n",
       "      <th>937</th>\n",
       "      <td>189347</td>\n",
       "      <td>-96.799971</td>\n",
       "      <td>-314.719112</td>\n",
       "      <td>-110.740786</td>\n",
       "      <td>-352.326798</td>\n",
       "    </tr>\n",
       "    <tr>\n",
       "      <th>746</th>\n",
       "      <td>3406377</td>\n",
       "      <td>-95.299971</td>\n",
       "      <td>-162.009112</td>\n",
       "      <td>-100.910786</td>\n",
       "      <td>-206.286798</td>\n",
       "    </tr>\n",
       "    <tr>\n",
       "      <th>751</th>\n",
       "      <td>3413400</td>\n",
       "      <td>-96.799971</td>\n",
       "      <td>-391.929112</td>\n",
       "      <td>-110.740786</td>\n",
       "      <td>-444.536798</td>\n",
       "    </tr>\n",
       "    <tr>\n",
       "      <th>752</th>\n",
       "      <td>3414094</td>\n",
       "      <td>-75.799971</td>\n",
       "      <td>-249.899112</td>\n",
       "      <td>-89.740786</td>\n",
       "      <td>-285.836798</td>\n",
       "    </tr>\n",
       "  </tbody>\n",
       "</table>\n",
       "</div>"
      ],
      "text/plain": [
       "          id          0           1           2           3\n",
       "983  3521152 -96.799971 -198.259112 -110.740786 -250.866798\n",
       "937   189347 -96.799971 -314.719112 -110.740786 -352.326798\n",
       "746  3406377 -95.299971 -162.009112 -100.910786 -206.286798\n",
       "751  3413400 -96.799971 -391.929112 -110.740786 -444.536798\n",
       "752  3414094 -75.799971 -249.899112  -89.740786 -285.836798"
      ]
     },
     "execution_count": 67,
     "metadata": {},
     "output_type": "execute_result"
    }
   ],
   "source": [
    "# cs_pipe.fit(X_train)\n",
    "\n",
    "cs_pipe.transform(X_test.drop(columns=f_dt)).head()"
   ]
  },
  {
   "cell_type": "code",
   "execution_count": 68,
   "id": "223c73ae",
   "metadata": {},
   "outputs": [],
   "source": [
    "from sklearn.pipeline import FeatureUnion, make_pipeline\n",
    "from sklearn.preprocessing import StandardScaler, OneHotEncoder"
   ]
  },
  {
   "cell_type": "code",
   "execution_count": 69,
   "id": "306c58c9",
   "metadata": {},
   "outputs": [],
   "source": [
    "f_prep_pipeline = make_pipeline(\n",
    "    ColumnSelector(columns=f_ok),\n",
    "    FeatureUnion(transformer_list=[\n",
    "        (\"numeric_features\", make_pipeline(\n",
    "            ColumnSelector(f_numeric),\n",
    "            SimpleImputer(strategy=\"mean\"),\n",
    "            StandardScaler()\n",
    "        )),\n",
    "        (\"categorical_features\", make_pipeline(\n",
    "            ColumnSelector(f_categorical),\n",
    "            SimpleImputer(strategy=\"most_frequent\"),\n",
    "            OneHotEncoder(handle_unknown='ignore')\n",
    "        )),\n",
    "        (\"boolean_features\", make_pipeline(\n",
    "            ColumnSelector(f_binary),\n",
    "        ))\n",
    "    ])\n",
    ")"
   ]
  },
  {
   "cell_type": "code",
   "execution_count": 70,
   "id": "87154b01",
   "metadata": {},
   "outputs": [
    {
     "data": {
      "text/plain": [
       "264"
      ]
     },
     "execution_count": 70,
     "metadata": {},
     "output_type": "execute_result"
    }
   ],
   "source": [
    "X_test.drop(columns=f_dt).shape[1]"
   ]
  },
  {
   "cell_type": "markdown",
   "id": "d214e3de",
   "metadata": {},
   "source": [
    "<h2>Выбор лучшей модели</h2>"
   ]
  },
  {
   "cell_type": "code",
   "execution_count": 71,
   "id": "a1328936",
   "metadata": {},
   "outputs": [
    {
     "data": {
      "text/plain": [
       "2597"
      ]
     },
     "execution_count": 71,
     "metadata": {},
     "output_type": "execute_result"
    }
   ],
   "source": [
    "f_prep_pipeline.fit(X_train)\n",
    "\n",
    "n_features = f_prep_pipeline.transform(X_test.drop(columns=f_dt)).shape[1]\n",
    "n_features"
   ]
  },
  {
   "cell_type": "code",
   "execution_count": 72,
   "id": "3c077d54",
   "metadata": {},
   "outputs": [],
   "source": [
    "lg_pipe = make_pipeline(\n",
    "    f_prep_pipeline,\n",
    "    LogisticRegression(random_state=RANDOM_STATE)\n",
    ")"
   ]
  },
  {
   "cell_type": "code",
   "execution_count": 73,
   "id": "82651e43",
   "metadata": {},
   "outputs": [],
   "source": [
    "from sklearn.model_selection import GridSearchCV"
   ]
  },
  {
   "cell_type": "code",
   "execution_count": 74,
   "id": "104340f4",
   "metadata": {},
   "outputs": [],
   "source": [
    "def run_grid_search(estimator, X, y, params_grid, cv, scoring='roc_auc'):\n",
    "    gsc = GridSearchCV(estimator, params_grid, scoring=scoring, cv=cv, n_jobs=-1)\n",
    "\n",
    "    gsc.fit(X, y)\n",
    "    print(\"Best %s score: %.2f\" % (scoring, gsc.best_score_))\n",
    "    print()\n",
    "    print(\"Best parameters set found on development set:\")\n",
    "    print()\n",
    "    print(gsc.best_params_)\n",
    "    print()\n",
    "    print(\"Grid scores on development set:\")\n",
    "    print()\n",
    "\n",
    "    for i, params in enumerate(gsc.cv_results_['params']):\n",
    "        print(\"%0.3f (+/-%0.03f) for %r\"\n",
    "              % (gsc.cv_results_['mean_test_score'][i], gsc.cv_results_['std_test_score'][i] * 2, params))\n",
    "\n",
    "    print()\n",
    "    \n",
    "    return gsc"
   ]
  },
  {
   "cell_type": "code",
   "execution_count": 75,
   "id": "c9cf19cf",
   "metadata": {},
   "outputs": [
    {
     "data": {
      "text/plain": [
       "['pipeline__featureunion__numeric_features__simpleimputer',\n",
       " 'pipeline__featureunion__numeric_features__simpleimputer__add_indicator',\n",
       " 'pipeline__featureunion__numeric_features__simpleimputer__copy',\n",
       " 'pipeline__featureunion__numeric_features__simpleimputer__fill_value',\n",
       " 'pipeline__featureunion__numeric_features__simpleimputer__missing_values',\n",
       " 'pipeline__featureunion__numeric_features__simpleimputer__strategy',\n",
       " 'pipeline__featureunion__numeric_features__simpleimputer__verbose',\n",
       " 'pipeline__featureunion__categorical_features__simpleimputer',\n",
       " 'pipeline__featureunion__categorical_features__simpleimputer__add_indicator',\n",
       " 'pipeline__featureunion__categorical_features__simpleimputer__copy',\n",
       " 'pipeline__featureunion__categorical_features__simpleimputer__fill_value',\n",
       " 'pipeline__featureunion__categorical_features__simpleimputer__missing_values',\n",
       " 'pipeline__featureunion__categorical_features__simpleimputer__strategy',\n",
       " 'pipeline__featureunion__categorical_features__simpleimputer__verbose']"
      ]
     },
     "execution_count": 75,
     "metadata": {},
     "output_type": "execute_result"
    }
   ],
   "source": [
    "[k for k in lg_pipe.get_params().keys() if 'imputer' in k]"
   ]
  },
  {
   "cell_type": "code",
   "execution_count": 78,
   "id": "e2163f65",
   "metadata": {},
   "outputs": [
    {
     "name": "stdout",
     "output_type": "stream",
     "text": [
      "Best roc_auc score: 0.89\n",
      "\n",
      "Best parameters set found on development set:\n",
      "\n",
      "{'logisticregression__C': 0.01, 'pipeline__featureunion__categorical_features__simpleimputer__fill_value': -1, 'pipeline__featureunion__categorical_features__simpleimputer__strategy': 'constant'}\n",
      "\n",
      "Grid scores on development set:\n",
      "\n",
      "0.886 (+/-0.004) for {'logisticregression__C': 0.01, 'pipeline__featureunion__categorical_features__simpleimputer__fill_value': -1, 'pipeline__featureunion__categorical_features__simpleimputer__strategy': 'constant'}\n",
      "\n"
     ]
    }
   ],
   "source": [
    "param_grid = {\n",
    "    \"pipeline__featureunion__categorical_features__simpleimputer__strategy\": ['constant'],\n",
    "    \"pipeline__featureunion__categorical_features__simpleimputer__fill_value\": [-1],\n",
    "    \"logisticregression__C\": [0.01]\n",
    "}\n",
    "\n",
    "lg_gsc = run_grid_search(lg_pipe, X_train.drop(columns=f_dt), y_train, param_grid, kfold_cv)"
   ]
  },
  {
   "cell_type": "code",
   "execution_count": 79,
   "id": "20cf697c",
   "metadata": {},
   "outputs": [
    {
     "name": "stdout",
     "output_type": "stream",
     "text": [
      "Best roc_auc score: 0.89\n",
      "\n",
      "Best parameters set found on development set:\n",
      "\n",
      "{'logisticregression__C': 5.0, 'pipeline__featureunion__categorical_features__simpleimputer__fill_value': -1, 'pipeline__featureunion__categorical_features__simpleimputer__strategy': 'constant'}\n",
      "\n",
      "Grid scores on development set:\n",
      "\n",
      "0.886 (+/-0.004) for {'logisticregression__C': 5.0, 'pipeline__featureunion__categorical_features__simpleimputer__fill_value': -1, 'pipeline__featureunion__categorical_features__simpleimputer__strategy': 'constant'}\n",
      "\n"
     ]
    }
   ],
   "source": [
    "param_grid = {\n",
    "    \"pipeline__featureunion__categorical_features__simpleimputer__strategy\": ['constant'],\n",
    "    \"pipeline__featureunion__categorical_features__simpleimputer__fill_value\": [-1],\n",
    "    \"logisticregression__C\": [5.0]\n",
    "}\n",
    "\n",
    "lg_gsc = run_grid_search(lg_pipe, X_train.drop(columns=f_dt), y_train, param_grid, kfold_cv)"
   ]
  },
  {
   "cell_type": "code",
   "execution_count": 76,
   "id": "bd20935f",
   "metadata": {},
   "outputs": [
    {
     "name": "stdout",
     "output_type": "stream",
     "text": [
      "Best roc_auc score: 0.89\n",
      "\n",
      "Best parameters set found on development set:\n",
      "\n",
      "{'pipeline__featureunion__categorical_features__simpleimputer__fill_value': -1, 'pipeline__featureunion__categorical_features__simpleimputer__strategy': 'most_frequent'}\n",
      "\n",
      "Grid scores on development set:\n",
      "\n",
      "0.889 (+/-0.004) for {'pipeline__featureunion__categorical_features__simpleimputer__fill_value': -1, 'pipeline__featureunion__categorical_features__simpleimputer__strategy': 'most_frequent'}\n",
      "0.889 (+/-0.004) for {'pipeline__featureunion__categorical_features__simpleimputer__fill_value': -1, 'pipeline__featureunion__categorical_features__simpleimputer__strategy': 'constant'}\n",
      "\n"
     ]
    }
   ],
   "source": [
    "param_grid = {\n",
    "    \"pipeline__featureunion__categorical_features__simpleimputer__strategy\": ['most_frequent', 'constant'],\n",
    "    \"pipeline__featureunion__categorical_features__simpleimputer__fill_value\": [-1],\n",
    "}\n",
    "\n",
    "lg_gsc = run_grid_search(lg_pipe, X_train.drop(columns=f_dt), y_train, param_grid, kfold_cv)"
   ]
  },
  {
   "cell_type": "code",
   "execution_count": 77,
   "id": "94420076",
   "metadata": {},
   "outputs": [
    {
     "data": {
      "text/plain": [
       "{'pipeline__featureunion__categorical_features__simpleimputer__fill_value': -1,\n",
       " 'pipeline__featureunion__categorical_features__simpleimputer__strategy': 'most_frequent'}"
      ]
     },
     "execution_count": 77,
     "metadata": {},
     "output_type": "execute_result"
    }
   ],
   "source": [
    "lg_gsc.best_params_"
   ]
  },
  {
   "cell_type": "code",
   "execution_count": 78,
   "id": "9377667d",
   "metadata": {},
   "outputs": [],
   "source": [
    "from sklearn.feature_selection import SelectFromModel"
   ]
  },
  {
   "cell_type": "code",
   "execution_count": 79,
   "id": "7cf73003",
   "metadata": {},
   "outputs": [],
   "source": [
    "fs_pipe = make_pipeline(\n",
    "    f_prep_pipeline,\n",
    "    SelectFromModel(LogisticRegression(random_state=RANDOM_STATE), threshold=1e-5),\n",
    ")"
   ]
  },
  {
   "cell_type": "code",
   "execution_count": 80,
   "id": "197afab0",
   "metadata": {},
   "outputs": [
    {
     "data": {
      "text/plain": [
       "(528522, 2597)"
      ]
     },
     "execution_count": 80,
     "metadata": {},
     "output_type": "execute_result"
    }
   ],
   "source": [
    "f_prep_pipeline.fit(X_train.drop(columns=f_dt))\n",
    "f_prep_pipeline.transform(X_test.drop(columns=f_dt)).shape"
   ]
  },
  {
   "cell_type": "code",
   "execution_count": 81,
   "id": "91e2e443",
   "metadata": {},
   "outputs": [
    {
     "data": {
      "text/plain": [
       "(528522, 2593)"
      ]
     },
     "execution_count": 81,
     "metadata": {},
     "output_type": "execute_result"
    }
   ],
   "source": [
    "fs_pipe.fit(X_train.drop(columns=f_dt), y_train)\n",
    "fs_pipe.transform(X_test.drop(columns=f_dt)).shape"
   ]
  },
  {
   "cell_type": "code",
   "execution_count": 82,
   "id": "830d407f",
   "metadata": {},
   "outputs": [],
   "source": [
    "lg_fs_pipe = make_pipeline(\n",
    "    f_prep_pipeline,\n",
    "    SelectFromModel(LogisticRegression(random_state=RANDOM_STATE), threshold=1e-5),\n",
    "    LogisticRegression(random_state=RANDOM_STATE)\n",
    ")"
   ]
  },
  {
   "cell_type": "code",
   "execution_count": null,
   "id": "4bad8261",
   "metadata": {},
   "outputs": [],
   "source": [
    "param_grid = [\n",
    "    {\"selectfrommodel__max_features\": [None, 5], \"selectfrommodel__threshold\": [-np.inf]},\n",
    "    {\"selectfrommodel__threshold\": [1e-5]},\n",
    "]\n",
    "\n",
    "lg_fs_gsc = run_grid_search(lg_fs_pipe, X_train.drop(columns=f_dt), y_train, param_grid, kfold_cv)"
   ]
  },
  {
   "cell_type": "code",
   "execution_count": null,
   "id": "6e5bbf23",
   "metadata": {},
   "outputs": [],
   "source": [
    "param_grid = [\n",
    "    {\"selectfrommodel__max_features\": [10, 50], \"selectfrommodel__threshold\": [-np.inf]},\n",
    "    {\"selectfrommodel__threshold\": [1e-5]},\n",
    "]\n",
    "\n",
    "lg_fs_gsc = run_grid_search(lg_fs_pipe, X_train.drop(columns=f_dt), y_train, param_grid, kfold_cv)"
   ]
  },
  {
   "cell_type": "code",
   "execution_count": 83,
   "id": "52e127bf",
   "metadata": {},
   "outputs": [
    {
     "name": "stdout",
     "output_type": "stream",
     "text": [
      "Best roc_auc score: nan\n",
      "\n",
      "Best parameters set found on development set:\n",
      "\n",
      "{'selectfrommodel__max_features': 100, 'selectfrommodel__threshold': -inf}\n",
      "\n",
      "Grid scores on development set:\n",
      "\n",
      "nan (+/-nan) for {'selectfrommodel__max_features': 100, 'selectfrommodel__threshold': -inf}\n",
      "nan (+/-nan) for {'selectfrommodel__max_features': 150, 'selectfrommodel__threshold': -inf}\n",
      "nan (+/-nan) for {'selectfrommodel__threshold': 1e-05}\n",
      "\n"
     ]
    }
   ],
   "source": [
    "param_grid = [\n",
    "    {\"selectfrommodel__max_features\": [100, 150], \"selectfrommodel__threshold\": [-np.inf]},\n",
    "    {\"selectfrommodel__threshold\": [1e-5]},\n",
    "]\n",
    "\n",
    "lg_fs_gsc = run_grid_search(lg_fs_pipe, X_train.drop(columns=f_dt), y_train, param_grid, kfold_cv)"
   ]
  },
  {
   "cell_type": "code",
   "execution_count": 84,
   "id": "41ba6091",
   "metadata": {},
   "outputs": [],
   "source": [
    "from sklearn.ensemble import GradientBoostingClassifier"
   ]
  },
  {
   "cell_type": "code",
   "execution_count": 85,
   "id": "e8d42c20",
   "metadata": {},
   "outputs": [],
   "source": [
    "gb_fs_pipe = make_pipeline(\n",
    "    f_prep_pipeline,\n",
    "    SelectFromModel(LogisticRegression(random_state=RANDOM_STATE), threshold=1e-5),\n",
    "    GradientBoostingClassifier()\n",
    ")"
   ]
  },
  {
   "cell_type": "code",
   "execution_count": 86,
   "id": "471c4cc0",
   "metadata": {},
   "outputs": [
    {
     "data": {
      "text/plain": [
       "['gradientboostingclassifier',\n",
       " 'gradientboostingclassifier__ccp_alpha',\n",
       " 'gradientboostingclassifier__criterion',\n",
       " 'gradientboostingclassifier__init',\n",
       " 'gradientboostingclassifier__learning_rate',\n",
       " 'gradientboostingclassifier__loss',\n",
       " 'gradientboostingclassifier__max_depth',\n",
       " 'gradientboostingclassifier__max_features',\n",
       " 'gradientboostingclassifier__max_leaf_nodes',\n",
       " 'gradientboostingclassifier__min_impurity_decrease',\n",
       " 'gradientboostingclassifier__min_impurity_split',\n",
       " 'gradientboostingclassifier__min_samples_leaf',\n",
       " 'gradientboostingclassifier__min_samples_split',\n",
       " 'gradientboostingclassifier__min_weight_fraction_leaf',\n",
       " 'gradientboostingclassifier__n_estimators',\n",
       " 'gradientboostingclassifier__n_iter_no_change',\n",
       " 'gradientboostingclassifier__random_state',\n",
       " 'gradientboostingclassifier__subsample',\n",
       " 'gradientboostingclassifier__tol',\n",
       " 'gradientboostingclassifier__validation_fraction',\n",
       " 'gradientboostingclassifier__verbose',\n",
       " 'gradientboostingclassifier__warm_start']"
      ]
     },
     "execution_count": 86,
     "metadata": {},
     "output_type": "execute_result"
    }
   ],
   "source": [
    "[k for k in gb_fs_pipe.get_params().keys() if 'grad' in k]"
   ]
  },
  {
   "cell_type": "code",
   "execution_count": null,
   "id": "f2f2da65",
   "metadata": {},
   "outputs": [],
   "source": [
    "param_grid = {\n",
    "    \"selectfrommodel__threshold\": [1e-05],\n",
    "    \"gradientboostingclassifier__max_depth\": [5],\n",
    "    \"gradientboostingclassifier__n_estimators\": [10, 100]\n",
    "}\n",
    "\n",
    "gb_fs_gsc = run_grid_search(gb_fs_pipe, X_train.drop(columns=f_dt), y_train, param_grid, kfold_cv)"
   ]
  },
  {
   "cell_type": "code",
   "execution_count": null,
   "id": "547580f9",
   "metadata": {},
   "outputs": [],
   "source": [
    "param_grid = {\n",
    "    \"selectfrommodel__threshold\": [1e-05],\n",
    "    \"gradientboostingclassifier__max_depth\": [1],\n",
    "    \"gradientboostingclassifier__n_estimators\": [10, 100]\n",
    "}\n",
    "\n",
    "gb_fs_gsc = run_grid_search(gb_fs_pipe, X_train.drop(columns=f_dt), y_train, param_grid, kfold_cv)"
   ]
  },
  {
   "cell_type": "code",
   "execution_count": null,
   "id": "b910c673",
   "metadata": {},
   "outputs": [],
   "source": [
    "param_grid = {\n",
    "    \"selectfrommodel__threshold\": [-np.inf],\n",
    "    \"gradientboostingclassifier__max_depth\": [5],\n",
    "    \"gradientboostingclassifier__n_estimators\": [10, 100]\n",
    "}\n",
    "\n",
    "gb_fs_gsc = run_grid_search(gb_fs_pipe, X_train.drop(columns=f_dt), y_train, param_grid, kfold_cv)"
   ]
  },
  {
   "cell_type": "code",
   "execution_count": 87,
   "id": "bb685524",
   "metadata": {},
   "outputs": [
    {
     "name": "stdout",
     "output_type": "stream",
     "text": [
      "Best roc_auc score: 0.89\n",
      "\n",
      "Best parameters set found on development set:\n",
      "\n",
      "{'gradientboostingclassifier__max_depth': 1, 'gradientboostingclassifier__n_estimators': 10, 'selectfrommodel__threshold': -inf}\n",
      "\n",
      "Grid scores on development set:\n",
      "\n",
      "0.891 (+/-0.004) for {'gradientboostingclassifier__max_depth': 1, 'gradientboostingclassifier__n_estimators': 10, 'selectfrommodel__threshold': -inf}\n",
      "nan (+/-nan) for {'gradientboostingclassifier__max_depth': 1, 'gradientboostingclassifier__n_estimators': 100, 'selectfrommodel__threshold': -inf}\n",
      "\n"
     ]
    }
   ],
   "source": [
    "param_grid = {\n",
    "    \"selectfrommodel__threshold\": [-np.inf],\n",
    "    \"gradientboostingclassifier__max_depth\": [1],\n",
    "    \"gradientboostingclassifier__n_estimators\": [10, 100]\n",
    "}\n",
    "\n",
    "gb_fs_gsc = run_grid_search(gb_fs_pipe, X_train.drop(columns=f_dt), y_train, param_grid, kfold_cv)"
   ]
  },
  {
   "cell_type": "code",
   "execution_count": 88,
   "id": "207157f2",
   "metadata": {},
   "outputs": [],
   "source": [
    "from sklearn.neural_network import MLPClassifier\n",
    "mlp = MLPClassifier(solver='adam', learning_rate_init=0.1, alpha=0.1,\n",
    "                    activation='tanh', random_state=RANDOM_STATE, max_iter=5,\n",
    "                    hidden_layer_sizes=2, momentum=0)\n",
    "hidden_size = 2\n",
    "# set weights\n",
    "mlp.coefs_ = [0] * 2\n",
    "mlp.intercepts_ = [0] * 2\n",
    "mlp.n_outputs_ = 1\n",
    "mlp.coefs_[0] = np.array([[0.1, 0.2], [0.3, 0.1], [0.5, 0]])\n",
    "mlp.coefs_[1] = np.array([[0.1], [0.2]])\n",
    "mlp.intercepts_[0] = np.array([0.1, 0.1])\n",
    "mlp.intercepts_[1] = np.array([1.0])\n",
    "mlp._coef_grads = [] * 2\n",
    "mlp._intercept_grads = [] * 2\n",
    "\n",
    "# Initialize parameters\n",
    "mlp.n_iter_ = 0\n",
    "mlp.learning_rate_ = 0.1\n",
    "\n",
    "# Compute the number of layers\n",
    "mlp.n_layers_ = 3\n",
    "\n",
    "# Pre-allocate gradient matrices\n",
    "mlp._coef_grads = [0] * (mlp.n_layers_ - 1)\n",
    "mlp._intercept_grads = [0] * (mlp.n_layers_ - 1)\n",
    "\n",
    "mlp.out_activation_ = 'tanh'\n",
    "mlp.t_ = 0\n",
    "mlp.best_loss_ = np.inf\n",
    "mlp.loss_curve_ = []\n",
    "mlp._no_improvement_count = 0\n",
    "mlp._intercept_velocity = [np.zeros_like(intercepts) for\n",
    "                               intercepts in\n",
    "                               mlp.intercepts_]\n",
    "mlp._coef_velocity = [np.zeros_like(coefs) for coefs in\n",
    "                          mlp.coefs_]"
   ]
  },
  {
   "cell_type": "code",
   "execution_count": 89,
   "id": "1cd7bf49",
   "metadata": {},
   "outputs": [],
   "source": [
    "mlpc_pipe = make_pipeline(\n",
    "    f_prep_pipeline,\n",
    "    #mlp\n",
    "    MLPClassifier(solver='lbfgs', hidden_layer_sizes=12,  random_state=RANDOM_STATE, early_stopping=True),\n",
    ")"
   ]
  },
  {
   "cell_type": "code",
   "execution_count": 90,
   "id": "57da6465",
   "metadata": {},
   "outputs": [
    {
     "data": {
      "text/plain": [
       "[]"
      ]
     },
     "execution_count": 90,
     "metadata": {},
     "output_type": "execute_result"
    }
   ],
   "source": [
    "[k for k in mlpc_pipe.get_params().keys() if 'model' in k]"
   ]
  },
  {
   "cell_type": "code",
   "execution_count": 91,
   "id": "7b3a45cb",
   "metadata": {},
   "outputs": [],
   "source": [
    "mlpc_pipe.fit(X_train.drop(columns=f_dt), y_train)\n",
    "mlpc_pred = mlpc_pipe.predict_proba(X_test.drop(columns=f_dt))"
   ]
  },
  {
   "cell_type": "code",
   "execution_count": 92,
   "id": "bb36387b",
   "metadata": {},
   "outputs": [
    {
     "data": {
      "text/plain": [
       "array([0.04438102, 0.04438102, 0.04438102, ..., 0.04438102, 0.04438102,\n",
       "       0.04438102])"
      ]
     },
     "execution_count": 92,
     "metadata": {},
     "output_type": "execute_result"
    }
   ],
   "source": [
    "mlpc_pred[:, 1]"
   ]
  },
  {
   "cell_type": "code",
   "execution_count": 93,
   "id": "f0eb1741",
   "metadata": {},
   "outputs": [
    {
     "name": "stdout",
     "output_type": "stream",
     "text": [
      "              precision    recall  f1-score   support\n",
      "\n",
      "         0.0       0.95      1.00      0.98    504651\n",
      "         1.0       0.11      0.00      0.00     23871\n",
      "\n",
      "    accuracy                           0.95    528522\n",
      "   macro avg       0.53      0.50      0.49    528522\n",
      "weighted avg       0.92      0.95      0.93    528522\n",
      "\n"
     ]
    }
   ],
   "source": [
    "print(classification_report(y_test, mlpc_pred[:,1] > 0.5))"
   ]
  },
  {
   "cell_type": "code",
   "execution_count": 94,
   "id": "14011f4b",
   "metadata": {},
   "outputs": [],
   "source": [
    "from catboost import CatBoostClassifier\n",
    "\n",
    "\n",
    "cb_cl_pipe = make_pipeline(\n",
    "    f_prep_pipeline,\n",
    "    CatBoostClassifier(iterations=300,\n",
    "                       depth=11,\n",
    "                       eval_metric='AUC',\n",
    "                       learning_rate=0.05,\n",
    "                       verbose=True,\n",
    "                       random_state=RANDOM_STATE),\n",
    ")"
   ]
  },
  {
   "cell_type": "code",
   "execution_count": 95,
   "id": "262dbb39",
   "metadata": {},
   "outputs": [
    {
     "name": "stdout",
     "output_type": "stream",
     "text": [
      "0:\ttotal: 1.09s\tremaining: 5m 26s\n",
      "1:\ttotal: 2s\tremaining: 4m 57s\n",
      "2:\ttotal: 2.93s\tremaining: 4m 49s\n",
      "3:\ttotal: 3.85s\tremaining: 4m 44s\n",
      "4:\ttotal: 4.81s\tremaining: 4m 43s\n",
      "5:\ttotal: 5.75s\tremaining: 4m 41s\n",
      "6:\ttotal: 6.67s\tremaining: 4m 39s\n",
      "7:\ttotal: 7.63s\tremaining: 4m 38s\n",
      "8:\ttotal: 8.57s\tremaining: 4m 37s\n",
      "9:\ttotal: 9.62s\tremaining: 4m 38s\n",
      "10:\ttotal: 10.6s\tremaining: 4m 37s\n",
      "11:\ttotal: 11.5s\tremaining: 4m 36s\n",
      "12:\ttotal: 12.5s\tremaining: 4m 35s\n",
      "13:\ttotal: 13.4s\tremaining: 4m 34s\n",
      "14:\ttotal: 14.4s\tremaining: 4m 33s\n",
      "15:\ttotal: 15.3s\tremaining: 4m 31s\n",
      "16:\ttotal: 16.3s\tremaining: 4m 31s\n",
      "17:\ttotal: 16.9s\tremaining: 4m 25s\n",
      "18:\ttotal: 17.9s\tremaining: 4m 24s\n",
      "19:\ttotal: 18.9s\tremaining: 4m 24s\n",
      "20:\ttotal: 19.9s\tremaining: 4m 23s\n",
      "21:\ttotal: 20.8s\tremaining: 4m 23s\n",
      "22:\ttotal: 21.8s\tremaining: 4m 22s\n",
      "23:\ttotal: 22.8s\tremaining: 4m 21s\n",
      "24:\ttotal: 23.8s\tremaining: 4m 22s\n",
      "25:\ttotal: 24.9s\tremaining: 4m 22s\n",
      "26:\ttotal: 26s\tremaining: 4m 22s\n",
      "27:\ttotal: 27.1s\tremaining: 4m 22s\n",
      "28:\ttotal: 28.1s\tremaining: 4m 22s\n",
      "29:\ttotal: 29.1s\tremaining: 4m 22s\n",
      "30:\ttotal: 30.2s\tremaining: 4m 21s\n",
      "31:\ttotal: 31.2s\tremaining: 4m 20s\n",
      "32:\ttotal: 32.2s\tremaining: 4m 20s\n",
      "33:\ttotal: 33.2s\tremaining: 4m 19s\n",
      "34:\ttotal: 34.2s\tremaining: 4m 18s\n",
      "35:\ttotal: 35.2s\tremaining: 4m 18s\n",
      "36:\ttotal: 36.2s\tremaining: 4m 17s\n",
      "37:\ttotal: 37.2s\tremaining: 4m 16s\n",
      "38:\ttotal: 38.1s\tremaining: 4m 15s\n",
      "39:\ttotal: 39.2s\tremaining: 4m 14s\n",
      "40:\ttotal: 40.2s\tremaining: 4m 13s\n",
      "41:\ttotal: 41.2s\tremaining: 4m 12s\n",
      "42:\ttotal: 42.2s\tremaining: 4m 11s\n",
      "43:\ttotal: 43.1s\tremaining: 4m 11s\n",
      "44:\ttotal: 44.2s\tremaining: 4m 10s\n",
      "45:\ttotal: 45.2s\tremaining: 4m 9s\n",
      "46:\ttotal: 46.2s\tremaining: 4m 8s\n",
      "47:\ttotal: 47.2s\tremaining: 4m 7s\n",
      "48:\ttotal: 48.2s\tremaining: 4m 6s\n",
      "49:\ttotal: 49.2s\tremaining: 4m 6s\n",
      "50:\ttotal: 50.3s\tremaining: 4m 5s\n",
      "51:\ttotal: 51.2s\tremaining: 4m 4s\n",
      "52:\ttotal: 52.2s\tremaining: 4m 3s\n",
      "53:\ttotal: 53.2s\tremaining: 4m 2s\n",
      "54:\ttotal: 54.2s\tremaining: 4m 1s\n",
      "55:\ttotal: 55.2s\tremaining: 4m\n",
      "56:\ttotal: 56.1s\tremaining: 3m 59s\n",
      "57:\ttotal: 57.1s\tremaining: 3m 58s\n",
      "58:\ttotal: 58.1s\tremaining: 3m 57s\n",
      "59:\ttotal: 59.1s\tremaining: 3m 56s\n",
      "60:\ttotal: 1m\tremaining: 3m 56s\n",
      "61:\ttotal: 1m 1s\tremaining: 3m 55s\n",
      "62:\ttotal: 1m 2s\tremaining: 3m 54s\n",
      "63:\ttotal: 1m 3s\tremaining: 3m 53s\n",
      "64:\ttotal: 1m 4s\tremaining: 3m 52s\n",
      "65:\ttotal: 1m 5s\tremaining: 3m 51s\n",
      "66:\ttotal: 1m 6s\tremaining: 3m 50s\n",
      "67:\ttotal: 1m 7s\tremaining: 3m 49s\n",
      "68:\ttotal: 1m 8s\tremaining: 3m 48s\n",
      "69:\ttotal: 1m 9s\tremaining: 3m 47s\n",
      "70:\ttotal: 1m 10s\tremaining: 3m 46s\n",
      "71:\ttotal: 1m 11s\tremaining: 3m 46s\n",
      "72:\ttotal: 1m 12s\tremaining: 3m 45s\n",
      "73:\ttotal: 1m 13s\tremaining: 3m 44s\n",
      "74:\ttotal: 1m 14s\tremaining: 3m 43s\n",
      "75:\ttotal: 1m 15s\tremaining: 3m 42s\n",
      "76:\ttotal: 1m 16s\tremaining: 3m 41s\n",
      "77:\ttotal: 1m 17s\tremaining: 3m 41s\n",
      "78:\ttotal: 1m 18s\tremaining: 3m 40s\n",
      "79:\ttotal: 1m 19s\tremaining: 3m 39s\n",
      "80:\ttotal: 1m 20s\tremaining: 3m 38s\n",
      "81:\ttotal: 1m 21s\tremaining: 3m 37s\n",
      "82:\ttotal: 1m 22s\tremaining: 3m 36s\n",
      "83:\ttotal: 1m 23s\tremaining: 3m 35s\n",
      "84:\ttotal: 1m 24s\tremaining: 3m 34s\n",
      "85:\ttotal: 1m 25s\tremaining: 3m 33s\n",
      "86:\ttotal: 1m 26s\tremaining: 3m 32s\n",
      "87:\ttotal: 1m 27s\tremaining: 3m 31s\n",
      "88:\ttotal: 1m 28s\tremaining: 3m 30s\n",
      "89:\ttotal: 1m 29s\tremaining: 3m 29s\n",
      "90:\ttotal: 1m 30s\tremaining: 3m 28s\n",
      "91:\ttotal: 1m 32s\tremaining: 3m 28s\n",
      "92:\ttotal: 1m 33s\tremaining: 3m 28s\n",
      "93:\ttotal: 1m 34s\tremaining: 3m 26s\n",
      "94:\ttotal: 1m 35s\tremaining: 3m 26s\n",
      "95:\ttotal: 1m 36s\tremaining: 3m 26s\n",
      "96:\ttotal: 1m 38s\tremaining: 3m 25s\n",
      "97:\ttotal: 1m 39s\tremaining: 3m 25s\n",
      "98:\ttotal: 1m 40s\tremaining: 3m 24s\n",
      "99:\ttotal: 1m 42s\tremaining: 3m 24s\n",
      "100:\ttotal: 1m 43s\tremaining: 3m 23s\n",
      "101:\ttotal: 1m 44s\tremaining: 3m 22s\n",
      "102:\ttotal: 1m 45s\tremaining: 3m 21s\n",
      "103:\ttotal: 1m 46s\tremaining: 3m 20s\n",
      "104:\ttotal: 1m 47s\tremaining: 3m 19s\n",
      "105:\ttotal: 1m 49s\tremaining: 3m 19s\n",
      "106:\ttotal: 1m 50s\tremaining: 3m 18s\n",
      "107:\ttotal: 1m 51s\tremaining: 3m 17s\n",
      "108:\ttotal: 1m 52s\tremaining: 3m 16s\n",
      "109:\ttotal: 1m 53s\tremaining: 3m 15s\n",
      "110:\ttotal: 1m 54s\tremaining: 3m 15s\n",
      "111:\ttotal: 1m 55s\tremaining: 3m 14s\n",
      "112:\ttotal: 1m 56s\tremaining: 3m 13s\n",
      "113:\ttotal: 1m 57s\tremaining: 3m 11s\n",
      "114:\ttotal: 1m 58s\tremaining: 3m 10s\n",
      "115:\ttotal: 1m 59s\tremaining: 3m 9s\n",
      "116:\ttotal: 2m\tremaining: 3m 8s\n",
      "117:\ttotal: 2m 1s\tremaining: 3m 7s\n",
      "118:\ttotal: 2m 2s\tremaining: 3m 6s\n",
      "119:\ttotal: 2m 3s\tremaining: 3m 5s\n",
      "120:\ttotal: 2m 4s\tremaining: 3m 4s\n",
      "121:\ttotal: 2m 5s\tremaining: 3m 3s\n",
      "122:\ttotal: 2m 6s\tremaining: 3m 2s\n",
      "123:\ttotal: 2m 7s\tremaining: 3m 1s\n",
      "124:\ttotal: 2m 9s\tremaining: 3m\n",
      "125:\ttotal: 2m 10s\tremaining: 2m 59s\n",
      "126:\ttotal: 2m 11s\tremaining: 2m 58s\n",
      "127:\ttotal: 2m 12s\tremaining: 2m 57s\n",
      "128:\ttotal: 2m 13s\tremaining: 2m 56s\n",
      "129:\ttotal: 2m 14s\tremaining: 2m 55s\n",
      "130:\ttotal: 2m 15s\tremaining: 2m 54s\n",
      "131:\ttotal: 2m 16s\tremaining: 2m 53s\n",
      "132:\ttotal: 2m 16s\tremaining: 2m 51s\n",
      "133:\ttotal: 2m 17s\tremaining: 2m 50s\n",
      "134:\ttotal: 2m 18s\tremaining: 2m 49s\n",
      "135:\ttotal: 2m 19s\tremaining: 2m 48s\n",
      "136:\ttotal: 2m 20s\tremaining: 2m 47s\n",
      "137:\ttotal: 2m 21s\tremaining: 2m 46s\n",
      "138:\ttotal: 2m 22s\tremaining: 2m 45s\n",
      "139:\ttotal: 2m 23s\tremaining: 2m 44s\n",
      "140:\ttotal: 2m 24s\tremaining: 2m 43s\n",
      "141:\ttotal: 2m 25s\tremaining: 2m 41s\n",
      "142:\ttotal: 2m 26s\tremaining: 2m 40s\n",
      "143:\ttotal: 2m 27s\tremaining: 2m 39s\n",
      "144:\ttotal: 2m 28s\tremaining: 2m 38s\n",
      "145:\ttotal: 2m 29s\tremaining: 2m 37s\n",
      "146:\ttotal: 2m 30s\tremaining: 2m 36s\n",
      "147:\ttotal: 2m 31s\tremaining: 2m 35s\n",
      "148:\ttotal: 2m 32s\tremaining: 2m 34s\n",
      "149:\ttotal: 2m 33s\tremaining: 2m 33s\n",
      "150:\ttotal: 2m 34s\tremaining: 2m 32s\n",
      "151:\ttotal: 2m 35s\tremaining: 2m 31s\n",
      "152:\ttotal: 2m 36s\tremaining: 2m 30s\n",
      "153:\ttotal: 2m 37s\tremaining: 2m 29s\n",
      "154:\ttotal: 2m 38s\tremaining: 2m 28s\n",
      "155:\ttotal: 2m 39s\tremaining: 2m 27s\n",
      "156:\ttotal: 2m 40s\tremaining: 2m 26s\n",
      "157:\ttotal: 2m 41s\tremaining: 2m 25s\n",
      "158:\ttotal: 2m 42s\tremaining: 2m 24s\n",
      "159:\ttotal: 2m 43s\tremaining: 2m 23s\n",
      "160:\ttotal: 2m 44s\tremaining: 2m 22s\n",
      "161:\ttotal: 2m 45s\tremaining: 2m 21s\n",
      "162:\ttotal: 2m 46s\tremaining: 2m 20s\n",
      "163:\ttotal: 2m 47s\tremaining: 2m 19s\n",
      "164:\ttotal: 2m 48s\tremaining: 2m 18s\n",
      "165:\ttotal: 2m 49s\tremaining: 2m 17s\n",
      "166:\ttotal: 2m 50s\tremaining: 2m 16s\n",
      "167:\ttotal: 2m 51s\tremaining: 2m 15s\n",
      "168:\ttotal: 2m 52s\tremaining: 2m 14s\n",
      "169:\ttotal: 2m 53s\tremaining: 2m 12s\n",
      "170:\ttotal: 2m 54s\tremaining: 2m 11s\n",
      "171:\ttotal: 2m 55s\tremaining: 2m 10s\n",
      "172:\ttotal: 2m 56s\tremaining: 2m 9s\n",
      "173:\ttotal: 2m 57s\tremaining: 2m 8s\n",
      "174:\ttotal: 2m 58s\tremaining: 2m 7s\n",
      "175:\ttotal: 2m 59s\tremaining: 2m 6s\n",
      "176:\ttotal: 3m\tremaining: 2m 5s\n",
      "177:\ttotal: 3m 1s\tremaining: 2m 4s\n",
      "178:\ttotal: 3m 2s\tremaining: 2m 3s\n",
      "179:\ttotal: 3m 3s\tremaining: 2m 2s\n",
      "180:\ttotal: 3m 4s\tremaining: 2m 1s\n",
      "181:\ttotal: 3m 5s\tremaining: 2m\n",
      "182:\ttotal: 3m 6s\tremaining: 1m 59s\n",
      "183:\ttotal: 3m 8s\tremaining: 1m 58s\n",
      "184:\ttotal: 3m 9s\tremaining: 1m 57s\n",
      "185:\ttotal: 3m 10s\tremaining: 1m 56s\n",
      "186:\ttotal: 3m 11s\tremaining: 1m 55s\n",
      "187:\ttotal: 3m 12s\tremaining: 1m 54s\n",
      "188:\ttotal: 3m 13s\tremaining: 1m 53s\n",
      "189:\ttotal: 3m 14s\tremaining: 1m 52s\n",
      "190:\ttotal: 3m 15s\tremaining: 1m 51s\n",
      "191:\ttotal: 3m 16s\tremaining: 1m 50s\n",
      "192:\ttotal: 3m 17s\tremaining: 1m 49s\n",
      "193:\ttotal: 3m 18s\tremaining: 1m 48s\n",
      "194:\ttotal: 3m 19s\tremaining: 1m 47s\n",
      "195:\ttotal: 3m 20s\tremaining: 1m 46s\n",
      "196:\ttotal: 3m 21s\tremaining: 1m 45s\n",
      "197:\ttotal: 3m 22s\tremaining: 1m 44s\n",
      "198:\ttotal: 3m 23s\tremaining: 1m 43s\n",
      "199:\ttotal: 3m 24s\tremaining: 1m 42s\n",
      "200:\ttotal: 3m 25s\tremaining: 1m 41s\n",
      "201:\ttotal: 3m 26s\tremaining: 1m 40s\n",
      "202:\ttotal: 3m 27s\tremaining: 1m 39s\n",
      "203:\ttotal: 3m 28s\tremaining: 1m 38s\n",
      "204:\ttotal: 3m 29s\tremaining: 1m 37s\n",
      "205:\ttotal: 3m 30s\tremaining: 1m 35s\n",
      "206:\ttotal: 3m 31s\tremaining: 1m 34s\n",
      "207:\ttotal: 3m 32s\tremaining: 1m 33s\n",
      "208:\ttotal: 3m 33s\tremaining: 1m 32s\n",
      "209:\ttotal: 3m 34s\tremaining: 1m 31s\n",
      "210:\ttotal: 3m 35s\tremaining: 1m 30s\n",
      "211:\ttotal: 3m 36s\tremaining: 1m 29s\n",
      "212:\ttotal: 3m 37s\tremaining: 1m 28s\n",
      "213:\ttotal: 3m 38s\tremaining: 1m 27s\n",
      "214:\ttotal: 3m 39s\tremaining: 1m 26s\n",
      "215:\ttotal: 3m 40s\tremaining: 1m 25s\n",
      "216:\ttotal: 3m 41s\tremaining: 1m 24s\n",
      "217:\ttotal: 3m 42s\tremaining: 1m 23s\n",
      "218:\ttotal: 3m 43s\tremaining: 1m 22s\n",
      "219:\ttotal: 3m 44s\tremaining: 1m 21s\n",
      "220:\ttotal: 3m 45s\tremaining: 1m 20s\n",
      "221:\ttotal: 3m 46s\tremaining: 1m 19s\n",
      "222:\ttotal: 3m 47s\tremaining: 1m 18s\n",
      "223:\ttotal: 3m 48s\tremaining: 1m 17s\n",
      "224:\ttotal: 3m 49s\tremaining: 1m 16s\n",
      "225:\ttotal: 3m 50s\tremaining: 1m 15s\n",
      "226:\ttotal: 3m 51s\tremaining: 1m 14s\n",
      "227:\ttotal: 3m 53s\tremaining: 1m 13s\n",
      "228:\ttotal: 3m 54s\tremaining: 1m 12s\n"
     ]
    },
    {
     "name": "stdout",
     "output_type": "stream",
     "text": [
      "229:\ttotal: 3m 55s\tremaining: 1m 11s\n",
      "230:\ttotal: 3m 55s\tremaining: 1m 10s\n",
      "231:\ttotal: 3m 56s\tremaining: 1m 9s\n",
      "232:\ttotal: 3m 57s\tremaining: 1m 8s\n",
      "233:\ttotal: 3m 58s\tremaining: 1m 7s\n",
      "234:\ttotal: 4m\tremaining: 1m 6s\n",
      "235:\ttotal: 4m 1s\tremaining: 1m 5s\n",
      "236:\ttotal: 4m 2s\tremaining: 1m 4s\n",
      "237:\ttotal: 4m 3s\tremaining: 1m 3s\n",
      "238:\ttotal: 4m 4s\tremaining: 1m 2s\n",
      "239:\ttotal: 4m 5s\tremaining: 1m 1s\n",
      "240:\ttotal: 4m 6s\tremaining: 1m\n",
      "241:\ttotal: 4m 7s\tremaining: 59.2s\n",
      "242:\ttotal: 4m 7s\tremaining: 58.2s\n",
      "243:\ttotal: 4m 8s\tremaining: 57.1s\n",
      "244:\ttotal: 4m 9s\tremaining: 56.1s\n",
      "245:\ttotal: 4m 10s\tremaining: 55.1s\n",
      "246:\ttotal: 4m 11s\tremaining: 54s\n",
      "247:\ttotal: 4m 12s\tremaining: 53s\n",
      "248:\ttotal: 4m 13s\tremaining: 52s\n",
      "249:\ttotal: 4m 14s\tremaining: 51s\n",
      "250:\ttotal: 4m 15s\tremaining: 49.9s\n",
      "251:\ttotal: 4m 16s\tremaining: 48.9s\n",
      "252:\ttotal: 4m 17s\tremaining: 47.9s\n",
      "253:\ttotal: 4m 18s\tremaining: 46.8s\n",
      "254:\ttotal: 4m 19s\tremaining: 45.8s\n",
      "255:\ttotal: 4m 20s\tremaining: 44.8s\n",
      "256:\ttotal: 4m 21s\tremaining: 43.8s\n",
      "257:\ttotal: 4m 22s\tremaining: 42.8s\n",
      "258:\ttotal: 4m 23s\tremaining: 41.8s\n",
      "259:\ttotal: 4m 24s\tremaining: 40.7s\n",
      "260:\ttotal: 4m 25s\tremaining: 39.7s\n",
      "261:\ttotal: 4m 26s\tremaining: 38.7s\n",
      "262:\ttotal: 4m 27s\tremaining: 37.7s\n",
      "263:\ttotal: 4m 28s\tremaining: 36.6s\n",
      "264:\ttotal: 4m 29s\tremaining: 35.6s\n",
      "265:\ttotal: 4m 30s\tremaining: 34.6s\n",
      "266:\ttotal: 4m 31s\tremaining: 33.6s\n",
      "267:\ttotal: 4m 32s\tremaining: 32.6s\n",
      "268:\ttotal: 4m 33s\tremaining: 31.5s\n",
      "269:\ttotal: 4m 34s\tremaining: 30.5s\n",
      "270:\ttotal: 4m 35s\tremaining: 29.5s\n",
      "271:\ttotal: 4m 36s\tremaining: 28.5s\n",
      "272:\ttotal: 4m 37s\tremaining: 27.5s\n",
      "273:\ttotal: 4m 38s\tremaining: 26.5s\n",
      "274:\ttotal: 4m 39s\tremaining: 25.4s\n",
      "275:\ttotal: 4m 40s\tremaining: 24.4s\n",
      "276:\ttotal: 4m 41s\tremaining: 23.4s\n",
      "277:\ttotal: 4m 42s\tremaining: 22.4s\n",
      "278:\ttotal: 4m 43s\tremaining: 21.4s\n",
      "279:\ttotal: 4m 44s\tremaining: 20.3s\n",
      "280:\ttotal: 4m 45s\tremaining: 19.3s\n",
      "281:\ttotal: 4m 46s\tremaining: 18.3s\n",
      "282:\ttotal: 4m 47s\tremaining: 17.3s\n",
      "283:\ttotal: 4m 48s\tremaining: 16.3s\n",
      "284:\ttotal: 4m 49s\tremaining: 15.2s\n",
      "285:\ttotal: 4m 50s\tremaining: 14.2s\n",
      "286:\ttotal: 4m 51s\tremaining: 13.2s\n",
      "287:\ttotal: 4m 52s\tremaining: 12.2s\n",
      "288:\ttotal: 4m 53s\tremaining: 11.2s\n",
      "289:\ttotal: 4m 54s\tremaining: 10.2s\n",
      "290:\ttotal: 4m 55s\tremaining: 9.14s\n",
      "291:\ttotal: 4m 56s\tremaining: 8.13s\n",
      "292:\ttotal: 4m 57s\tremaining: 7.11s\n",
      "293:\ttotal: 4m 58s\tremaining: 6.1s\n",
      "294:\ttotal: 4m 59s\tremaining: 5.08s\n",
      "295:\ttotal: 5m\tremaining: 4.07s\n",
      "296:\ttotal: 5m 1s\tremaining: 3.05s\n",
      "297:\ttotal: 5m 2s\tremaining: 2.03s\n",
      "298:\ttotal: 5m 3s\tremaining: 1.02s\n",
      "299:\ttotal: 5m 4s\tremaining: 0us\n"
     ]
    }
   ],
   "source": [
    "cb_cl_pipe.fit(X_train.drop(columns=f_dt), y_train)\n",
    "cb_cl_pred = cb_cl_pipe.predict_proba(X_test.drop(columns=f_dt))"
   ]
  },
  {
   "cell_type": "code",
   "execution_count": 96,
   "id": "9088427e",
   "metadata": {},
   "outputs": [
    {
     "data": {
      "text/plain": [
       "array([0.00429731, 0.0088051 , 0.00491497, ..., 0.00707481, 0.00583847,\n",
       "       0.00703827])"
      ]
     },
     "execution_count": 96,
     "metadata": {},
     "output_type": "execute_result"
    }
   ],
   "source": [
    "cb_cl_pred[:,1]"
   ]
  },
  {
   "cell_type": "code",
   "execution_count": 97,
   "id": "de1e73b8",
   "metadata": {},
   "outputs": [
    {
     "name": "stdout",
     "output_type": "stream",
     "text": [
      "              precision    recall  f1-score   support\n",
      "\n",
      "         0.0       0.95      1.00      0.98    504651\n",
      "         1.0       0.38      0.00      0.00     23871\n",
      "\n",
      "    accuracy                           0.95    528522\n",
      "   macro avg       0.67      0.50      0.49    528522\n",
      "weighted avg       0.93      0.95      0.93    528522\n",
      "\n"
     ]
    }
   ],
   "source": [
    "print(classification_report(y_test, cb_cl_pred[:,1] > 0.5))"
   ]
  },
  {
   "cell_type": "code",
   "execution_count": 98,
   "id": "bda1ce2a",
   "metadata": {},
   "outputs": [
    {
     "data": {
      "text/plain": [
       "[]"
      ]
     },
     "execution_count": 98,
     "metadata": {},
     "output_type": "execute_result"
    }
   ],
   "source": [
    "[k for k in cb_cl_pipe.get_params().keys() if 'model' in k]"
   ]
  },
  {
   "cell_type": "code",
   "execution_count": 99,
   "id": "3f41a835",
   "metadata": {},
   "outputs": [],
   "source": [
    "lg_fs_pipe_final = lg_fs_gsc.best_estimator_\n",
    "lg_fs_pipe_final.fit(X_train.drop(columns=f_dt), y_train)\n",
    "lg_fs_pred = lg_fs_pipe_final.predict_proba(X_test.drop(columns=f_dt))[:,1]"
   ]
  },
  {
   "cell_type": "code",
   "execution_count": 100,
   "id": "1b09df6b",
   "metadata": {},
   "outputs": [
    {
     "name": "stdout",
     "output_type": "stream",
     "text": [
      "              precision    recall  f1-score   support\n",
      "\n",
      "         0.0       0.95      1.00      0.98    504651\n",
      "         1.0       0.27      0.00      0.00     23871\n",
      "\n",
      "    accuracy                           0.95    528522\n",
      "   macro avg       0.61      0.50      0.49    528522\n",
      "weighted avg       0.92      0.95      0.93    528522\n",
      "\n"
     ]
    }
   ],
   "source": [
    "print(classification_report(y_test, lg_fs_pred > 0.5))"
   ]
  },
  {
   "cell_type": "code",
   "execution_count": 101,
   "id": "7beb21a1",
   "metadata": {},
   "outputs": [],
   "source": [
    "gb_fs_pipe_final = gb_fs_gsc.best_estimator_\n",
    "gb_fs_pipe_final.fit(X_train, y_train)\n",
    "gb_fs_pred = gb_fs_pipe_final.predict_proba(X_test)[:,1]"
   ]
  },
  {
   "cell_type": "code",
   "execution_count": 102,
   "id": "37ef4d48",
   "metadata": {},
   "outputs": [
    {
     "name": "stdout",
     "output_type": "stream",
     "text": [
      "              precision    recall  f1-score   support\n",
      "\n",
      "         0.0       0.95      1.00      0.98    504651\n",
      "         1.0       0.00      0.00      0.00     23871\n",
      "\n",
      "    accuracy                           0.95    528522\n",
      "   macro avg       0.48      0.50      0.49    528522\n",
      "weighted avg       0.91      0.95      0.93    528522\n",
      "\n"
     ]
    }
   ],
   "source": [
    "print(classification_report(y_test, gb_fs_pred > 0.5))"
   ]
  },
  {
   "cell_type": "code",
   "execution_count": 103,
   "id": "7461f153",
   "metadata": {},
   "outputs": [],
   "source": [
    "models = [ \n",
    "    [\"Baseline\", y_test, bl_y_pred, bl_estimator, 'red'],\n",
    "    [\"lg_fs_pred\", y_test, lg_fs_pred, lg_fs_pipe_final, 'green'],\n",
    "    [\"gb_fs_pred\", y_test, gb_fs_pred, gb_fs_pipe_final, 'purple'],\n",
    "    [\"cb_cl_pred\", y_test, cb_cl_pred[:, 1], cb_cl_pipe, 'blue'],\n",
    "    [\"mlpc_pred\", y_test, mlpc_pred[:, 1], mlpc_pipe, 'black'],\n",
    "]"
   ]
  },
  {
   "cell_type": "code",
   "execution_count": 104,
   "id": "adc00820",
   "metadata": {},
   "outputs": [
    {
     "name": "stdout",
     "output_type": "stream",
     "text": [
      "Baseline: AUC_PR = 0.046\n",
      "Baseline: AUC_ROC = 0.506\n",
      "lg_fs_pred: AUC_PR = 0.310\n",
      "lg_fs_pred: AUC_ROC = 0.892\n",
      "gb_fs_pred: AUC_PR = 0.488\n",
      "gb_fs_pred: AUC_ROC = 0.889\n",
      "cb_cl_pred: AUC_PR = 0.311\n",
      "cb_cl_pred: AUC_ROC = 0.890\n",
      "mlpc_pred: AUC_PR = 0.054\n",
      "mlpc_pred: AUC_ROC = 0.500\n"
     ]
    },
    {
     "data": {
      "image/png": "[encoded data removed]",
      "text/plain": [
       "<Figure size 864x1728 with 2 Axes>"
      ]
     },
     "metadata": {
      "needs_background": "light"
     },
     "output_type": "display_data"
    }
   ],
   "source": [
    "f, (ax1, ax2) = plt.subplots(1, 2, sharey=True)\n",
    "\n",
    "f.set_figheight(24)\n",
    "f.set_figwidth(12)\n",
    "\n",
    "ax1 = plt.subplot(211)\n",
    "ax1.set_title('ROC')\n",
    "ax1.set_xlabel('TPR')\n",
    "ax1.set_ylabel('FPR')\n",
    "\n",
    "\n",
    "ax2 = plt.subplot(212)\n",
    "ax2.set_title('PR')\n",
    "ax2.set_xlabel('Recall')\n",
    "ax2.set_ylabel('Precision')\n",
    "\n",
    "ax1.plot([0, 1], [0, 1], 'k--')\n",
    "for m in models:\n",
    "    fpr, tpr, roc_thresholds = roc_curve(m[1], m[2])\n",
    "    precision, recall, pr_thresholds = precision_recall_curve(m[1], m[2])\n",
    "    ax1.plot(fpr, tpr, label=m[0], color=m[4])\n",
    "    ax2.plot(recall, precision, label=m[0], color=m[4])\n",
    "    print(f\"{m[0]}: AUC_PR = %.3f\" % auc(recall, precision))\n",
    "    print(f\"{m[0]}: AUC_ROC = %.3f\" % auc(fpr, tpr))\n",
    "    ax1.legend(loc=\"lower right\")\n",
    "    ax2.legend(loc=\"lower right\")\n",
    "plt.savefig('allmodel_roc_auc.png')"
   ]
  },
  {
   "cell_type": "code",
   "execution_count": 105,
   "id": "2623e02d",
   "metadata": {},
   "outputs": [
    {
     "name": "stdout",
     "output_type": "stream",
     "text": [
      "Baseline\n",
      "macro avg precision = 0.49 \n",
      "Confusion matrix, without normalization\n",
      "[[443978  60673]\n",
      " [ 20911   2960]]\n",
      "\n",
      "lg_fs_pred\n",
      "macro avg precision = 0.70 \n",
      "Confusion matrix, without normalization\n",
      "[[483865  20786]\n",
      " [ 11590  12281]]\n",
      "\n",
      "gb_fs_pred\n",
      "macro avg precision = 0.49 \n",
      "Confusion matrix, without normalization\n",
      "[[504651      0]\n",
      " [ 23871      0]]\n",
      "\n",
      "cb_cl_pred\n",
      "macro avg precision = 0.70 \n",
      "Confusion matrix, without normalization\n",
      "[[484238  20413]\n",
      " [ 11796  12075]]\n",
      "\n",
      "mlpc_pred\n",
      "macro avg precision = 0.49 \n",
      "Confusion matrix, without normalization\n",
      "[[504643      8]\n",
      " [ 23870      1]]\n",
      "\n"
     ]
    },
    {
     "data": {
      "image/png": "[encoded data removed]",
      "text/plain": [
       "<Figure size 432x288 with 1 Axes>"
      ]
     },
     "metadata": {
      "needs_background": "light"
     },
     "output_type": "display_data"
    }
   ],
   "source": [
    "from sklearn.metrics import f1_score\n",
    "\n",
    "for m in models:\n",
    "    print(m[0])\n",
    "    f1_ = f1_score(m[1], m[2] > 0.3, average='macro')\n",
    "    print(\"macro avg precision = %.2f \"  % float(f1_))\n",
    "    cm = confusion_matrix(y_test, m[2] > 0.3)\n",
    "    plot_confusion_matrix(cm, classes=[\"0\", \"1\"], model_name=m[0])\n",
    "    print()"
   ]
  },
  {
   "cell_type": "code",
   "execution_count": 108,
   "id": "dc385f0f",
   "metadata": {},
   "outputs": [],
   "source": [
    "#cb_cl_pred.plot_tree(tree_idx=0)"
   ]
  },
  {
   "cell_type": "code",
   "execution_count": 109,
   "id": "fec619fe",
   "metadata": {},
   "outputs": [],
   "source": [
    "import pickle"
   ]
  },
  {
   "cell_type": "code",
   "execution_count": 110,
   "id": "815af912",
   "metadata": {},
   "outputs": [
    {
     "data": {
      "text/plain": [
       "array([0., 0., 0., ..., 0., 0., 0.])"
      ]
     },
     "execution_count": 110,
     "metadata": {},
     "output_type": "execute_result"
    }
   ],
   "source": [
    "gb_fs_pipe_final.predict(test)"
   ]
  },
  {
   "cell_type": "code",
   "execution_count": null,
   "id": "f10e0ea3",
   "metadata": {},
   "outputs": [],
   "source": []
  },
  {
   "cell_type": "code",
   "execution_count": 128,
   "id": "bbb6fb32",
   "metadata": {},
   "outputs": [],
   "source": [
    "class Model:\n",
    "    def init(self, model):\n",
    "        self.model = model\n",
    "        \n",
    "    def fit(self):\n",
    "        self.model = pickle.load(open('fin_model.pkl', 'rb'))\n",
    "        pred = (self.model.predict_proba(test.drop(columns=['buy_time']))[:, 1] > 0.3).astype('int32')        \n",
    "        test['target'] = pred\n",
    "        print(test.columns)\n",
    "        test[['id', 'buy_time', 'vas_id', 'target']].to_csv(\"answers_test.csv\")\n",
    "        \n",
    "    def save(self):\n",
    "        pickle.dump(self.model, open('fin_model.pkl', 'wb'))"
   ]
  },
  {
   "cell_type": "code",
   "execution_count": 129,
   "id": "c0efb693",
   "metadata": {},
   "outputs": [],
   "source": [
    "md = Model()\n",
    "md.init(cb_cl_pipe)\n",
    "md.save()"
   ]
  },
  {
   "cell_type": "markdown",
   "id": "50561c1d",
   "metadata": {},
   "source": [
    "<h2>Предсказание</h2>"
   ]
  },
  {
   "cell_type": "code",
   "execution_count": 130,
   "id": "9a2c561c",
   "metadata": {},
   "outputs": [
    {
     "name": "stdout",
     "output_type": "stream",
     "text": [
      "Index(['id', 'buy_time', '0', '1', '2', '3', '4', '5', '6', '7',\n",
      "       ...\n",
      "       'days', 'day_week', 'day_year', 'day_month', 'weeks_on', 'week_year',\n",
      "       'months', 'quartal', 'years', 'target'],\n",
      "      dtype='object', length=266)\n"
     ]
    }
   ],
   "source": [
    "md.fit()"
   ]
  },
  {
   "cell_type": "code",
   "execution_count": null,
   "id": "ad51f3ba",
   "metadata": {},
   "outputs": [],
   "source": []
  }
 ],
 "metadata": {
  "kernelspec": {
   "display_name": "Python 3",
   "language": "python",
   "name": "python3"
  },
  "language_info": {
   "codemirror_mode": {
    "name": "ipython",
    "version": 3
   },
   "file_extension": ".py",
   "mimetype": "text/x-python",
   "name": "python",
   "nbconvert_exporter": "python",
   "pygments_lexer": "ipython3",
   "version": "3.8.8"
  }
 },
 "nbformat": 4,
 "nbformat_minor": 5
}
